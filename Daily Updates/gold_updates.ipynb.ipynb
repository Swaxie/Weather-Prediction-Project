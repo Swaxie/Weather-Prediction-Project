{
 "cells": [
  {
   "cell_type": "code",
   "execution_count": 0,
   "metadata": {
    "application/vnd.databricks.v1+cell": {
     "cellMetadata": {
      "byteLimit": 2048000,
      "rowLimit": 10000
     },
     "inputWidgets": {},
     "nuid": "cc654548-21b0-43d2-87c2-c0c40b7febbb",
     "showTitle": false,
     "tableResultSettingsMap": {},
     "title": ""
    }
   },
   "outputs": [
    {
     "output_type": "stream",
     "name": "stdout",
     "output_type": "stream",
     "text": [
      "daily_historical_forecast_update.parquet\ndaily_historical_update.parquet\nhourly_historical_forecast_update.parquet\nhourly_historical_update.parquet\n"
     ]
    }
   ],
   "source": [
    "container_name = \"de-upskilling-weather\"\n",
    "folder_name = \"Silver/Updates\"\n",
    "\n",
    "file_names = dbutils.fs.ls(f\"/mnt/{container_name}/{folder_name}\")\n",
    "\n",
    "parquet_files = [file_info.name.replace(\".parquet/\", \".parquet\") for file_info in file_names]\n",
    "\n",
    "\n",
    "for file_name in parquet_files:\n",
    "    print(file_name)"
   ]
  },
  {
   "cell_type": "code",
   "execution_count": 0,
   "metadata": {
    "application/vnd.databricks.v1+cell": {
     "cellMetadata": {
      "byteLimit": 2048000,
      "rowLimit": 10000
     },
     "inputWidgets": {},
     "nuid": "00c170fb-c6bb-4225-9050-f2b0da8524e4",
     "showTitle": false,
     "tableResultSettingsMap": {},
     "title": ""
    },
    "tags": [],
    "trusted": true
   },
   "outputs": [
    {
     "output_type": "stream",
     "name": "stdout",
     "output_type": "stream",
     "text": [
      "Parquet file names containing 'daily':\ndaily_historical_forecast_update.parquet\ndaily_historical_update.parquet\n"
     ]
    }
   ],
   "source": [
    "# Filter for file names that contain \"daily\"\n",
    "daily_files = [file_name for file_name in parquet_files if \"daily\" in file_name]\n",
    "\n",
    "# Print the filtered list\n",
    "print(\"Parquet file names containing 'daily':\")\n",
    "for file_name in daily_files:\n",
    "    print(file_name)"
   ]
  },
  {
   "cell_type": "code",
   "execution_count": 0,
   "metadata": {
    "application/vnd.databricks.v1+cell": {
     "cellMetadata": {
      "byteLimit": 2048000,
      "rowLimit": 10000
     },
     "inputWidgets": {},
     "nuid": "14d82fbb-2399-48af-93c6-d357570ad548",
     "showTitle": false,
     "tableResultSettingsMap": {},
     "title": ""
    },
    "tags": [],
    "trusted": true
   },
   "outputs": [],
   "source": [
    "df_cities = spark.read.parquet(f\"/mnt/{container_name}/Silver/cities_dim.parquet\")\n",
    "\n",
    "df_cities_daily = df_cities.select(\"city\", \"country\", \"latitude\", \"longitude\")"
   ]
  },
  {
   "cell_type": "code",
   "execution_count": 0,
   "metadata": {
    "application/vnd.databricks.v1+cell": {
     "cellMetadata": {
      "byteLimit": 2048000,
      "rowLimit": 10000
     },
     "inputWidgets": {},
     "nuid": "4f18e392-5b93-4a92-a513-40f1aff38a8c",
     "showTitle": false,
     "tableResultSettingsMap": {},
     "title": ""
    },
    "tags": [],
    "trusted": true
   },
   "outputs": [
    {
     "output_type": "stream",
     "name": "stdout",
     "output_type": "stream",
     "text": [
      "Parquet file names containing 'daily':\nroot\n |-- latitude: double (nullable = true)\n |-- longitude: double (nullable = true)\n |-- temperature_2m_max: double (nullable = true)\n |-- temperature_2m_min: double (nullable = true)\n |-- apparent_temperature_max: double (nullable = true)\n |-- apparent_temperature_min: double (nullable = true)\n |-- precipitation_sum: double (nullable = true)\n |-- rain_sum: double (nullable = true)\n |-- showers_sum: double (nullable = true)\n |-- snowfall_sum: double (nullable = true)\n |-- wind_speed_10m_max: double (nullable = true)\n |-- wind_gusts_10m_max: double (nullable = true)\n |-- wind_direction_10m_dominant: double (nullable = true)\n |-- month: integer (nullable = true)\n |-- day: integer (nullable = true)\n |-- year: integer (nullable = true)\n |-- city: string (nullable = true)\n |-- country: string (nullable = true)\n\nNone\n3225\nroot\n |-- latitude: double (nullable = true)\n |-- longitude: double (nullable = true)\n |-- temperature_2m_max: double (nullable = true)\n |-- temperature_2m_min: double (nullable = true)\n |-- temperature_2m_mean: double (nullable = true)\n |-- apparent_temperature_max: double (nullable = true)\n |-- apparent_temperature_min: double (nullable = true)\n |-- apparent_temperature_mean: double (nullable = true)\n |-- precipitation_sum: double (nullable = true)\n |-- rain_sum: double (nullable = true)\n |-- snowfall_sum: double (nullable = true)\n |-- wind_speed_10m_max: double (nullable = true)\n |-- wind_gusts_10m_max: double (nullable = true)\n |-- wind_direction_10m_dominant: double (nullable = true)\n |-- month: integer (nullable = true)\n |-- day: integer (nullable = true)\n |-- year: integer (nullable = true)\n |-- city: string (nullable = true)\n |-- country: string (nullable = true)\n\nNone\n25\n"
     ]
    }
   ],
   "source": [
    "print(\"Parquet file names containing 'daily':\")\n",
    "\n",
    "for file_name in daily_files:\n",
    "    \n",
    "    df_daily = spark.read.parquet(f\"/mnt/{container_name}/{folder_name}/{file_name}\")\n",
    "    \n",
    "    df_daily = df_daily.join(df_cities_daily, on=['latitude', 'longitude'])\n",
    "    \n",
    "    print(df_daily.printSchema())\n",
    "    print(df_daily.count())\n",
    "    \n",
    "    \n",
    "    df_daily.write.mode(\"overwrite\").partitionBy(\"city\", \"year\").parquet(f\"/mnt/{container_name}/Gold/Updates/{file_name}\")"
   ]
  },
  {
   "cell_type": "code",
   "execution_count": 0,
   "metadata": {
    "application/vnd.databricks.v1+cell": {
     "cellMetadata": {
      "byteLimit": 2048000,
      "rowLimit": 10000
     },
     "inputWidgets": {},
     "nuid": "6c3c5bcb-7463-46ed-982f-6b76064dc3f0",
     "showTitle": false,
     "tableResultSettingsMap": {},
     "title": ""
    },
    "tags": [],
    "trusted": true
   },
   "outputs": [
    {
     "output_type": "execute_result",
     "data": {
      "text/plain": [
       "['hourly_historical_forecast_update.parquet',\n",
       " 'hourly_historical_update.parquet']"
      ]
     },
     "execution_count": 5,
     "metadata": {},
     "output_type": "execute_result"
    }
   ],
   "source": [
    "hourly_files = [file_name for file_name in parquet_files if \"hourly\" in file_name]\n",
    "hourly_files"
   ]
  },
  {
   "cell_type": "code",
   "execution_count": 0,
   "metadata": {
    "application/vnd.databricks.v1+cell": {
     "cellMetadata": {
      "byteLimit": 2048000,
      "rowLimit": 10000
     },
     "inputWidgets": {},
     "nuid": "b37a30bd-701e-41c0-a11e-1dde804a11a2",
     "showTitle": false,
     "tableResultSettingsMap": {},
     "title": ""
    }
   },
   "outputs": [],
   "source": [
    "# write hourly dfs to gold"
   ]
  },
  {
   "cell_type": "code",
   "execution_count": 0,
   "metadata": {
    "application/vnd.databricks.v1+cell": {
     "cellMetadata": {
      "byteLimit": 2048000,
      "rowLimit": 10000
     },
     "inputWidgets": {},
     "nuid": "1b3a435c-0dc4-4923-8980-0e40f096ac1b",
     "showTitle": false,
     "tableResultSettingsMap": {},
     "title": ""
    },
    "tags": [],
    "trusted": true
   },
   "outputs": [
    {
     "output_type": "stream",
     "name": "stdout",
     "output_type": "stream",
     "text": [
      "+---------+---------+-----------------+--------------------+-------------+----+-------+--------+------------------+------------------+------------------+------------------+------------------+-------------------+------------------+--------+---+----+-----+----------+-------+---------+-------------------+----------+--------------+-------------------+\n| latitude|longitude|   temperature_2m|relative_humidity_2m|precipitation|rain|showers|snowfall|    wind_speed_10m|    wind_speed_80m|   wind_speed_120m|wind_direction_10m|wind_direction_80m|wind_direction_120m|    wind_gusts_10m|    time|day|year|month|      city|country|time_zone|           datetime| Unix_Time|offset_seconds|         Local_Time|\n+---------+---------+-----------------+--------------------+-------------+----+-------+--------+------------------+------------------+------------------+------------------+------------------+-------------------+------------------+--------+---+----+-----+----------+-------+---------+-------------------+----------+--------------+-------------------+\n|55.676098|12.568337|8.912999153137207|                85.0|          0.0| 0.0|    0.0|     0.0|19.079999923706055|29.427658081054688|  34.0709114074707|              17.0|14.886319160461426| 15.945463180541992| 39.23999786376953|05:00:00|  3|2024|   10|Copenhagen|Denmark|    +1:00|2024-10-03 05:00:00|1727931600|        3600.0|2024-10-03 06:00:00|\n|55.676098|12.568337|9.512999534606934|                82.0|          0.0| 0.0|    0.0|     0.0|20.880001068115234|27.887802124023438|32.409996032714844|              16.0|11.164850234985352|  12.18364143371582|39.599998474121094|04:00:00|  3|2024|   10|Copenhagen|Denmark|    +1:00|2024-10-03 04:00:00|1727928000|        3600.0|2024-10-03 05:00:00|\n|55.676098|12.568337| 9.71299934387207|                81.0|          0.0| 0.0|    0.0|     0.0|19.799999237060547|26.632699966430664|30.911821365356445|              17.0|13.284886360168457| 14.845501899719238| 38.15999984741211|03:00:00|  3|2024|   10|Copenhagen|Denmark|    +1:00|2024-10-03 03:00:00|1727924400|        3600.0|2024-10-03 04:00:00|\n|55.676098|12.568337|9.912999153137207|                77.0|          0.0| 0.0|    0.0|     0.0|20.880001068115234| 26.55472755432129| 30.86147117614746|              19.0|15.732074737548828| 16.955402374267578| 42.47999954223633|02:00:00|  3|2024|   10|Copenhagen|Denmark|    +1:00|2024-10-03 02:00:00|1727920800|        3600.0|2024-10-03 03:00:00|\n|55.676098|12.568337|10.11299991607666|                76.0|          0.0| 0.0|    0.0|     0.0| 22.68000030517578|27.553525924682617|31.651350021362305|              23.0|17.488088607788086| 19.259387969970703|42.839996337890625|01:00:00|  3|2024|   10|Copenhagen|Denmark|    +1:00|2024-10-03 01:00:00|1727917200|        3600.0|2024-10-03 02:00:00|\n+---------+---------+-----------------+--------------------+-------------+----+-------+--------+------------------+------------------+------------------+------------------+------------------+-------------------+------------------+--------+---+----+-----+----------+-------+---------+-------------------+----------+--------------+-------------------+\nonly showing top 5 rows\n\n+---------+---------+------------------+--------------------+-------------------+-------------------+--------+------------------+------------------+------------------+-------------------+------------------+------------------+-----------+-------------------+------------------+-----------------+--------+---+----+-----+---------+--------+---------+-------------------+----------+--------------+-------------------+\n| latitude|longitude|    temperature_2m|relative_humidity_2m|      precipitation|               rain|snowfall|    wind_speed_10m|   wind_speed_100m|wind_direction_10m|wind_direction_100m|    wind_gusts_10m|      dew_point_2m|cloud_cover|shortwave_radiation|      pressure_msl| surface_pressure|    time|day|year|month|     city| country|time_zone|           datetime| Unix_Time|offset_seconds|         Local_Time|\n+---------+---------+------------------+--------------------+-------------------+-------------------+--------+------------------+------------------+------------------+-------------------+------------------+------------------+-----------+-------------------+------------------+-----------------+--------+---+----+-----+---------+--------+---------+-------------------+----------+--------------+-------------------+\n|46.056946|14.505751|3.5820000171661377|   98.25296020507812|0.10000000149011612|0.10000000149011612|     0.0|1.0800000429153442| 2.174948215484619|             360.0|  335.5560607910156| 6.119999885559082|3.3320000171661377|      100.0|                0.0|1009.4000244140625|972.9464111328125|00:00:00|  7|2025|    1|Ljubljana|Slovenia|    +1:00|2025-01-07 00:00:00|1736208000|        3600.0|2025-01-07 01:00:00|\n|46.056946|14.505751| 6.881999969482422|      88.92431640625|                0.5|                0.5|     0.0|0.8999999761581421|  9.55357551574707| 323.1300048828125| 222.70936584472656|15.480000495910645| 5.182000160217285|      100.0|                0.0|1008.2999877929688|972.3058471679688|01:00:00|  7|2025|    1|Ljubljana|Slovenia|    +1:00|2025-01-07 01:00:00|1736211600|        3600.0|2025-01-07 02:00:00|\n|46.056946|14.505751| 6.082000255584717|    88.8569564819336|                0.0|                0.0|     0.0|0.8999999761581421| 5.247856616973877|             360.0|  239.0363006591797| 6.119999885559082| 4.381999969482422|      100.0|                0.0|            1008.0|971.9156494140625|02:00:00|  7|2025|    1|Ljubljana|Slovenia|    +1:00|2025-01-07 02:00:00|1736215200|        3600.0|2025-01-07 03:00:00|\n|46.056946|14.505751|4.0320000648498535|   93.19682312011719|                0.0|                0.0|     0.0|2.3469126224517822|3.7585103511810303|355.60137939453125|  343.3006896972656| 6.479999542236328|3.0319998264312744|       94.0|                0.0|1007.7000122070312|971.3653564453125|03:00:00|  7|2025|    1|Ljubljana|Slovenia|    +1:00|2025-01-07 03:00:00|1736218800|        3600.0|2025-01-07 04:00:00|\n|46.056946|14.505751| 3.181999921798706|   98.59566497802734|0.20000000298023224|0.20000000298023224|     0.0|1.4843180179595947|  4.27855110168457| 345.9637145996094| 14.620925903320312| 6.839999675750732|2.9819998741149902|      100.0|                0.0|1007.9000244140625|971.4487915039062|04:00:00|  7|2025|    1|Ljubljana|Slovenia|    +1:00|2025-01-07 04:00:00|1736222400|        3600.0|2025-01-07 05:00:00|\n+---------+---------+------------------+--------------------+-------------------+-------------------+--------+------------------+------------------+------------------+-------------------+------------------+------------------+-----------+-------------------+------------------+-----------------+--------+---+----+-----+---------+--------+---------+-------------------+----------+--------------+-------------------+\nonly showing top 5 rows\n\n"
     ]
    }
   ],
   "source": [
    "from pyspark.sql.functions import col, from_unixtime, expr, split\n",
    "from pyspark.sql import functions as F\n",
    "\n",
    "\n",
    "for file_name in hourly_files:\n",
    "    \n",
    "    df_hourly = spark.read.parquet(f\"/mnt/{container_name}/{folder_name}/{file_name}\")\n",
    "    \n",
    "    df_hourly = df_hourly.join(df_cities, on=['latitude', 'longitude'])\n",
    "    \n",
    "    # Combine year, month, day, and time into a single datetime string\n",
    "    df_with_datetime = df_hourly.withColumn(\n",
    "        \"datetime\",\n",
    "        F.concat_ws(\n",
    "            \" \",\n",
    "            F.concat_ws(\"-\", F.col(\"year\"), F.lpad(F.col(\"month\"), 2, \"0\"), F.lpad(F.col(\"day\"), 2, \"0\")),\n",
    "            F.col(\"time\")\n",
    "        )\n",
    "    )\n",
    "\n",
    "    # Convert the datetime string to UNIX timestamp\n",
    "    df_with_unix_time = df_with_datetime.withColumn(\n",
    "        \"Unix_Time\",\n",
    "        F.unix_timestamp(F.col(\"datetime\"), \"yyyy-MM-dd HH:mm:ss\")\n",
    "    )\n",
    "\n",
    "    \n",
    "    \n",
    "    # Split the offset into hours and minutes\n",
    "    local_df = df_with_unix_time.withColumn(\"offset_seconds\",\n",
    "        (split(col(\"time_zone\"), \":\")[0].cast(\"int\") * 3600) +  # Hours to seconds\n",
    "        (split(col(\"time_zone\"), \":\")[1].cast(\"int\") * 60 * expr(\"sign(split(time_zone, ':')[0])\"))  # Minutes to seconds, adjust sign\n",
    "    )\n",
    "\n",
    "    # Convert UTC time to local time\n",
    "    local_df = local_df.withColumn(\n",
    "        \"Local_Time\",\n",
    "        from_unixtime(col(\"Unix_Time\") + col(\"offset_seconds\"))\n",
    "    )\n",
    "\n",
    "    local_df.show(5)\n",
    "\n",
    "    local_df.write.mode(\"overwrite\").partitionBy(\"city\", \"year\").parquet(f\"/mnt/{container_name}/Gold/Updates/{file_name}\")"
   ]
  }
 ],
 "metadata": {
  "application/vnd.databricks.v1+notebook": {
   "computePreferences": null,
   "dashboards": [],
   "environmentMetadata": null,
   "language": "python",
   "notebookMetadata": {
    "pythonIndentUnit": 4
   },
   "notebookName": "gold_updates.ipynb",
   "widgets": {}
  },
  "kernelspec": {
   "display_name": "Glue PySpark",
   "language": "python",
   "name": "glue_pyspark"
  },
  "language_info": {
   "name": "python"
  }
 },
 "nbformat": 4,
 "nbformat_minor": 0
}