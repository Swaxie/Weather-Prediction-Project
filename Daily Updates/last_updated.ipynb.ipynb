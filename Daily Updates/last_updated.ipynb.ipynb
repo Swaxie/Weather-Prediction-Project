{
 "cells": [
  {
   "cell_type": "markdown",
   "metadata": {
    "application/vnd.databricks.v1+cell": {
     "cellMetadata": {},
     "inputWidgets": {},
     "nuid": "2d8438bb-2586-4a44-8215-0eaa0ae5ce05",
     "showTitle": false,
     "tableResultSettingsMap": {},
     "title": ""
    },
    "editable": true,
    "trusted": true
   },
   "source": [
    "# Notebook that creates a parquet file in the gold layer with the date each file has been last updated\n"
   ]
  },
  {
   "cell_type": "code",
   "execution_count": 0,
   "metadata": {
    "application/vnd.databricks.v1+cell": {
     "cellMetadata": {
      "byteLimit": 2048000,
      "rowLimit": 10000
     },
     "inputWidgets": {},
     "nuid": "9556166a-45cc-4f86-9802-d0b465cd8ce6",
     "showTitle": false,
     "tableResultSettingsMap": {},
     "title": ""
    }
   },
   "outputs": [],
   "source": [
    "from pyspark.sql.types import StructType, StructField, StringType\n",
    "\n",
    "container_name = 'de-upskilling-weather'\n",
    "\n",
    "schema = StructType([\n",
    "    StructField(\"file_name\", StringType(), True),\n",
    "    StructField(\"latest_data\", StringType(), True),\n",
    "    StructField(\"date_updated\", StringType(), True)\n",
    "])\n",
    "\n",
    "# Create empty DataFrame\n",
    "log_df = spark.createDataFrame([], schema)"
   ]
  },
  {
   "cell_type": "code",
   "execution_count": 0,
   "metadata": {
    "application/vnd.databricks.v1+cell": {
     "cellMetadata": {
      "byteLimit": 2048000,
      "rowLimit": 10000
     },
     "inputWidgets": {},
     "nuid": "7fa5241b-78bd-4aca-80da-8e8bcf312d70",
     "showTitle": false,
     "tableResultSettingsMap": {},
     "title": ""
    }
   },
   "outputs": [
    {
     "output_type": "display_data",
     "data": {
      "text/html": [
       "<style scoped>\n",
       "  .table-result-container {\n",
       "    max-height: 300px;\n",
       "    overflow: auto;\n",
       "  }\n",
       "  table, th, td {\n",
       "    border: 1px solid black;\n",
       "    border-collapse: collapse;\n",
       "  }\n",
       "  th, td {\n",
       "    padding: 5px;\n",
       "  }\n",
       "  th {\n",
       "    text-align: left;\n",
       "  }\n",
       "</style><div class='table-result-container'><table class='table-result'><thead style='background-color: white'><tr><th>file_name</th><th>latest_data</th><th>date_updated</th></tr></thead><tbody></tbody></table></div>"
      ]
     },
     "metadata": {
      "application/vnd.databricks.v1+output": {
       "addedWidgets": {},
       "aggData": [],
       "aggError": "",
       "aggOverflow": false,
       "aggSchema": [],
       "aggSeriesLimitReached": false,
       "aggType": "",
       "arguments": {},
       "columnCustomDisplayInfos": {},
       "data": [],
       "datasetInfos": [],
       "dbfsResultPath": null,
       "isJsonSchema": true,
       "metadata": {},
       "overflow": false,
       "plotOptions": {
        "customPlotOptions": {},
        "displayType": "table",
        "pivotAggregation": null,
        "pivotColumns": null,
        "xColumns": null,
        "yColumns": null
       },
       "removedWidgets": [],
       "schema": [
        {
         "metadata": "{}",
         "name": "file_name",
         "type": "\"string\""
        },
        {
         "metadata": "{}",
         "name": "latest_data",
         "type": "\"string\""
        },
        {
         "metadata": "{}",
         "name": "date_updated",
         "type": "\"string\""
        }
       ],
       "type": "table"
      }
     },
     "output_type": "display_data"
    }
   ],
   "source": [
    "log_df.display()"
   ]
  },
  {
   "cell_type": "code",
   "execution_count": 0,
   "metadata": {
    "application/vnd.databricks.v1+cell": {
     "cellMetadata": {
      "byteLimit": 2048000,
      "rowLimit": 10000
     },
     "inputWidgets": {},
     "nuid": "58e6bbf0-e684-4105-adde-cedd0240412f",
     "showTitle": false,
     "tableResultSettingsMap": {},
     "title": ""
    }
   },
   "outputs": [],
   "source": [
    "log_df.write.mode(\"overwrite\").parquet(f\"/mnt/{container_name}/Gold/log.parquet\")"
   ]
  },
  {
   "cell_type": "code",
   "execution_count": 0,
   "metadata": {
    "application/vnd.databricks.v1+cell": {
     "cellMetadata": {
      "byteLimit": 2048000,
      "rowLimit": 10000
     },
     "inputWidgets": {},
     "nuid": "45090f7f-7b1b-4cd7-8294-d4d07a73c3f0",
     "showTitle": false,
     "tableResultSettingsMap": {},
     "title": ""
    }
   },
   "outputs": [
    {
     "output_type": "display_data",
     "data": {
      "text/html": [
       "<style scoped>\n",
       "  .table-result-container {\n",
       "    max-height: 300px;\n",
       "    overflow: auto;\n",
       "  }\n",
       "  table, th, td {\n",
       "    border: 1px solid black;\n",
       "    border-collapse: collapse;\n",
       "  }\n",
       "  th, td {\n",
       "    padding: 5px;\n",
       "  }\n",
       "  th {\n",
       "    text-align: left;\n",
       "  }\n",
       "</style><div class='table-result-container'><table class='table-result'><thead style='background-color: white'><tr><th>file_name</th><th>latest_data</th><th>date_updated</th></tr></thead><tbody><tr><td>daily_historical.parquet</td><td>2024-09-01</td><td>2024-12-11 14:15:17</td></tr><tr><td>daily_historical_forecast.parquet</td><td>2024-09-01</td><td>2024-12-10 16:48:03</td></tr><tr><td>hourly_historical.parquet</td><td>2024-09-01</td><td>2024-12-10 16:40:39</td></tr><tr><td>hourly_historical_forecast.parquet</td><td>2024-09-01</td><td>2024-12-10 16:38:55</td></tr><tr><td>daily_historical.parquet</td><td>2024-12-10</td><td>2024-12-12 14:10:28</td></tr><tr><td>daily_historical_forecast.parquet</td><td>2024-12-10</td><td>2024-12-12 14:10:53</td></tr><tr><td>hourly_historical.parquet</td><td>2024-12-10</td><td>2024-12-12 14:10:31</td></tr><tr><td>hourly_historical_forecast.parquet</td><td>2024-12-10</td><td>2024-12-12 14:38:49</td></tr><tr><td>daily_historical.parquet</td><td>2024-12-11</td><td>2024-12-13 15:30:14</td></tr><tr><td>daily_historical_forecast.parquet</td><td>2024-12-11</td><td>2024-12-13 15:33:33</td></tr><tr><td>hourly_historical.parquet</td><td>2024-12-11</td><td>2024-12-13 15:29:18</td></tr><tr><td>daily_historical.parquet</td><td>2024-12-14</td><td>2024-12-16 14:32:45</td></tr><tr><td>daily_historical_forecast.parquet</td><td>2024-12-14</td><td>2024-12-16 14:32:46</td></tr><tr><td>hourly_historical.parquet</td><td>2024-12-14</td><td>2024-12-16 14:32:47</td></tr><tr><td>hourly_historical_forecast.parquet</td><td>2024-12-14</td><td>2024-12-16 14:32:46</td></tr><tr><td>daily_historical.parquet</td><td>2024-12-15</td><td>2024-12-17 14:08:27</td></tr><tr><td>daily_historical_forecast.parquet</td><td>2024-12-15</td><td>2024-12-17 14:08:28</td></tr><tr><td>hourly_historical.parquet</td><td>2024-12-15</td><td>2024-12-17 14:08:31</td></tr><tr><td>daily_historical.parquet</td><td>2024-12-16</td><td>2024-12-18 14:07:03</td></tr><tr><td>daily_historical_forecast.parquet</td><td>2024-12-16</td><td>2024-12-18 14:07:20</td></tr><tr><td>hourly_historical.parquet</td><td>2024-12-16</td><td>2024-12-18 14:07:13</td></tr><tr><td>hourly_historical_forecast.parquet</td><td>2024-12-16</td><td>2024-12-18 14:07:14</td></tr><tr><td>daily_historical.parquet</td><td>2024-12-17</td><td>2024-12-19 16:30:25</td></tr><tr><td>daily_historical_forecast.parquet</td><td>2024-12-17</td><td>2024-12-19 16:31:00</td></tr><tr><td>hourly_historical.parquet</td><td>2024-12-17</td><td>2024-12-19 16:29:28</td></tr><tr><td>hourly_historical_forecast.parquet</td><td>2024-12-17</td><td>2024-12-19 16:30:08</td></tr></tbody></table></div>"
      ]
     },
     "metadata": {
      "application/vnd.databricks.v1+output": {
       "addedWidgets": {},
       "aggData": [],
       "aggError": "",
       "aggOverflow": false,
       "aggSchema": [],
       "aggSeriesLimitReached": false,
       "aggType": "",
       "arguments": {},
       "columnCustomDisplayInfos": {},
       "data": [
        [
         "daily_historical.parquet",
         "2024-09-01",
         "2024-12-11 14:15:17"
        ],
        [
         "daily_historical_forecast.parquet",
         "2024-09-01",
         "2024-12-10 16:48:03"
        ],
        [
         "hourly_historical.parquet",
         "2024-09-01",
         "2024-12-10 16:40:39"
        ],
        [
         "hourly_historical_forecast.parquet",
         "2024-09-01",
         "2024-12-10 16:38:55"
        ],
        [
         "daily_historical.parquet",
         "2024-12-10",
         "2024-12-12 14:10:28"
        ],
        [
         "daily_historical_forecast.parquet",
         "2024-12-10",
         "2024-12-12 14:10:53"
        ],
        [
         "hourly_historical.parquet",
         "2024-12-10",
         "2024-12-12 14:10:31"
        ],
        [
         "hourly_historical_forecast.parquet",
         "2024-12-10",
         "2024-12-12 14:38:49"
        ],
        [
         "daily_historical.parquet",
         "2024-12-11",
         "2024-12-13 15:30:14"
        ],
        [
         "daily_historical_forecast.parquet",
         "2024-12-11",
         "2024-12-13 15:33:33"
        ],
        [
         "hourly_historical.parquet",
         "2024-12-11",
         "2024-12-13 15:29:18"
        ],
        [
         "daily_historical.parquet",
         "2024-12-14",
         "2024-12-16 14:32:45"
        ],
        [
         "daily_historical_forecast.parquet",
         "2024-12-14",
         "2024-12-16 14:32:46"
        ],
        [
         "hourly_historical.parquet",
         "2024-12-14",
         "2024-12-16 14:32:47"
        ],
        [
         "hourly_historical_forecast.parquet",
         "2024-12-14",
         "2024-12-16 14:32:46"
        ],
        [
         "daily_historical.parquet",
         "2024-12-15",
         "2024-12-17 14:08:27"
        ],
        [
         "daily_historical_forecast.parquet",
         "2024-12-15",
         "2024-12-17 14:08:28"
        ],
        [
         "hourly_historical.parquet",
         "2024-12-15",
         "2024-12-17 14:08:31"
        ],
        [
         "daily_historical.parquet",
         "2024-12-16",
         "2024-12-18 14:07:03"
        ],
        [
         "daily_historical_forecast.parquet",
         "2024-12-16",
         "2024-12-18 14:07:20"
        ],
        [
         "hourly_historical.parquet",
         "2024-12-16",
         "2024-12-18 14:07:13"
        ],
        [
         "hourly_historical_forecast.parquet",
         "2024-12-16",
         "2024-12-18 14:07:14"
        ],
        [
         "daily_historical.parquet",
         "2024-12-17",
         "2024-12-19 16:30:25"
        ],
        [
         "daily_historical_forecast.parquet",
         "2024-12-17",
         "2024-12-19 16:31:00"
        ],
        [
         "hourly_historical.parquet",
         "2024-12-17",
         "2024-12-19 16:29:28"
        ],
        [
         "hourly_historical_forecast.parquet",
         "2024-12-17",
         "2024-12-19 16:30:08"
        ]
       ],
       "datasetInfos": [],
       "dbfsResultPath": null,
       "isJsonSchema": true,
       "metadata": {},
       "overflow": false,
       "plotOptions": {
        "customPlotOptions": {},
        "displayType": "table",
        "pivotAggregation": null,
        "pivotColumns": null,
        "xColumns": null,
        "yColumns": null
       },
       "removedWidgets": [],
       "schema": [
        {
         "metadata": "{}",
         "name": "file_name",
         "type": "\"string\""
        },
        {
         "metadata": "{}",
         "name": "latest_data",
         "type": "\"string\""
        },
        {
         "metadata": "{}",
         "name": "date_updated",
         "type": "\"string\""
        }
       ],
       "type": "table"
      }
     },
     "output_type": "display_data"
    }
   ],
   "source": [
    "container_name = 'de-upskilling-weather'\n",
    "\n",
    "df_update = spark.read.parquet(f\"/mnt/{container_name}/Gold/log.parquet\")\n",
    "\n",
    "df_update.orderBy(df_update.latest_data, df_update.file_name).display()"
   ]
  },
  {
   "cell_type": "code",
   "execution_count": 0,
   "metadata": {
    "application/vnd.databricks.v1+cell": {
     "cellMetadata": {
      "byteLimit": 2048000,
      "rowLimit": 10000
     },
     "inputWidgets": {},
     "nuid": "e24a3c28-9563-4fb2-a499-cb72f027d0b4",
     "showTitle": false,
     "tableResultSettingsMap": {},
     "title": ""
    }
   },
   "outputs": [
    {
     "output_type": "display_data",
     "data": {
      "text/html": [
       "<style scoped>\n",
       "  .table-result-container {\n",
       "    max-height: 300px;\n",
       "    overflow: auto;\n",
       "  }\n",
       "  table, th, td {\n",
       "    border: 1px solid black;\n",
       "    border-collapse: collapse;\n",
       "  }\n",
       "  th, td {\n",
       "    padding: 5px;\n",
       "  }\n",
       "  th {\n",
       "    text-align: left;\n",
       "  }\n",
       "</style><div class='table-result-container'><table class='table-result'><thead style='background-color: white'><tr><th>file_name</th><th>latest_data</th><th>date_updated</th></tr></thead><tbody><tr><td>daily_historical.parquet</td><td>2024-09-01</td><td>2024-12-11 14:15:17</td></tr><tr><td>daily_historical_forecast.parquet</td><td>2024-09-01</td><td>2024-12-10 16:48:03</td></tr><tr><td>hourly_historical.parquet</td><td>2024-09-01</td><td>2024-12-10 16:40:39</td></tr><tr><td>hourly_historical_forecast.parquet</td><td>2024-09-01</td><td>2024-12-10 16:38:55</td></tr><tr><td>daily_historical.parquet</td><td>2024-12-10</td><td>2024-12-12 14:10:28</td></tr><tr><td>daily_historical_forecast.parquet</td><td>2024-12-10</td><td>2024-12-12 14:10:53</td></tr><tr><td>hourly_historical.parquet</td><td>2024-12-10</td><td>2024-12-12 14:10:31</td></tr><tr><td>hourly_historical_forecast.parquet</td><td>2024-12-10</td><td>2024-12-12 14:38:49</td></tr><tr><td>daily_historical.parquet</td><td>2024-12-11</td><td>2024-12-13 15:30:14</td></tr><tr><td>daily_historical_forecast.parquet</td><td>2024-12-11</td><td>2024-12-13 15:33:33</td></tr><tr><td>hourly_historical.parquet</td><td>2024-12-11</td><td>2024-12-13 15:29:18</td></tr><tr><td>daily_historical.parquet</td><td>2024-12-14</td><td>2024-12-16 14:32:45</td></tr><tr><td>daily_historical_forecast.parquet</td><td>2024-12-14</td><td>2024-12-16 14:32:46</td></tr><tr><td>hourly_historical.parquet</td><td>2024-12-14</td><td>2024-12-16 14:32:47</td></tr><tr><td>hourly_historical_forecast.parquet</td><td>2024-12-14</td><td>2024-12-16 14:32:46</td></tr><tr><td>daily_historical.parquet</td><td>2024-12-15</td><td>2024-12-17 14:08:27</td></tr><tr><td>daily_historical_forecast.parquet</td><td>2024-12-15</td><td>2024-12-17 14:08:28</td></tr><tr><td>hourly_historical.parquet</td><td>2024-12-15</td><td>2024-12-17 14:08:31</td></tr><tr><td>daily_historical.parquet</td><td>2024-12-16</td><td>2024-12-18 14:07:03</td></tr><tr><td>daily_historical_forecast.parquet</td><td>2024-12-16</td><td>2024-12-18 14:07:20</td></tr><tr><td>hourly_historical.parquet</td><td>2024-12-16</td><td>2024-12-18 14:07:13</td></tr><tr><td>hourly_historical_forecast.parquet</td><td>2024-12-16</td><td>2024-12-18 14:07:14</td></tr></tbody></table></div>"
      ]
     },
     "metadata": {
      "application/vnd.databricks.v1+output": {
       "addedWidgets": {},
       "aggData": [],
       "aggError": "",
       "aggOverflow": false,
       "aggSchema": [],
       "aggSeriesLimitReached": false,
       "aggType": "",
       "arguments": {},
       "columnCustomDisplayInfos": {},
       "data": [
        [
         "daily_historical.parquet",
         "2024-09-01",
         "2024-12-11 14:15:17"
        ],
        [
         "daily_historical_forecast.parquet",
         "2024-09-01",
         "2024-12-10 16:48:03"
        ],
        [
         "hourly_historical.parquet",
         "2024-09-01",
         "2024-12-10 16:40:39"
        ],
        [
         "hourly_historical_forecast.parquet",
         "2024-09-01",
         "2024-12-10 16:38:55"
        ],
        [
         "daily_historical.parquet",
         "2024-12-10",
         "2024-12-12 14:10:28"
        ],
        [
         "daily_historical_forecast.parquet",
         "2024-12-10",
         "2024-12-12 14:10:53"
        ],
        [
         "hourly_historical.parquet",
         "2024-12-10",
         "2024-12-12 14:10:31"
        ],
        [
         "hourly_historical_forecast.parquet",
         "2024-12-10",
         "2024-12-12 14:38:49"
        ],
        [
         "daily_historical.parquet",
         "2024-12-11",
         "2024-12-13 15:30:14"
        ],
        [
         "daily_historical_forecast.parquet",
         "2024-12-11",
         "2024-12-13 15:33:33"
        ],
        [
         "hourly_historical.parquet",
         "2024-12-11",
         "2024-12-13 15:29:18"
        ],
        [
         "daily_historical.parquet",
         "2024-12-14",
         "2024-12-16 14:32:45"
        ],
        [
         "daily_historical_forecast.parquet",
         "2024-12-14",
         "2024-12-16 14:32:46"
        ],
        [
         "hourly_historical.parquet",
         "2024-12-14",
         "2024-12-16 14:32:47"
        ],
        [
         "hourly_historical_forecast.parquet",
         "2024-12-14",
         "2024-12-16 14:32:46"
        ],
        [
         "daily_historical.parquet",
         "2024-12-15",
         "2024-12-17 14:08:27"
        ],
        [
         "daily_historical_forecast.parquet",
         "2024-12-15",
         "2024-12-17 14:08:28"
        ],
        [
         "hourly_historical.parquet",
         "2024-12-15",
         "2024-12-17 14:08:31"
        ],
        [
         "daily_historical.parquet",
         "2024-12-16",
         "2024-12-18 14:07:03"
        ],
        [
         "daily_historical_forecast.parquet",
         "2024-12-16",
         "2024-12-18 14:07:20"
        ],
        [
         "hourly_historical.parquet",
         "2024-12-16",
         "2024-12-18 14:07:13"
        ],
        [
         "hourly_historical_forecast.parquet",
         "2024-12-16",
         "2024-12-18 14:07:14"
        ]
       ],
       "datasetInfos": [],
       "dbfsResultPath": null,
       "isJsonSchema": true,
       "metadata": {},
       "overflow": false,
       "plotOptions": {
        "customPlotOptions": {},
        "displayType": "table",
        "pivotAggregation": null,
        "pivotColumns": null,
        "xColumns": null,
        "yColumns": null
       },
       "removedWidgets": [],
       "schema": [
        {
         "metadata": "{}",
         "name": "file_name",
         "type": "\"string\""
        },
        {
         "metadata": "{}",
         "name": "latest_data",
         "type": "\"string\""
        },
        {
         "metadata": "{}",
         "name": "date_updated",
         "type": "\"string\""
        }
       ],
       "type": "table"
      }
     },
     "output_type": "display_data"
    }
   ],
   "source": [
    "filtered_df = df_update.filter(df_update.latest_data != \"2024-12-17\")\n",
    "\n",
    "filtered_df = filtered_df.orderBy(filtered_df.latest_data, filtered_df.file_name)\n",
    "\n",
    "filtered_df.display()"
   ]
  },
  {
   "cell_type": "code",
   "execution_count": 0,
   "metadata": {
    "application/vnd.databricks.v1+cell": {
     "cellMetadata": {
      "byteLimit": 2048000,
      "rowLimit": 10000
     },
     "inputWidgets": {},
     "nuid": "e6fc21fe-313b-4408-a465-d40ee57c7565",
     "showTitle": false,
     "tableResultSettingsMap": {},
     "title": ""
    }
   },
   "outputs": [],
   "source": [
    "filtered_df.write.mode(\"overwrite\").parquet(f\"/mnt/{container_name}/Gold/log.parquet\")"
   ]
  },
  {
   "cell_type": "code",
   "execution_count": 0,
   "metadata": {
    "application/vnd.databricks.v1+cell": {
     "cellMetadata": {
      "byteLimit": 2048000,
      "rowLimit": 10000
     },
     "inputWidgets": {},
     "nuid": "61200c02-687a-4f41-8b02-31aab458218b",
     "showTitle": false,
     "tableResultSettingsMap": {},
     "title": ""
    }
   },
   "outputs": [
    {
     "output_type": "display_data",
     "data": {
      "text/html": [
       "<style scoped>\n",
       "  .table-result-container {\n",
       "    max-height: 300px;\n",
       "    overflow: auto;\n",
       "  }\n",
       "  table, th, td {\n",
       "    border: 1px solid black;\n",
       "    border-collapse: collapse;\n",
       "  }\n",
       "  th, td {\n",
       "    padding: 5px;\n",
       "  }\n",
       "  th {\n",
       "    text-align: left;\n",
       "  }\n",
       "</style><div class='table-result-container'><table class='table-result'><thead style='background-color: white'><tr><th>file_name</th><th>latest_data</th><th>date_updated</th></tr></thead><tbody><tr><td>hourly_historical_forecast.parquet</td><td>2024-09-01</td><td>2024-12-10 16:38:55</td></tr><tr><td>hourly_historical.parquet</td><td>2024-09-01</td><td>2024-12-10 16:40:39</td></tr><tr><td>daily_historical_forecast.parquet</td><td>2024-09-01</td><td>2024-12-10 16:48:03</td></tr><tr><td>daily_historical.parquet</td><td>2024-09-01</td><td>2024-12-11 14:15:17</td></tr><tr><td>daily_historical.parquet</td><td>2024-12-10</td><td>2024-12-12 14:10:28</td></tr><tr><td>hourly_historical.parquet</td><td>2024-12-10</td><td>2024-12-12 14:10:31</td></tr><tr><td>daily_historical_forecast.parquet</td><td>2024-12-10</td><td>2024-12-12 14:10:53</td></tr><tr><td>hourly_historical_forecast.parquet</td><td>2024-12-10</td><td>2024-12-12 14:38:49</td></tr><tr><td>hourly_historical.parquet</td><td>2024-12-11</td><td>2024-12-13 15:29:18</td></tr><tr><td>daily_historical.parquet</td><td>2024-12-11</td><td>2024-12-13 15:30:14</td></tr><tr><td>daily_historical_forecast.parquet</td><td>2024-12-11</td><td>2024-12-13 15:33:33</td></tr><tr><td>daily_historical.parquet</td><td>2024-12-14</td><td>2024-12-16 14:32:45</td></tr><tr><td>daily_historical_forecast.parquet</td><td>2024-12-14</td><td>2024-12-16 14:32:46</td></tr><tr><td>hourly_historical_forecast.parquet</td><td>2024-12-14</td><td>2024-12-16 14:32:46</td></tr><tr><td>hourly_historical.parquet</td><td>2024-12-14</td><td>2024-12-16 14:32:47</td></tr><tr><td>daily_historical.parquet</td><td>2024-12-15</td><td>2024-12-17 14:08:27</td></tr><tr><td>daily_historical_forecast.parquet</td><td>2024-12-15</td><td>2024-12-17 14:08:28</td></tr><tr><td>hourly_historical.parquet</td><td>2024-12-15</td><td>2024-12-17 14:08:31</td></tr><tr><td>daily_historical.parquet</td><td>2024-12-16</td><td>2024-12-18 14:07:03</td></tr><tr><td>hourly_historical.parquet</td><td>2024-12-16</td><td>2024-12-18 14:07:13</td></tr><tr><td>hourly_historical_forecast.parquet</td><td>2024-12-16</td><td>2024-12-18 14:07:14</td></tr><tr><td>daily_historical_forecast.parquet</td><td>2024-12-16</td><td>2024-12-18 14:07:20</td></tr><tr><td>hourly_historical.parquet</td><td>2024-12-17</td><td>2024-12-19 16:53:51</td></tr><tr><td>hourly_historical_forecast.parquet</td><td>2024-12-17</td><td>2024-12-19 16:53:52</td></tr><tr><td>daily_historical.parquet</td><td>2024-12-17</td><td>2024-12-19 16:54:42</td></tr><tr><td>daily_historical_forecast.parquet</td><td>2024-12-17</td><td>2024-12-19 16:54:48</td></tr><tr><td>daily_historical.parquet</td><td>2024-12-18</td><td>2024-12-20 14:08:14</td></tr><tr><td>daily_historical_forecast.parquet</td><td>2024-12-18</td><td>2024-12-20 14:08:22</td></tr><tr><td>hourly_historical.parquet</td><td>2024-12-18</td><td>2024-12-20 14:08:25</td></tr><tr><td>hourly_historical_forecast.parquet</td><td>2024-12-18</td><td>2024-12-20 14:08:42</td></tr><tr><td>hourly_historical.parquet</td><td>2024-12-31</td><td>2025-01-02 14:28:32</td></tr><tr><td>hourly_historical_forecast.parquet</td><td>2024-12-31</td><td>2025-01-02 14:29:22</td></tr><tr><td>daily_historical.parquet</td><td>2024-12-31</td><td>2025-01-02 14:29:30</td></tr><tr><td>daily_historical_forecast.parquet</td><td>2024-12-31</td><td>2025-01-02 14:29:35</td></tr><tr><td>daily_historical.parquet</td><td>2025-01-01</td><td>2025-01-03 14:07:39</td></tr><tr><td>daily_historical_forecast.parquet</td><td>2025-01-01</td><td>2025-01-03 14:08:04</td></tr><tr><td>hourly_historical_forecast.parquet</td><td>2025-01-01</td><td>2025-01-03 14:08:28</td></tr><tr><td>hourly_historical.parquet</td><td>2025-01-01</td><td>2025-01-03 14:10:36</td></tr><tr><td>daily_historical.parquet</td><td>2025-01-02</td><td>2025-01-04 14:07:39</td></tr><tr><td>hourly_historical.parquet</td><td>2025-01-02</td><td>2025-01-04 14:07:54</td></tr><tr><td>daily_historical_forecast.parquet</td><td>2025-01-02</td><td>2025-01-04 14:08:00</td></tr><tr><td>daily_historical.parquet</td><td>2025-01-03</td><td>2025-01-05 14:07:20</td></tr><tr><td>daily_historical_forecast.parquet</td><td>2025-01-03</td><td>2025-01-05 14:07:41</td></tr><tr><td>daily_historical.parquet</td><td>2025-01-04</td><td>2025-01-06 14:07:09</td></tr><tr><td>daily_historical_forecast.parquet</td><td>2025-01-04</td><td>2025-01-06 14:07:31</td></tr><tr><td>hourly_historical_forecast.parquet</td><td>2025-01-04</td><td>2025-01-06 14:07:47</td></tr><tr><td>hourly_historical.parquet</td><td>2025-01-04</td><td>2025-01-06 14:12:14</td></tr><tr><td>daily_historical.parquet</td><td>2025-01-05</td><td>2025-01-07 14:09:23</td></tr><tr><td>hourly_historical.parquet</td><td>2025-01-05</td><td>2025-01-07 14:09:34</td></tr><tr><td>hourly_historical_forecast.parquet</td><td>2025-01-05</td><td>2025-01-07 14:10:11</td></tr><tr><td>daily_historical_forecast.parquet</td><td>2025-01-05</td><td>2025-01-07 14:15:12</td></tr><tr><td>daily_historical.parquet</td><td>2025-01-06</td><td>2025-01-08 14:07:28</td></tr><tr><td>hourly_historical.parquet</td><td>2025-01-06</td><td>2025-01-08 14:07:36</td></tr><tr><td>daily_historical_forecast.parquet</td><td>2025-01-06</td><td>2025-01-08 14:07:48</td></tr><tr><td>hourly_historical_forecast.parquet</td><td>2025-01-06</td><td>2025-01-08 14:08:05</td></tr></tbody></table></div>"
      ]
     },
     "metadata": {
      "application/vnd.databricks.v1+output": {
       "addedWidgets": {},
       "aggData": [],
       "aggError": "",
       "aggOverflow": false,
       "aggSchema": [],
       "aggSeriesLimitReached": false,
       "aggType": "",
       "arguments": {},
       "columnCustomDisplayInfos": {},
       "data": [
        [
         "hourly_historical_forecast.parquet",
         "2024-09-01",
         "2024-12-10 16:38:55"
        ],
        [
         "hourly_historical.parquet",
         "2024-09-01",
         "2024-12-10 16:40:39"
        ],
        [
         "daily_historical_forecast.parquet",
         "2024-09-01",
         "2024-12-10 16:48:03"
        ],
        [
         "daily_historical.parquet",
         "2024-09-01",
         "2024-12-11 14:15:17"
        ],
        [
         "daily_historical.parquet",
         "2024-12-10",
         "2024-12-12 14:10:28"
        ],
        [
         "hourly_historical.parquet",
         "2024-12-10",
         "2024-12-12 14:10:31"
        ],
        [
         "daily_historical_forecast.parquet",
         "2024-12-10",
         "2024-12-12 14:10:53"
        ],
        [
         "hourly_historical_forecast.parquet",
         "2024-12-10",
         "2024-12-12 14:38:49"
        ],
        [
         "hourly_historical.parquet",
         "2024-12-11",
         "2024-12-13 15:29:18"
        ],
        [
         "daily_historical.parquet",
         "2024-12-11",
         "2024-12-13 15:30:14"
        ],
        [
         "daily_historical_forecast.parquet",
         "2024-12-11",
         "2024-12-13 15:33:33"
        ],
        [
         "daily_historical.parquet",
         "2024-12-14",
         "2024-12-16 14:32:45"
        ],
        [
         "daily_historical_forecast.parquet",
         "2024-12-14",
         "2024-12-16 14:32:46"
        ],
        [
         "hourly_historical_forecast.parquet",
         "2024-12-14",
         "2024-12-16 14:32:46"
        ],
        [
         "hourly_historical.parquet",
         "2024-12-14",
         "2024-12-16 14:32:47"
        ],
        [
         "daily_historical.parquet",
         "2024-12-15",
         "2024-12-17 14:08:27"
        ],
        [
         "daily_historical_forecast.parquet",
         "2024-12-15",
         "2024-12-17 14:08:28"
        ],
        [
         "hourly_historical.parquet",
         "2024-12-15",
         "2024-12-17 14:08:31"
        ],
        [
         "daily_historical.parquet",
         "2024-12-16",
         "2024-12-18 14:07:03"
        ],
        [
         "hourly_historical.parquet",
         "2024-12-16",
         "2024-12-18 14:07:13"
        ],
        [
         "hourly_historical_forecast.parquet",
         "2024-12-16",
         "2024-12-18 14:07:14"
        ],
        [
         "daily_historical_forecast.parquet",
         "2024-12-16",
         "2024-12-18 14:07:20"
        ],
        [
         "hourly_historical.parquet",
         "2024-12-17",
         "2024-12-19 16:53:51"
        ],
        [
         "hourly_historical_forecast.parquet",
         "2024-12-17",
         "2024-12-19 16:53:52"
        ],
        [
         "daily_historical.parquet",
         "2024-12-17",
         "2024-12-19 16:54:42"
        ],
        [
         "daily_historical_forecast.parquet",
         "2024-12-17",
         "2024-12-19 16:54:48"
        ],
        [
         "daily_historical.parquet",
         "2024-12-18",
         "2024-12-20 14:08:14"
        ],
        [
         "daily_historical_forecast.parquet",
         "2024-12-18",
         "2024-12-20 14:08:22"
        ],
        [
         "hourly_historical.parquet",
         "2024-12-18",
         "2024-12-20 14:08:25"
        ],
        [
         "hourly_historical_forecast.parquet",
         "2024-12-18",
         "2024-12-20 14:08:42"
        ],
        [
         "hourly_historical.parquet",
         "2024-12-31",
         "2025-01-02 14:28:32"
        ],
        [
         "hourly_historical_forecast.parquet",
         "2024-12-31",
         "2025-01-02 14:29:22"
        ],
        [
         "daily_historical.parquet",
         "2024-12-31",
         "2025-01-02 14:29:30"
        ],
        [
         "daily_historical_forecast.parquet",
         "2024-12-31",
         "2025-01-02 14:29:35"
        ],
        [
         "daily_historical.parquet",
         "2025-01-01",
         "2025-01-03 14:07:39"
        ],
        [
         "daily_historical_forecast.parquet",
         "2025-01-01",
         "2025-01-03 14:08:04"
        ],
        [
         "hourly_historical_forecast.parquet",
         "2025-01-01",
         "2025-01-03 14:08:28"
        ],
        [
         "hourly_historical.parquet",
         "2025-01-01",
         "2025-01-03 14:10:36"
        ],
        [
         "daily_historical.parquet",
         "2025-01-02",
         "2025-01-04 14:07:39"
        ],
        [
         "hourly_historical.parquet",
         "2025-01-02",
         "2025-01-04 14:07:54"
        ],
        [
         "daily_historical_forecast.parquet",
         "2025-01-02",
         "2025-01-04 14:08:00"
        ],
        [
         "daily_historical.parquet",
         "2025-01-03",
         "2025-01-05 14:07:20"
        ],
        [
         "daily_historical_forecast.parquet",
         "2025-01-03",
         "2025-01-05 14:07:41"
        ],
        [
         "daily_historical.parquet",
         "2025-01-04",
         "2025-01-06 14:07:09"
        ],
        [
         "daily_historical_forecast.parquet",
         "2025-01-04",
         "2025-01-06 14:07:31"
        ],
        [
         "hourly_historical_forecast.parquet",
         "2025-01-04",
         "2025-01-06 14:07:47"
        ],
        [
         "hourly_historical.parquet",
         "2025-01-04",
         "2025-01-06 14:12:14"
        ],
        [
         "daily_historical.parquet",
         "2025-01-05",
         "2025-01-07 14:09:23"
        ],
        [
         "hourly_historical.parquet",
         "2025-01-05",
         "2025-01-07 14:09:34"
        ],
        [
         "hourly_historical_forecast.parquet",
         "2025-01-05",
         "2025-01-07 14:10:11"
        ],
        [
         "daily_historical_forecast.parquet",
         "2025-01-05",
         "2025-01-07 14:15:12"
        ],
        [
         "daily_historical.parquet",
         "2025-01-06",
         "2025-01-08 14:07:28"
        ],
        [
         "hourly_historical.parquet",
         "2025-01-06",
         "2025-01-08 14:07:36"
        ],
        [
         "daily_historical_forecast.parquet",
         "2025-01-06",
         "2025-01-08 14:07:48"
        ],
        [
         "hourly_historical_forecast.parquet",
         "2025-01-06",
         "2025-01-08 14:08:05"
        ]
       ],
       "datasetInfos": [],
       "dbfsResultPath": null,
       "isJsonSchema": true,
       "metadata": {},
       "overflow": false,
       "plotOptions": {
        "customPlotOptions": {},
        "displayType": "table",
        "pivotAggregation": null,
        "pivotColumns": null,
        "xColumns": null,
        "yColumns": null
       },
       "removedWidgets": [],
       "schema": [
        {
         "metadata": "{}",
         "name": "file_name",
         "type": "\"string\""
        },
        {
         "metadata": "{}",
         "name": "latest_data",
         "type": "\"string\""
        },
        {
         "metadata": "{}",
         "name": "date_updated",
         "type": "\"string\""
        }
       ],
       "type": "table"
      }
     },
     "output_type": "display_data"
    }
   ],
   "source": [
    "#container_name = 'de-upskilling-weather'\n",
    "#df = spark.read.parquet(f\"/mnt/{container_name}/Gold/log.parquet\")\n",
    "#df.orderBy(df.date_updated).display()"
   ]
  }
 ],
 "metadata": {
  "application/vnd.databricks.v1+notebook": {
   "computePreferences": null,
   "dashboards": [],
   "environmentMetadata": null,
   "language": "python",
   "notebookMetadata": {
    "pythonIndentUnit": 4
   },
   "notebookName": "last_updated.ipynb",
   "widgets": {}
  },
  "kernelspec": {
   "display_name": "Glue PySpark",
   "language": "python",
   "name": "glue_pyspark"
  },
  "language_info": {
   "name": "python"
  }
 },
 "nbformat": 4,
 "nbformat_minor": 0
}