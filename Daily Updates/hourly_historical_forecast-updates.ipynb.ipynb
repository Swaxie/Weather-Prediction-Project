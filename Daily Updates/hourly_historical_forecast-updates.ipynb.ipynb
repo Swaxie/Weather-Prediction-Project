{
 "cells": [
  {
   "cell_type": "code",
   "execution_count": 0,
   "metadata": {
    "application/vnd.databricks.v1+cell": {
     "cellMetadata": {
      "byteLimit": 2048000,
      "rowLimit": 10000
     },
     "inputWidgets": {},
     "nuid": "b3026853-8fe8-466f-9dd5-898a24aeb8c1",
     "showTitle": false,
     "tableResultSettingsMap": {},
     "title": ""
    },
    "tags": [],
    "trusted": true
   },
   "outputs": [
    {
     "output_type": "stream",
     "name": "stdout",
     "output_type": "stream",
     "text": [
      "Collecting openmeteo-requests\n  Obtaining dependency information for openmeteo-requests from https://files.pythonhosted.org/packages/13/31/96209383687cf35055eb628e3a9207a07ac2d5faf6e70076f459435a989e/openmeteo_requests-1.3.0-py3-none-any.whl.metadata\n  Downloading openmeteo_requests-1.3.0-py3-none-any.whl.metadata (9.7 kB)\nCollecting openmeteo-sdk>=1.4.0 (from openmeteo-requests)\n  Obtaining dependency information for openmeteo-sdk>=1.4.0 from https://files.pythonhosted.org/packages/18/9a/f33c4eb783d505d0099c039bbac30da09266027d9e3e0b5de76ef796749d/openmeteo_sdk-1.18.0-py3-none-any.whl.metadata\n  Downloading openmeteo_sdk-1.18.0-py3-none-any.whl.metadata (934 bytes)\nRequirement already satisfied: requests in /databricks/python3/lib/python3.11/site-packages (from openmeteo-requests) (2.31.0)\nCollecting flatbuffers>=24.0.0 (from openmeteo-sdk>=1.4.0->openmeteo-requests)\n  Obtaining dependency information for flatbuffers>=24.0.0 from https://files.pythonhosted.org/packages/41/f0/7e988a019bc54b2dbd0ad4182ef2d53488bb02e58694cd79d61369e85900/flatbuffers-24.3.25-py2.py3-none-any.whl.metadata\n  Downloading flatbuffers-24.3.25-py2.py3-none-any.whl.metadata (850 bytes)\nRequirement already satisfied: charset-normalizer<4,>=2 in /databricks/python3/lib/python3.11/site-packages (from requests->openmeteo-requests) (2.0.4)\nRequirement already satisfied: idna<4,>=2.5 in /databricks/python3/lib/python3.11/site-packages (from requests->openmeteo-requests) (3.4)\nRequirement already satisfied: urllib3<3,>=1.21.1 in /databricks/python3/lib/python3.11/site-packages (from requests->openmeteo-requests) (1.26.16)\nRequirement already satisfied: certifi>=2017.4.17 in /databricks/python3/lib/python3.11/site-packages (from requests->openmeteo-requests) (2023.7.22)\nDownloading openmeteo_requests-1.3.0-py3-none-any.whl (6.0 kB)\nDownloading openmeteo_sdk-1.18.0-py3-none-any.whl (7.6 kB)\nDownloading flatbuffers-24.3.25-py2.py3-none-any.whl (26 kB)\nInstalling collected packages: flatbuffers, openmeteo-sdk, openmeteo-requests\nSuccessfully installed flatbuffers-24.3.25 openmeteo-requests-1.3.0 openmeteo-sdk-1.18.0\n\u001B[43mNote: you may need to restart the kernel using %restart_python or dbutils.library.restartPython() to use updated packages.\u001B[0m\nCollecting requests-cache\n  Obtaining dependency information for requests-cache from https://files.pythonhosted.org/packages/4e/2e/8f4051119f460cfc786aa91f212165bb6e643283b533db572d7b33952bd2/requests_cache-1.2.1-py3-none-any.whl.metadata\n  Downloading requests_cache-1.2.1-py3-none-any.whl.metadata (9.9 kB)\nCollecting retry-requests\n  Obtaining dependency information for retry-requests from https://files.pythonhosted.org/packages/b1/f3/8ce908497bebbc2790ef06240a2c0fb28c096abb59062d88f85090464a5f/retry_requests-2.0.0-py3-none-any.whl.metadata\n  Downloading retry_requests-2.0.0-py3-none-any.whl.metadata (2.6 kB)\nRequirement already satisfied: numpy in /databricks/python3/lib/python3.11/site-packages (1.23.5)\nRequirement already satisfied: pandas in /databricks/python3/lib/python3.11/site-packages (1.5.3)\nCollecting attrs>=21.2 (from requests-cache)\n  Obtaining dependency information for attrs>=21.2 from https://files.pythonhosted.org/packages/6a/21/5b6702a7f963e95456c0de2d495f67bf5fd62840ac655dc451586d23d39a/attrs-24.2.0-py3-none-any.whl.metadata\n  Downloading attrs-24.2.0-py3-none-any.whl.metadata (11 kB)\nCollecting cattrs>=22.2 (from requests-cache)\n  Obtaining dependency information for cattrs>=22.2 from https://files.pythonhosted.org/packages/c8/d5/867e75361fc45f6de75fe277dd085627a9db5ebb511a87f27dc1396b5351/cattrs-24.1.2-py3-none-any.whl.metadata\n  Downloading cattrs-24.1.2-py3-none-any.whl.metadata (8.4 kB)\nRequirement already satisfied: platformdirs>=2.5 in /databricks/python3/lib/python3.11/site-packages (from requests-cache) (3.10.0)\nRequirement already satisfied: requests>=2.22 in /databricks/python3/lib/python3.11/site-packages (from requests-cache) (2.31.0)\nCollecting url-normalize>=1.4 (from requests-cache)\n  Obtaining dependency information for url-normalize>=1.4 from https://files.pythonhosted.org/packages/65/1c/6c6f408be78692fc850006a2b6dea37c2b8592892534e09996e401efc74b/url_normalize-1.4.3-py2.py3-none-any.whl.metadata\n  Downloading url_normalize-1.4.3-py2.py3-none-any.whl.metadata (3.1 kB)\nRequirement already satisfied: urllib3>=1.25.5 in /databricks/python3/lib/python3.11/site-packages (from requests-cache) (1.26.16)\nRequirement already satisfied: python-dateutil>=2.8.1 in /databricks/python3/lib/python3.11/site-packages (from pandas) (2.8.2)\nRequirement already satisfied: pytz>=2020.1 in /databricks/python3/lib/python3.11/site-packages (from pandas) (2022.7)\nRequirement already satisfied: six>=1.5 in /usr/lib/python3/dist-packages (from python-dateutil>=2.8.1->pandas) (1.16.0)\nRequirement already satisfied: charset-normalizer<4,>=2 in /databricks/python3/lib/python3.11/site-packages (from requests>=2.22->requests-cache) (2.0.4)\nRequirement already satisfied: idna<4,>=2.5 in /databricks/python3/lib/python3.11/site-packages (from requests>=2.22->requests-cache) (3.4)\nRequirement already satisfied: certifi>=2017.4.17 in /databricks/python3/lib/python3.11/site-packages (from requests>=2.22->requests-cache) (2023.7.22)\nDownloading requests_cache-1.2.1-py3-none-any.whl (61 kB)\n\u001B[?25l   \u001B[90m━━━━━━━━━━━━━━━━━━━━━━━━━━━━━━━━━━━━━━━━\u001B[0m \u001B[32m0.0/61.4 kB\u001B[0m \u001B[31m?\u001B[0m eta \u001B[36m-:--:--\u001B[0m\n\u001B[2K   \u001B[90m━━━━━━━━━━━━━━━━━━━━━━━━━━━━━━━━━━━━━━━━\u001B[0m \u001B[32m61.4/61.4 kB\u001B[0m \u001B[31m4.1 MB/s\u001B[0m eta \u001B[36m0:00:00\u001B[0m\n\u001B[?25hDownloading retry_requests-2.0.0-py3-none-any.whl (15 kB)\nDownloading attrs-24.2.0-py3-none-any.whl (63 kB)\n\u001B[?25l   \u001B[90m━━━━━━━━━━━━━━━━━━━━━━━━━━━━━━━━━━━━━━━━\u001B[0m \u001B[32m0.0/63.0 kB\u001B[0m \u001B[31m?\u001B[0m eta \u001B[36m-:--:--\u001B[0m\n\u001B[2K   \u001B[90m━━━━━━━━━━━━━━━━━━━━━━━━━━━━━━━━━━━━━━━━\u001B[0m \u001B[32m63.0/63.0 kB\u001B[0m \u001B[31m10.1 MB/s\u001B[0m eta \u001B[36m0:00:00\u001B[0m\n\u001B[?25hDownloading cattrs-24.1.2-py3-none-any.whl (66 kB)\n\u001B[?25l   \u001B[90m━━━━━━━━━━━━━━━━━━━━━━━━━━━━━━━━━━━━━━━━\u001B[0m \u001B[32m0.0/66.4 kB\u001B[0m \u001B[31m?\u001B[0m eta \u001B[36m-:--:--\u001B[0m\n\u001B[2K   \u001B[90m━━━━━━━━━━━━━━━━━━━━━━━━━━━━━━━━━━━━━━━━\u001B[0m \u001B[32m66.4/66.4 kB\u001B[0m \u001B[31m9.0 MB/s\u001B[0m eta \u001B[36m0:00:00\u001B[0m\n\u001B[?25hDownloading url_normalize-1.4.3-py2.py3-none-any.whl (6.8 kB)\nInstalling collected packages: url-normalize, attrs, retry-requests, cattrs, requests-cache\nSuccessfully installed attrs-24.2.0 cattrs-24.1.2 requests-cache-1.2.1 retry-requests-2.0.0 url-normalize-1.4.3\n\u001B[43mNote: you may need to restart the kernel using %restart_python or dbutils.library.restartPython() to use updated packages.\u001B[0m\n"
     ]
    }
   ],
   "source": [
    "%pip install openmeteo-requests\n",
    "%pip install requests-cache retry-requests numpy pandas\n"
   ]
  },
  {
   "cell_type": "code",
   "execution_count": 0,
   "metadata": {
    "application/vnd.databricks.v1+cell": {
     "cellMetadata": {
      "byteLimit": 2048000,
      "rowLimit": 10000
     },
     "inputWidgets": {},
     "nuid": "88aa6b9b-3e17-4d08-9091-983e1ca3abf2",
     "showTitle": false,
     "tableResultSettingsMap": {},
     "title": ""
    },
    "tags": [],
    "trusted": true
   },
   "outputs": [],
   "source": [
    "import openmeteo_requests\n",
    "from datetime import datetime, timedelta\n",
    "import requests_cache\n",
    "import pandas as pd\n",
    "from retry_requests import retry\n",
    "from pyspark.sql.functions import col, max as spark_max\n",
    "from pyspark.sql.functions import col, when\n",
    "from pyspark.sql import functions as F"
   ]
  },
  {
   "cell_type": "code",
   "execution_count": 0,
   "metadata": {
    "application/vnd.databricks.v1+cell": {
     "cellMetadata": {
      "byteLimit": 2048000,
      "rowLimit": 10000
     },
     "inputWidgets": {},
     "nuid": "1cd23c50-52fa-467e-b44c-df2c0796be1c",
     "showTitle": false,
     "tableResultSettingsMap": {},
     "title": ""
    },
    "tags": []
   },
   "outputs": [
    {
     "output_type": "stream",
     "name": "stdout",
     "output_type": "stream",
     "text": [
      "Ingestion will start from: 2024-12-11\nEnd date is set to: 2024-12-11\n"
     ]
    }
   ],
   "source": [
    "# Define S3 bucket details and file path\n",
    "bucket_name = \"de-upskilling-weather\"\n",
    "folder = \"LandingZone\"\n",
    "file_name = \"hourly_historical_forecast_updates.parquet\"\n",
    "org_file_name = \"hourly_historical_forecast.parquet\"\n",
    "s3_path = f\"/mnt/{bucket_name}/{folder}/Updates/{file_name}\"\n",
    "\n",
    "df_update = spark.read.parquet(f\"/mnt/{bucket_name}/Gold/log.parquet\")\n",
    "\n",
    "# Convert 'datetime' column to timestamp type\n",
    "df_update = df_update.withColumn(\"latest_data\", F.to_timestamp(\"latest_data\"))\n",
    "\n",
    "# Specify the name you are filtering for\n",
    "specific_name = \"daily_historical.parquet\"\n",
    "\n",
    "# Filter by name and select the row with the maximum datetime\n",
    "last_updated = df_update.filter(F.col(\"file_name\") == org_file_name).orderBy(F.col(\"latest_data\").desc()).limit(1).select('latest_data').collect()[0][0].date()\n",
    "\n",
    "# Convert last_updated to a datetime object\n",
    "#last_updated = datetime.strptime(last_updated, \"%Y-%m-%d\")\n",
    "# Set start_date to one day after the last date\n",
    "start_date = \"2024-09-01\"#(last_updated + timedelta(days=1)).strftime(\"%Y-%m-%d\")\n",
    "\n",
    "end_date = (datetime.today() - timedelta(days=2)).strftime(\"%Y-%m-%d\")\n",
    "    \n",
    "print(\"Ingestion will start from:\", start_date)\n",
    "\n",
    "print(\"End date is set to:\", end_date)"
   ]
  },
  {
   "cell_type": "code",
   "execution_count": 0,
   "metadata": {
    "application/vnd.databricks.v1+cell": {
     "cellMetadata": {
      "byteLimit": 2048000,
      "rowLimit": 10000
     },
     "inputWidgets": {},
     "nuid": "c6695739-3645-4d9b-a70b-a663d9250a0b",
     "showTitle": false,
     "tableResultSettingsMap": {},
     "title": ""
    },
    "tags": []
   },
   "outputs": [],
   "source": [
    "# Initialize cache and retry session\n",
    "cache_session = requests_cache.CachedSession('.cache', expire_after=3600)\n",
    "retry_session = retry(cache_session, retries=5, backoff_factor=0.2)\n",
    "openmeteo = openmeteo_requests.Client(session=retry_session)\n",
    "\n",
    "# Define the date ranges\n",
    "#start_date = datetime.strptime(start_date, \"%Y-%m-%d\")\n",
    "#end_date_ = datetime.strptime(end_date, \"%Y-%m-%d\")\n",
    "\n",
    "# Make sure all required weather variables are listed here\n",
    "# The order of variables in hourly or daily is important to assign them correctly below\n",
    "url = \"https://historical-forecast-api.open-meteo.com/v1/forecast\"\n",
    "\n",
    "# Define location and timezone data\n",
    "latitudes = [38.855584, 40.724039, 25.695215, 34.005712, 32.724548, 47.594472, 39.676938, 39.952583, 39.791, 35.481918, 36.174465, 41.881832, 51.509865, 52.520008, 48.137154, 48.864716, 47.373878, 51.260197, 52.377956, 53.35014, 40.416775, 48.210033, 46.056946, 50.073658, 55.676098]\n",
    "longitudes = [-77.036975, -73.994982, -80.168933, -118.175596, -96.76923, -122.348286, -104.977053, -75.165222, -86.148003, -97.508469, -86.76796, -87.623177, -0.118092, 13.404954, 11.576124, 2.349014, 8.545094, 4.402771, 4.89707, -6.266155, -3.70379, 16.363449, 14.505751, 14.41854, 12.568337]\n",
    "timezones = [\"America/New_York\", \"America/New_York\", \"America/New_York\", \"America/Los_Angeles\", \"America/Chicago\", \"America/Los_Angeles\", \"America/Denver\", \"America/New_York\", \"America/Indiana/Indianapolis\", \"America/Chicago\", \"America/Chicago\", \"America/Chicago\", \"Europe/London\", \"Europe/Berlin\", \"Europe/Berlin\", \"Europe/Paris\", \"Europe/Zurich\", \"Europe/Brussels\", \"Europe/Amsterdam\", \"Europe/Dublin\", \"Europe/Madrid\", \"Europe/Vienna\", \"Europe/Ljubljana\", \"Europe/Prague\", \"Europe/Copenhagen\"]\n",
    "\n",
    "# Parameters for the API\n",
    "params_template = {\n",
    "    \"latitude\": latitudes,\n",
    "    \"longitude\": longitudes,\n",
    "    \"hourly\": [\"temperature_2m\", \"relative_humidity_2m\", \"precipitation\", \"rain\", \"showers\", \"snowfall\", \"snow_depth\", \"weather_code\", \"wind_speed_10m\", \"wind_speed_80m\", \"wind_speed_120m\", \"wind_speed_180m\", \"wind_direction_10m\", \"wind_direction_80m\", \"wind_direction_120m\", \"wind_direction_180m\", \"wind_gusts_10m\"],\n",
    "    \"timezone\": \"GMT\" #timezones\n",
    "}\n",
    "\n",
    "# Initialize responses list\n",
    "responses = []\n",
    "\n",
    "# Iterate over year-long periods\n",
    "#current_start_date = start_date\n",
    "\n",
    "current_start_date = datetime.strptime(start_date, \"%Y-%m-%d\")\n",
    "end_date_ = datetime.strptime(end_date, \"%Y-%m-%d\")\n",
    "\n",
    "\n",
    "while current_start_date < end_date_:\n",
    "\n",
    "    print(\"idk\")\n",
    "    # Set the end date for the current year period or cap it at the final end date\n",
    "    current_end_date = min(current_start_date.replace(year=current_start_date.year + 1) - timedelta(days=1), end_date_)\n",
    "    \n",
    "    # Update parameters with the current date range\n",
    "    params = params_template.copy()\n",
    "    params[\"start_date\"] = current_start_date.strftime(\"%Y-%m-%d\")\n",
    "    params[\"end_date\"] = current_end_date.strftime(\"%Y-%m-%d\")\n",
    "    \n",
    "    # Make the API call and add the response to the list\n",
    "    response = openmeteo.weather_api(url, params=params)\n",
    "    responses.extend(response)\n",
    "    \n",
    "    # Move to the next period (start date of next year)\n",
    "    current_start_date = current_end_date + timedelta(days=1)\n",
    "\n",
    "    print(response)\n",
    "\n"
   ]
  },
  {
   "cell_type": "code",
   "execution_count": 0,
   "metadata": {
    "application/vnd.databricks.v1+cell": {
     "cellMetadata": {
      "byteLimit": 2048000,
      "rowLimit": 10000
     },
     "inputWidgets": {},
     "nuid": "00d59ad6-c25b-46a2-9816-a2db709a1dae",
     "showTitle": false,
     "tableResultSettingsMap": {},
     "title": ""
    }
   },
   "outputs": [
    {
     "output_type": "execute_result",
     "data": {
      "text/plain": [
       "0"
      ]
     },
     "execution_count": 20,
     "metadata": {},
     "output_type": "execute_result"
    }
   ],
   "source": [
    "len(responses)"
   ]
  },
  {
   "cell_type": "code",
   "execution_count": 0,
   "metadata": {
    "application/vnd.databricks.v1+cell": {
     "cellMetadata": {
      "byteLimit": 2048000,
      "rowLimit": 10000
     },
     "inputWidgets": {},
     "nuid": "dd7e14e5-6dcf-415e-904f-fe1c272d42d9",
     "showTitle": false,
     "tableResultSettingsMap": {},
     "title": ""
    },
    "tags": []
   },
   "outputs": [],
   "source": [
    "if len(responses) != 0:\n",
    "    print(\"No responses found. Stopping execution.\")\n",
    "    #exit()\n",
    "    #raise SystemExit(\"Execution halted because responses are empty.\")"
   ]
  },
  {
   "cell_type": "code",
   "execution_count": 0,
   "metadata": {
    "application/vnd.databricks.v1+cell": {
     "cellMetadata": {
      "byteLimit": 2048000,
      "rowLimit": 10000
     },
     "inputWidgets": {},
     "nuid": "d3a0875f-19ff-485e-acfd-fdbbefe9c674",
     "showTitle": false,
     "tableResultSettingsMap": {},
     "title": ""
    },
    "tags": []
   },
   "outputs": [],
   "source": [
    "if len(responses) != 0:\n",
    "    for i, response in enumerate(responses):\n",
    "        # Process first location. Add a for-loop for multiple locations or weather models\n",
    "        #response = responses[0]\n",
    "        #print(f\"Coordinates {response.Latitude()}°N {response.Longitude()}°E\")\n",
    "        #print(f\"Elevation {response.Elevation()} m asl\")\n",
    "        #print(f\"Timezone {response.Timezone()} {response.TimezoneAbbreviation()}\")\n",
    "        #print(f\"Timezone difference to GMT+0 {response.UtcOffsetSeconds()} s\")\n",
    "\n",
    "        # Process hourly data. The order of variables needs to be the same as requested.\n",
    "        hourly = response.Hourly()\n",
    "        hourly_temperature_2m = hourly.Variables(0).ValuesAsNumpy()\n",
    "        hourly_relative_humidity_2m = hourly.Variables(1).ValuesAsNumpy()\n",
    "        hourly_precipitation = hourly.Variables(2).ValuesAsNumpy()\n",
    "        hourly_rain = hourly.Variables(3).ValuesAsNumpy()\n",
    "        hourly_showers = hourly.Variables(4).ValuesAsNumpy()\n",
    "        hourly_snowfall = hourly.Variables(5).ValuesAsNumpy()\n",
    "        hourly_snow_depth = hourly.Variables(6).ValuesAsNumpy()\n",
    "        hourly_weather_code = hourly.Variables(7).ValuesAsNumpy()\n",
    "        hourly_wind_speed_10m = hourly.Variables(8).ValuesAsNumpy()\n",
    "        hourly_wind_speed_80m = hourly.Variables(9).ValuesAsNumpy()\n",
    "        hourly_wind_speed_120m = hourly.Variables(10).ValuesAsNumpy()\n",
    "        hourly_wind_speed_180m = hourly.Variables(11).ValuesAsNumpy()\n",
    "        hourly_wind_direction_10m = hourly.Variables(12).ValuesAsNumpy()\n",
    "        hourly_wind_direction_80m = hourly.Variables(13).ValuesAsNumpy()\n",
    "        hourly_wind_direction_120m = hourly.Variables(14).ValuesAsNumpy()\n",
    "        hourly_wind_direction_180m = hourly.Variables(15).ValuesAsNumpy()\n",
    "        hourly_wind_gusts_10m = hourly.Variables(16).ValuesAsNumpy()\n",
    "\n",
    "        hourly_data = {\"date\": pd.date_range(\n",
    "            start = pd.to_datetime(hourly.Time(), unit = \"s\", utc = True),\n",
    "            end = pd.to_datetime(hourly.TimeEnd(), unit = \"s\", utc = True),\n",
    "            freq = pd.Timedelta(seconds = hourly.Interval()),\n",
    "            inclusive = \"left\"\n",
    "        )}\n",
    "        \n",
    "        hourly_data[\"latitude\"] = latitudes[i%len(latitudes)]\n",
    "        hourly_data[\"longitude\"] = longitudes[i%len(latitudes)]\n",
    "        hourly_data[\"timezone\"] = timezones[i%len(latitudes)]\n",
    "        \n",
    "        hourly_data[\"temperature_2m\"] = hourly_temperature_2m\n",
    "        hourly_data[\"relative_humidity_2m\"] = hourly_relative_humidity_2m\n",
    "        hourly_data[\"precipitation\"] = hourly_precipitation\n",
    "        hourly_data[\"rain\"] = hourly_rain\n",
    "        hourly_data[\"showers\"] = hourly_showers\n",
    "        hourly_data[\"snowfall\"] = hourly_snowfall\n",
    "        hourly_data[\"snow_depth\"] = hourly_snow_depth\n",
    "        hourly_data[\"weather_code\"] = hourly_weather_code\n",
    "        hourly_data[\"wind_speed_10m\"] = hourly_wind_speed_10m\n",
    "        hourly_data[\"wind_speed_80m\"] = hourly_wind_speed_80m\n",
    "        hourly_data[\"wind_speed_120m\"] = hourly_wind_speed_120m\n",
    "        hourly_data[\"wind_speed_180m\"] = hourly_wind_speed_180m\n",
    "        hourly_data[\"wind_direction_10m\"] = hourly_wind_direction_10m\n",
    "        hourly_data[\"wind_direction_80m\"] = hourly_wind_direction_80m\n",
    "        hourly_data[\"wind_direction_120m\"] = hourly_wind_direction_120m\n",
    "        hourly_data[\"wind_direction_180m\"] = hourly_wind_direction_180m\n",
    "        hourly_data[\"wind_gusts_10m\"] = hourly_wind_gusts_10m\n",
    "\n",
    "        hourly_dataframe = pd.DataFrame(data = hourly_data)\n",
    "        \n",
    "        if i == 0:\n",
    "            # Convert `daily_dataframe` to a Spark DataFrame\n",
    "            spark_df = spark.createDataFrame(hourly_dataframe)\n",
    "        else:\n",
    "            # Convert `daily_dataframe` to a Spark DataFrame\n",
    "            hourly_spark_df = spark.createDataFrame(hourly_dataframe)\n",
    "\n",
    "            # Concatenate the two Spark DataFrames\n",
    "            spark_df = spark_df.unionByName(hourly_spark_df)\n",
    "        \n",
    "        #print(hourly_dataframe)"
   ]
  },
  {
   "cell_type": "code",
   "execution_count": 0,
   "metadata": {
    "application/vnd.databricks.v1+cell": {
     "cellMetadata": {},
     "inputWidgets": {},
     "nuid": "f5add8e7-50b9-4a08-87f9-250d44eee983",
     "showTitle": false,
     "tableResultSettingsMap": {},
     "title": ""
    },
    "tags": [],
    "trusted": true
   },
   "outputs": [],
   "source": [
    "#spark_df.show()"
   ]
  },
  {
   "cell_type": "markdown",
   "metadata": {
    "application/vnd.databricks.v1+cell": {
     "cellMetadata": {},
     "inputWidgets": {},
     "nuid": "3257bbd8-eae0-4cb4-b4f5-e77dc4235801",
     "showTitle": false,
     "tableResultSettingsMap": {},
     "title": ""
    },
    "tags": []
   },
   "source": [
    "spark_df.printSchema()"
   ]
  },
  {
   "cell_type": "code",
   "execution_count": 0,
   "metadata": {
    "application/vnd.databricks.v1+cell": {
     "cellMetadata": {
      "byteLimit": 2048000,
      "rowLimit": 10000
     },
     "inputWidgets": {},
     "nuid": "d7bd1bf4-784c-46e6-8584-d3f81bb1e548",
     "showTitle": false,
     "tableResultSettingsMap": {},
     "title": ""
    },
    "tags": []
   },
   "outputs": [
    {
     "output_type": "execute_result",
     "data": {
      "text/plain": [
       "60000"
      ]
     },
     "execution_count": 37,
     "metadata": {},
     "output_type": "execute_result"
    }
   ],
   "source": [
    "if len(responses) != 0:\n",
    "    spark_df.count()"
   ]
  },
  {
   "cell_type": "code",
   "execution_count": 0,
   "metadata": {
    "application/vnd.databricks.v1+cell": {
     "cellMetadata": {},
     "inputWidgets": {},
     "nuid": "6551dd63-f394-4545-afda-f7e67927f76c",
     "showTitle": false,
     "tableResultSettingsMap": {},
     "title": ""
    },
    "tags": []
   },
   "outputs": [],
   "source": [
    "if len(responses) != 0:\n",
    "    spark_df.write.mode(\"overwrite\").parquet(s3_path)"
   ]
  },
  {
   "cell_type": "markdown",
   "metadata": {
    "application/vnd.databricks.v1+cell": {
     "cellMetadata": {},
     "inputWidgets": {},
     "nuid": "aa20581a-9edc-429d-8945-48df673290b0",
     "showTitle": false,
     "tableResultSettingsMap": {},
     "title": ""
    },
    "tags": []
   },
   "source": [
    "df_update.show()"
   ]
  },
  {
   "cell_type": "code",
   "execution_count": 0,
   "metadata": {
    "application/vnd.databricks.v1+cell": {
     "cellMetadata": {
      "byteLimit": 2048000,
      "rowLimit": 10000
     },
     "inputWidgets": {},
     "nuid": "31b3e55c-ab69-4f57-b7fd-41fa04591c34",
     "showTitle": false,
     "tableResultSettingsMap": {},
     "title": ""
    },
    "tags": []
   },
   "outputs": [
    {
     "output_type": "stream",
     "name": "stdout",
     "output_type": "stream",
     "text": [
      "+--------------------+-----------+-------------------+\n|           file_name|latest_data|       date_updated|\n+--------------------+-----------+-------------------+\n|hourly_historical...| 2024-12-08|2024-12-10 16:27:40|\n+--------------------+-----------+-------------------+\n\n"
     ]
    }
   ],
   "source": [
    "from pyspark.sql.types import StructType, StructField, StringType\n",
    "from datetime import datetime\n",
    "\n",
    "if len(responses) != 0:\n",
    "    # Get current date and time\n",
    "    now = datetime.now()\n",
    "\n",
    "    # Format date and time as a string\n",
    "    formatted_date_time = now.strftime(\"%Y-%m-%d %H:%M:%S\")\n",
    "\n",
    "    # Sample data\n",
    "    data = [\n",
    "        (org_file_name, end_date, formatted_date_time)\n",
    "    ]\n",
    "\n",
    "    # Define schema\n",
    "    schema = StructType([\n",
    "        StructField(\"file_name\", StringType(), True),\n",
    "        StructField(\"latest_data\", StringType(), True),\n",
    "        StructField(\"date_updated\", StringType(), True)\n",
    "    ])\n",
    "\n",
    "    # Create DataFrame\n",
    "    df_log = spark.createDataFrame(data, schema)\n",
    "\n",
    "    # Show DataFrame\n",
    "    df_log.show()"
   ]
  },
  {
   "cell_type": "code",
   "execution_count": 0,
   "metadata": {
    "application/vnd.databricks.v1+cell": {
     "cellMetadata": {
      "byteLimit": 2048000,
      "rowLimit": 10000
     },
     "inputWidgets": {},
     "nuid": "d508778b-11b2-493b-be73-5c591ce16d52",
     "showTitle": false,
     "tableResultSettingsMap": {},
     "title": ""
    },
    "tags": []
   },
   "outputs": [],
   "source": [
    "#615600\n",
    "if len(responses) != 0:\n",
    "    df_log.write.mode(\"append\").parquet(f\"/mnt/{bucket_name}/Gold/log.parquet\")"
   ]
  }
 ],
 "metadata": {
  "application/vnd.databricks.v1+notebook": {
   "computePreferences": null,
   "dashboards": [],
   "environmentMetadata": null,
   "language": "python",
   "notebookMetadata": {
    "pythonIndentUnit": 4
   },
   "notebookName": "hourly_historical_forecast-updates.ipynb",
   "widgets": {}
  },
  "kernelspec": {
   "display_name": "Glue PySpark",
   "language": "python",
   "name": "glue_pyspark"
  },
  "language_info": {
   "name": "python"
  }
 },
 "nbformat": 4,
 "nbformat_minor": 0
}