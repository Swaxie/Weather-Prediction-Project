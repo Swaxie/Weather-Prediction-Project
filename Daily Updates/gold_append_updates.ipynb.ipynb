{
 "cells": [
  {
   "cell_type": "code",
   "execution_count": 0,
   "metadata": {
    "application/vnd.databricks.v1+cell": {
     "cellMetadata": {
      "byteLimit": 2048000,
      "rowLimit": 10000
     },
     "inputWidgets": {},
     "nuid": "84f5cd76-d7b5-42e2-9973-6966b6c3fc7c",
     "showTitle": false,
     "tableResultSettingsMap": {},
     "title": ""
    }
   },
   "outputs": [
    {
     "output_type": "stream",
     "name": "stdout",
     "output_type": "stream",
     "text": [
      "daily_historical_forecast_update.parquet\ndaily_historical_update.parquet\nhourly_historical_forecast_update.parquet\nhourly_historical_update.parquet\n"
     ]
    }
   ],
   "source": [
    "container_name = \"de-upskilling-weather\"\n",
    "folder_name = \"Gold/Updates\"\n",
    "\n",
    "file_names = dbutils.fs.ls(f\"/mnt/{container_name}/{folder_name}\")\n",
    "\n",
    "parquet_files = [file_info.name.replace(\".parquet/\", \".parquet\") for file_info in file_names]\n",
    "\n",
    "\n",
    "for file_name in parquet_files:\n",
    "    print(file_name)"
   ]
  },
  {
   "cell_type": "code",
   "execution_count": 0,
   "metadata": {
    "application/vnd.databricks.v1+cell": {
     "cellMetadata": {
      "byteLimit": 2048000,
      "rowLimit": 10000
     },
     "inputWidgets": {},
     "nuid": "22297aca-78ae-4749-9fb6-305a218e09ff",
     "showTitle": false,
     "tableResultSettingsMap": {},
     "title": ""
    },
    "tags": [],
    "trusted": true
   },
   "outputs": [],
   "source": [
    "for file_name in parquet_files:\n",
    "    \n",
    "    org_file_name = file_name.replace(\"_update\", \"\")\n",
    "    \n",
    "    df_update = spark.read.parquet(f\"/mnt/{container_name}/{folder_name}/{file_name}\")\n",
    "\n",
    "    df_update.write.mode(\"append\").parquet(f\"/mnt/{container_name}/Gold/{org_file_name}\")\n",
    "    "
   ]
  },
  {
   "cell_type": "code",
   "execution_count": 0,
   "metadata": {
    "application/vnd.databricks.v1+cell": {
     "cellMetadata": {
      "byteLimit": 2048000,
      "rowLimit": 10000
     },
     "inputWidgets": {},
     "nuid": "74f3c114-2bd9-42c9-b6c9-d3956d285e73",
     "showTitle": false,
     "tableResultSettingsMap": {},
     "title": ""
    }
   },
   "outputs": [],
   "source": []
  }
 ],
 "metadata": {
  "application/vnd.databricks.v1+notebook": {
   "computePreferences": null,
   "dashboards": [],
   "environmentMetadata": null,
   "language": "python",
   "notebookMetadata": {
    "pythonIndentUnit": 4
   },
   "notebookName": "gold_append_updates.ipynb",
   "widgets": {}
  },
  "kernelspec": {
   "display_name": "Glue PySpark",
   "language": "python",
   "name": "glue_pyspark"
  },
  "language_info": {
   "name": "python"
  }
 },
 "nbformat": 4,
 "nbformat_minor": 0
}