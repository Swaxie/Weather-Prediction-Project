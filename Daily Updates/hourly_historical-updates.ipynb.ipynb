{
 "cells": [
  {
   "cell_type": "markdown",
   "metadata": {
    "application/vnd.databricks.v1+cell": {
     "cellMetadata": {},
     "inputWidgets": {},
     "nuid": "69036220-541e-448d-b65b-dc68d744bb97",
     "showTitle": false,
     "tableResultSettingsMap": {},
     "title": ""
    },
    "editable": true,
    "trusted": true
   },
   "source": [
    "# AWS Glue Studio Notebook\n",
    "##### You are now running a AWS Glue Studio notebook; To start using your notebook you need to start an AWS Glue Interactive Session.\n"
   ]
  },
  {
   "cell_type": "code",
   "execution_count": 0,
   "metadata": {
    "application/vnd.databricks.v1+cell": {
     "cellMetadata": {
      "byteLimit": 2048000,
      "rowLimit": 10000
     },
     "inputWidgets": {},
     "nuid": "eed89ca9-cf2b-48b1-aa50-e17675f46e7d",
     "showTitle": false,
     "tableResultSettingsMap": {},
     "title": ""
    }
   },
   "outputs": [
    {
     "output_type": "stream",
     "name": "stdout",
     "output_type": "stream",
     "text": [
      "Collecting openmeteo-requests\n  Obtaining dependency information for openmeteo-requests from https://files.pythonhosted.org/packages/13/31/96209383687cf35055eb628e3a9207a07ac2d5faf6e70076f459435a989e/openmeteo_requests-1.3.0-py3-none-any.whl.metadata\n  Downloading openmeteo_requests-1.3.0-py3-none-any.whl.metadata (9.7 kB)\nCollecting openmeteo-sdk>=1.4.0 (from openmeteo-requests)\n  Obtaining dependency information for openmeteo-sdk>=1.4.0 from https://files.pythonhosted.org/packages/18/9a/f33c4eb783d505d0099c039bbac30da09266027d9e3e0b5de76ef796749d/openmeteo_sdk-1.18.0-py3-none-any.whl.metadata\n  Downloading openmeteo_sdk-1.18.0-py3-none-any.whl.metadata (934 bytes)\nRequirement already satisfied: requests in /databricks/python3/lib/python3.11/site-packages (from openmeteo-requests) (2.31.0)\nCollecting flatbuffers>=24.0.0 (from openmeteo-sdk>=1.4.0->openmeteo-requests)\n  Obtaining dependency information for flatbuffers>=24.0.0 from https://files.pythonhosted.org/packages/fb/b4/31c461eef98b96b8ab736d97274548eaf2b2e349bf09e4de3902f7d53084/flatbuffers-24.12.23-py2.py3-none-any.whl.metadata\n  Downloading flatbuffers-24.12.23-py2.py3-none-any.whl.metadata (876 bytes)\nRequirement already satisfied: charset-normalizer<4,>=2 in /databricks/python3/lib/python3.11/site-packages (from requests->openmeteo-requests) (2.0.4)\nRequirement already satisfied: idna<4,>=2.5 in /databricks/python3/lib/python3.11/site-packages (from requests->openmeteo-requests) (3.4)\nRequirement already satisfied: urllib3<3,>=1.21.1 in /databricks/python3/lib/python3.11/site-packages (from requests->openmeteo-requests) (1.26.16)\nRequirement already satisfied: certifi>=2017.4.17 in /databricks/python3/lib/python3.11/site-packages (from requests->openmeteo-requests) (2023.7.22)\nDownloading openmeteo_requests-1.3.0-py3-none-any.whl (6.0 kB)\nDownloading openmeteo_sdk-1.18.0-py3-none-any.whl (7.6 kB)\nDownloading flatbuffers-24.12.23-py2.py3-none-any.whl (30 kB)\nInstalling collected packages: flatbuffers, openmeteo-sdk, openmeteo-requests\nSuccessfully installed flatbuffers-24.12.23 openmeteo-requests-1.3.0 openmeteo-sdk-1.18.0\n\u001B[43mNote: you may need to restart the kernel using %restart_python or dbutils.library.restartPython() to use updated packages.\u001B[0m\nCollecting requests-cache\n  Obtaining dependency information for requests-cache from https://files.pythonhosted.org/packages/4e/2e/8f4051119f460cfc786aa91f212165bb6e643283b533db572d7b33952bd2/requests_cache-1.2.1-py3-none-any.whl.metadata\n  Downloading requests_cache-1.2.1-py3-none-any.whl.metadata (9.9 kB)\nCollecting retry-requests\n  Obtaining dependency information for retry-requests from https://files.pythonhosted.org/packages/b1/f3/8ce908497bebbc2790ef06240a2c0fb28c096abb59062d88f85090464a5f/retry_requests-2.0.0-py3-none-any.whl.metadata\n  Downloading retry_requests-2.0.0-py3-none-any.whl.metadata (2.6 kB)\nRequirement already satisfied: numpy in /databricks/python3/lib/python3.11/site-packages (1.23.5)\nRequirement already satisfied: pandas in /databricks/python3/lib/python3.11/site-packages (1.5.3)\nCollecting attrs>=21.2 (from requests-cache)\n  Obtaining dependency information for attrs>=21.2 from https://files.pythonhosted.org/packages/89/aa/ab0f7891a01eeb2d2e338ae8fecbe57fcebea1a24dbb64d45801bfab481d/attrs-24.3.0-py3-none-any.whl.metadata\n  Downloading attrs-24.3.0-py3-none-any.whl.metadata (11 kB)\nCollecting cattrs>=22.2 (from requests-cache)\n  Obtaining dependency information for cattrs>=22.2 from https://files.pythonhosted.org/packages/c8/d5/867e75361fc45f6de75fe277dd085627a9db5ebb511a87f27dc1396b5351/cattrs-24.1.2-py3-none-any.whl.metadata\n  Downloading cattrs-24.1.2-py3-none-any.whl.metadata (8.4 kB)\nRequirement already satisfied: platformdirs>=2.5 in /databricks/python3/lib/python3.11/site-packages (from requests-cache) (3.10.0)\nRequirement already satisfied: requests>=2.22 in /databricks/python3/lib/python3.11/site-packages (from requests-cache) (2.31.0)\nCollecting url-normalize>=1.4 (from requests-cache)\n  Obtaining dependency information for url-normalize>=1.4 from https://files.pythonhosted.org/packages/65/1c/6c6f408be78692fc850006a2b6dea37c2b8592892534e09996e401efc74b/url_normalize-1.4.3-py2.py3-none-any.whl.metadata\n  Downloading url_normalize-1.4.3-py2.py3-none-any.whl.metadata (3.1 kB)\nRequirement already satisfied: urllib3>=1.25.5 in /databricks/python3/lib/python3.11/site-packages (from requests-cache) (1.26.16)\nRequirement already satisfied: python-dateutil>=2.8.1 in /databricks/python3/lib/python3.11/site-packages (from pandas) (2.8.2)\nRequirement already satisfied: pytz>=2020.1 in /databricks/python3/lib/python3.11/site-packages (from pandas) (2022.7)\nRequirement already satisfied: six>=1.5 in /usr/lib/python3/dist-packages (from python-dateutil>=2.8.1->pandas) (1.16.0)\nRequirement already satisfied: charset-normalizer<4,>=2 in /databricks/python3/lib/python3.11/site-packages (from requests>=2.22->requests-cache) (2.0.4)\nRequirement already satisfied: idna<4,>=2.5 in /databricks/python3/lib/python3.11/site-packages (from requests>=2.22->requests-cache) (3.4)\nRequirement already satisfied: certifi>=2017.4.17 in /databricks/python3/lib/python3.11/site-packages (from requests>=2.22->requests-cache) (2023.7.22)\nDownloading requests_cache-1.2.1-py3-none-any.whl (61 kB)\n\u001B[?25l   \u001B[90m━━━━━━━━━━━━━━━━━━━━━━━━━━━━━━━━━━━━━━━━\u001B[0m \u001B[32m0.0/61.4 kB\u001B[0m \u001B[31m?\u001B[0m eta \u001B[36m-:--:--\u001B[0m\n\u001B[2K   \u001B[90m━━━━━━━━━━━━━━━━━━━━━━━━━━━━━━━━━━━━━━━━\u001B[0m \u001B[32m61.4/61.4 kB\u001B[0m \u001B[31m4.9 MB/s\u001B[0m eta \u001B[36m0:00:00\u001B[0m\n\u001B[?25hDownloading retry_requests-2.0.0-py3-none-any.whl (15 kB)\nDownloading attrs-24.3.0-py3-none-any.whl (63 kB)\n\u001B[?25l   \u001B[90m━━━━━━━━━━━━━━━━━━━━━━━━━━━━━━━━━━━━━━━━\u001B[0m \u001B[32m0.0/63.4 kB\u001B[0m \u001B[31m?\u001B[0m eta \u001B[36m-:--:--\u001B[0m\n\u001B[2K   \u001B[90m━━━━━━━━━━━━━━━━━━━━━━━━━━━━━━━━━━━━━━━━\u001B[0m \u001B[32m63.4/63.4 kB\u001B[0m \u001B[31m8.3 MB/s\u001B[0m eta \u001B[36m0:00:00\u001B[0m\n\u001B[?25hDownloading cattrs-24.1.2-py3-none-any.whl (66 kB)\n\u001B[?25l   \u001B[90m━━━━━━━━━━━━━━━━━━━━━━━━━━━━━━━━━━━━━━━━\u001B[0m \u001B[32m0.0/66.4 kB\u001B[0m \u001B[31m?\u001B[0m eta \u001B[36m-:--:--\u001B[0m\n\u001B[2K   \u001B[90m━━━━━━━━━━━━━━━━━━━━━━━━━━━━━━━━━━━━━━━━\u001B[0m \u001B[32m66.4/66.4 kB\u001B[0m \u001B[31m8.4 MB/s\u001B[0m eta \u001B[36m0:00:00\u001B[0m\n\u001B[?25hDownloading url_normalize-1.4.3-py2.py3-none-any.whl (6.8 kB)\nInstalling collected packages: url-normalize, attrs, retry-requests, cattrs, requests-cache\nSuccessfully installed attrs-24.3.0 cattrs-24.1.2 requests-cache-1.2.1 retry-requests-2.0.0 url-normalize-1.4.3\n\u001B[43mNote: you may need to restart the kernel using %restart_python or dbutils.library.restartPython() to use updated packages.\u001B[0m\n"
     ]
    }
   ],
   "source": [
    "%pip install openmeteo-requests\n",
    "%pip install requests-cache retry-requests numpy pandas"
   ]
  },
  {
   "cell_type": "code",
   "execution_count": 0,
   "metadata": {
    "application/vnd.databricks.v1+cell": {
     "cellMetadata": {
      "byteLimit": 2048000,
      "rowLimit": 10000
     },
     "inputWidgets": {},
     "nuid": "8e39eac3-3b59-4991-b8c0-b047724b64c6",
     "showTitle": false,
     "tableResultSettingsMap": {},
     "title": ""
    },
    "tags": [],
    "trusted": true
   },
   "outputs": [],
   "source": [
    "import openmeteo_requests\n",
    "\n",
    "import requests_cache\n",
    "import pandas as pd\n",
    "from retry_requests import retry\n",
    "\n",
    "from datetime import datetime, timedelta\n",
    "from pyspark.sql.functions import col, max as spark_max\n",
    "from pyspark.sql.functions import col, when\n",
    "from pyspark.sql import functions as F"
   ]
  },
  {
   "cell_type": "code",
   "execution_count": 0,
   "metadata": {
    "application/vnd.databricks.v1+cell": {
     "cellMetadata": {
      "byteLimit": 2048000,
      "rowLimit": 10000
     },
     "inputWidgets": {},
     "nuid": "dfcf3c1e-b0e6-4fca-9975-9eacf9722c3a",
     "showTitle": false,
     "tableResultSettingsMap": {},
     "title": ""
    },
    "tags": [],
    "trusted": true
   },
   "outputs": [
    {
     "output_type": "stream",
     "name": "stdout",
     "output_type": "stream",
     "text": [
      "Ingestion will start from: 2025-01-07\nEnd date is set to: 2025-01-06\n"
     ]
    }
   ],
   "source": [
    "# Define S3 bucket details and file path\n",
    "container_name = \"de-upskilling-weather\"\n",
    "folder = \"LandingZone\"\n",
    "file_name = \"hourly_historical_updates.parquet\"\n",
    "org_file_name = \"hourly_historical.parquet\"\n",
    "adls_path = f\"/mnt/{container_name}/{folder}/Updates/{file_name}\"\n",
    "\n",
    "\n",
    "df_update = spark.read.parquet(f\"/mnt/{container_name}/Gold/log.parquet\")\n",
    "\n",
    "# Convert 'datetime' column to timestamp type\n",
    "df_update = df_update.withColumn(\"latest_data\", F.to_timestamp(\"latest_data\"))\n",
    "\n",
    "# Specify the name you are filtering for\n",
    "specific_name = \"daily_historical.parquet\"\n",
    "\n",
    "# Filter by name and select the row with the maximum datetime\n",
    "last_updated = df_update.filter(F.col(\"file_name\") == org_file_name).orderBy(F.col(\"latest_data\").desc()).limit(1).select('latest_data').collect()[0][0].date()\n",
    "\n",
    "\n",
    "# Convert last_updated to a datetime object\n",
    "#last_updated = datetime.strptime(last_updated, \"%Y-%m-%d\")\n",
    "# Set start_date to one day after the last date\n",
    "start_date = (last_updated + timedelta(days=1)).strftime(\"%Y-%m-%d\")\n",
    "\n",
    "end_date = (datetime.today() - timedelta(days=2)).strftime(\"%Y-%m-%d\")\n",
    "    \n",
    "print(\"Ingestion will start from:\", start_date)\n",
    "\n",
    "print(\"End date is set to:\", end_date)\n",
    "\n",
    "#df_update.show()"
   ]
  },
  {
   "cell_type": "code",
   "execution_count": 0,
   "metadata": {
    "application/vnd.databricks.v1+cell": {
     "cellMetadata": {
      "byteLimit": 2048000,
      "rowLimit": 10000
     },
     "inputWidgets": {},
     "nuid": "da3ab44f-306e-42ac-a239-78875bb13836",
     "showTitle": false,
     "tableResultSettingsMap": {},
     "title": ""
    },
    "tags": [],
    "trusted": true
   },
   "outputs": [],
   "source": [
    "# Setup the Open-Meteo API client with cache and retry on error\n",
    "cache_session = requests_cache.CachedSession('.cache', expire_after = -1)\n",
    "retry_session = retry(cache_session, retries = 5, backoff_factor = 0.2)\n",
    "openmeteo = openmeteo_requests.Client(session = retry_session)\n",
    "\n",
    "# Make sure all required weather variables are listed here\n",
    "# The order of variables in hourly or daily is important to assign them correctly below\n",
    "url = \"https://archive-api.open-meteo.com/v1/archive\"\n",
    "\n",
    "latitudes = [38.855584, 40.724039, 25.695215, 34.005712, 32.724548, 47.594472, 39.676938, 39.952583, 39.791, 35.481918, 36.174465, 41.881832, 51.509865, 52.520008, 48.137154, 48.864716, 47.373878, 51.260197, 52.377956, 53.35014, 40.416775, 48.210033, 46.056946, 50.073658, 55.676098]\n",
    "longitudes = [-77.036975, -73.994982, -80.168933, -118.175596, -96.76923, -122.348286, -104.977053, -75.165222, -86.148003, -97.508469, -86.76796, -87.623177, -0.118092, 13.404954, 11.576124, 2.349014, 8.545094, 4.402771, 4.89707, -6.266155, -3.70379, 16.363449, 14.505751, 14.41854, 12.568337]\n",
    "timezones = [\"America/New_York\", \"America/New_York\", \"America/New_York\", \"America/Los_Angeles\", \"America/Chicago\", \"America/Los_Angeles\", \"America/Denver\", \"America/New_York\", \"America/Indiana/Indianapolis\", \"America/Chicago\", \"America/Chicago\", \"America/Chicago\", \"Europe/London\", \"Europe/Berlin\", \"Europe/Berlin\", \"Europe/Paris\", \"Europe/Zurich\", \"Europe/Brussels\", \"Europe/Amsterdam\", \"Europe/Dublin\", \"Europe/Madrid\", \"Europe/Vienna\", \"Europe/Ljubljana\", \"Europe/Prague\", \"Europe/Copenhagen\"]\n",
    "\n",
    "params = {\n",
    "\t\"latitude\": latitudes,\n",
    "\t\"longitude\": longitudes,\n",
    "\t\"start_date\": start_date,\n",
    "\t\"end_date\": end_date,\n",
    "\t\"hourly\": [\"temperature_2m\", \"relative_humidity_2m\", \"precipitation\", \"rain\", \"snowfall\", \"snow_depth\", \"weather_code\", \"wind_speed_10m\", \"wind_speed_100m\", \"wind_direction_10m\", \"wind_direction_100m\", \"wind_gusts_10m\", \"dew_point_2m\", \"cloud_cover\", \"shortwave_radiation\", \"pressure_msl\", \"surface_pressure\"],\n",
    "\t\"timezone\": \"GMT\" #timezones\n",
    "}\n",
    "responses = openmeteo.weather_api(url, params=params)# Process first location. Add a for-loop for multiple locations or weather models"
   ]
  },
  {
   "cell_type": "code",
   "execution_count": 0,
   "metadata": {
    "application/vnd.databricks.v1+cell": {
     "cellMetadata": {
      "byteLimit": 2048000,
      "rowLimit": 10000
     },
     "inputWidgets": {},
     "nuid": "52cf2973-c633-488b-9096-e476573bd40c",
     "showTitle": false,
     "tableResultSettingsMap": {},
     "title": ""
    },
    "tags": [],
    "trusted": true
   },
   "outputs": [],
   "source": [
    "for i, response in enumerate(responses):\n",
    "\n",
    "    #response = responses[0]\n",
    "    #print(f\"Coordinates {response.Latitude()}°N {response.Longitude()}°E\")\n",
    "    #print(f\"Elevation {response.Elevation()} m asl\")\n",
    "    #print(f\"Timezone {response.Timezone()} {response.TimezoneAbbreviation()}\")\n",
    "    #print(f\"Timezone difference to GMT+0 {response.UtcOffsetSeconds()} s\")\n",
    "\n",
    "    # Process hourly data. The order of variables needs to be the same as requested.\n",
    "    hourly = response.Hourly()\n",
    "    hourly_temperature_2m = hourly.Variables(0).ValuesAsNumpy()\n",
    "    hourly_relative_humidity_2m = hourly.Variables(1).ValuesAsNumpy()\n",
    "    hourly_precipitation = hourly.Variables(2).ValuesAsNumpy()\n",
    "    hourly_rain = hourly.Variables(3).ValuesAsNumpy()\n",
    "    hourly_snowfall = hourly.Variables(4).ValuesAsNumpy()\n",
    "    hourly_snow_depth = hourly.Variables(5).ValuesAsNumpy()\n",
    "    hourly_weather_code = hourly.Variables(6).ValuesAsNumpy()\n",
    "    hourly_wind_speed_10m = hourly.Variables(7).ValuesAsNumpy()\n",
    "    hourly_wind_speed_100m = hourly.Variables(8).ValuesAsNumpy()\n",
    "    hourly_wind_direction_10m = hourly.Variables(9).ValuesAsNumpy()\n",
    "    hourly_wind_direction_100m = hourly.Variables(10).ValuesAsNumpy()\n",
    "    hourly_wind_gusts_10m = hourly.Variables(11).ValuesAsNumpy()\n",
    "    hourly_dew_point_2m = hourly.Variables(12).ValuesAsNumpy()\n",
    "    hourly_cloud_cover = hourly.Variables(13).ValuesAsNumpy()\n",
    "    hourly_shortwave_radiation = hourly.Variables(14).ValuesAsNumpy()\n",
    "    hourly_pressure_msl = hourly.Variables(15).ValuesAsNumpy()\n",
    "    hourly_surface_pressure = hourly.Variables(16).ValuesAsNumpy()\n",
    "\n",
    "    hourly_data = {\"date\": pd.date_range(\n",
    "        start = pd.to_datetime(hourly.Time(), unit = \"s\", utc = True),\n",
    "        end = pd.to_datetime(hourly.TimeEnd(), unit = \"s\", utc = True),\n",
    "        freq = pd.Timedelta(seconds = hourly.Interval()),\n",
    "        inclusive = \"left\"\n",
    "    )}\n",
    "\n",
    "    hourly_data[\"latitude\"] = latitudes[i]\n",
    "    hourly_data[\"longitude\"] = longitudes[i]\n",
    "    hourly_data[\"timezone\"] = timezones[i]\n",
    "\n",
    "    hourly_data[\"temperature_2m\"] = hourly_temperature_2m\n",
    "    hourly_data[\"relative_humidity_2m\"] = hourly_relative_humidity_2m\n",
    "    hourly_data[\"precipitation\"] = hourly_precipitation\n",
    "    hourly_data[\"rain\"] = hourly_rain\n",
    "    hourly_data[\"snowfall\"] = hourly_snowfall\n",
    "    hourly_data[\"snow_depth\"] = hourly_snow_depth\n",
    "    hourly_data[\"weather_code\"] = hourly_weather_code\n",
    "    hourly_data[\"wind_speed_10m\"] = hourly_wind_speed_10m\n",
    "    hourly_data[\"wind_speed_100m\"] = hourly_wind_speed_100m\n",
    "    hourly_data[\"wind_direction_10m\"] = hourly_wind_direction_10m\n",
    "    hourly_data[\"wind_direction_100m\"] = hourly_wind_direction_100m\n",
    "    hourly_data[\"wind_gusts_10m\"] = hourly_wind_gusts_10m\n",
    "    hourly_data[\"dew_point_2m\"] = hourly_dew_point_2m\n",
    "    hourly_data[\"cloud_cover\"] = hourly_cloud_cover\n",
    "    hourly_data[\"shortwave_radiation\"] = hourly_shortwave_radiation\n",
    "    hourly_data[\"pressure_msl\"] = hourly_pressure_msl\n",
    "    hourly_data[\"surface_pressure\"] = hourly_surface_pressure\n",
    "\n",
    "    hourly_dataframe = pd.DataFrame(data = hourly_data)\n",
    "    \n",
    "    if i == 0:\n",
    "        # Convert `daily_dataframe` to a Spark DataFrame\n",
    "        spark_df = spark.createDataFrame(hourly_dataframe)\n",
    "    else:\n",
    "        # Convert `daily_dataframe` to a Spark DataFrame\n",
    "        hourly_spark_df = spark.createDataFrame(hourly_dataframe)\n",
    "\n",
    "        # Concatenate the two Spark DataFrames\n",
    "        spark_df = spark_df.unionByName(hourly_spark_df)\n",
    "    \n",
    "    \n",
    "    #print(hourly_dataframe)"
   ]
  },
  {
   "cell_type": "code",
   "execution_count": 0,
   "metadata": {
    "application/vnd.databricks.v1+cell": {
     "cellMetadata": {
      "byteLimit": 2048000,
      "rowLimit": 10000
     },
     "inputWidgets": {},
     "nuid": "5d178e40-acfc-40ce-b7f9-e5c093df41be",
     "showTitle": false,
     "tableResultSettingsMap": {},
     "title": ""
    },
    "tags": [],
    "trusted": true
   },
   "outputs": [
    {
     "output_type": "stream",
     "name": "stdout",
     "output_type": "stream",
     "text": [
      "root\n |-- date: timestamp (nullable = true)\n |-- latitude: double (nullable = true)\n |-- longitude: double (nullable = true)\n |-- timezone: string (nullable = true)\n |-- temperature_2m: double (nullable = true)\n |-- relative_humidity_2m: double (nullable = true)\n |-- precipitation: double (nullable = true)\n |-- rain: double (nullable = true)\n |-- snowfall: double (nullable = true)\n |-- snow_depth: double (nullable = true)\n |-- weather_code: double (nullable = true)\n |-- wind_speed_10m: double (nullable = true)\n |-- wind_speed_100m: double (nullable = true)\n |-- wind_direction_10m: double (nullable = true)\n |-- wind_direction_100m: double (nullable = true)\n |-- wind_gusts_10m: double (nullable = true)\n\n"
     ]
    }
   ],
   "source": [
    "spark_df.printSchema()"
   ]
  },
  {
   "cell_type": "code",
   "execution_count": 0,
   "metadata": {
    "application/vnd.databricks.v1+cell": {
     "cellMetadata": {
      "byteLimit": 2048000,
      "rowLimit": 10000
     },
     "inputWidgets": {},
     "nuid": "c4a2ef89-3fa8-4307-bc8b-1298d53518e2",
     "showTitle": false,
     "tableResultSettingsMap": {},
     "title": ""
    },
    "tags": [],
    "trusted": true
   },
   "outputs": [
    {
     "output_type": "execute_result",
     "data": {
      "text/plain": [
       "7800"
      ]
     },
     "execution_count": 9,
     "metadata": {},
     "output_type": "execute_result"
    }
   ],
   "source": [
    "spark_df.count()"
   ]
  },
  {
   "cell_type": "code",
   "execution_count": 0,
   "metadata": {
    "application/vnd.databricks.v1+cell": {
     "cellMetadata": {
      "byteLimit": 2048000,
      "rowLimit": 10000
     },
     "inputWidgets": {},
     "nuid": "02a24be2-5080-40a7-95d3-656da4e8a139",
     "showTitle": false,
     "tableResultSettingsMap": {},
     "title": ""
    },
    "tags": [],
    "trusted": true
   },
   "outputs": [],
   "source": [
    "spark_df.write.mode(\"overwrite\").parquet(adls_path)"
   ]
  },
  {
   "cell_type": "code",
   "execution_count": 0,
   "metadata": {
    "application/vnd.databricks.v1+cell": {
     "cellMetadata": {
      "byteLimit": 2048000,
      "rowLimit": 10000
     },
     "inputWidgets": {},
     "nuid": "da5fe828-d386-42dd-9821-ac870c22faf4",
     "showTitle": false,
     "tableResultSettingsMap": {},
     "title": ""
    },
    "tags": [],
    "trusted": true
   },
   "outputs": [
    {
     "output_type": "stream",
     "name": "stdout",
     "output_type": "stream",
     "text": [
      "+--------------------+-----------+-------------------+\n|           file_name|latest_data|       date_updated|\n+--------------------+-----------+-------------------+\n|hourly_historical...| 2024-12-08|2024-12-10 16:15:53|\n+--------------------+-----------+-------------------+\n\n"
     ]
    }
   ],
   "source": [
    "from pyspark.sql.types import StructType, StructField, StringType\n",
    "from datetime import datetime\n",
    "\n",
    "# Get current date and time\n",
    "now = datetime.now()\n",
    "\n",
    "# Format date and time as a string\n",
    "formatted_date_time = now.strftime(\"%Y-%m-%d %H:%M:%S\")\n",
    "\n",
    "# Sample data\n",
    "data = [\n",
    "    (org_file_name, end_date, formatted_date_time)\n",
    "]\n",
    "\n",
    "# Define schema\n",
    "schema = StructType([\n",
    "    StructField(\"file_name\", StringType(), True),\n",
    "    StructField(\"latest_data\", StringType(), True),\n",
    "    StructField(\"date_updated\", StringType(), True)\n",
    "])\n",
    "\n",
    "# Create DataFrame\n",
    "df_log = spark.createDataFrame(data, schema)\n",
    "\n",
    "# Show DataFrame\n",
    "df_log.show()"
   ]
  },
  {
   "cell_type": "code",
   "execution_count": 0,
   "metadata": {
    "application/vnd.databricks.v1+cell": {
     "cellMetadata": {
      "byteLimit": 2048000,
      "rowLimit": 10000
     },
     "inputWidgets": {},
     "nuid": "99d59696-401f-4403-81d4-982acd5e5695",
     "showTitle": false,
     "tableResultSettingsMap": {},
     "title": ""
    },
    "tags": [],
    "trusted": true
   },
   "outputs": [],
   "source": [
    "df_log.write.mode(\"append\").parquet(f\"/mnt/{container_name}/Gold/log.parquet\")"
   ]
  }
 ],
 "metadata": {
  "application/vnd.databricks.v1+notebook": {
   "computePreferences": null,
   "dashboards": [],
   "environmentMetadata": null,
   "language": "python",
   "notebookMetadata": {
    "pythonIndentUnit": 4
   },
   "notebookName": "hourly_historical-updates.ipynb",
   "widgets": {}
  },
  "kernelspec": {
   "display_name": "Glue PySpark",
   "language": "python",
   "name": "glue_pyspark"
  },
  "language_info": {
   "name": "python"
  }
 },
 "nbformat": 4,
 "nbformat_minor": 0
}