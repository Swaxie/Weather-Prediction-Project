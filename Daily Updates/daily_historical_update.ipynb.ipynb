{
 "cells": [
  {
   "cell_type": "code",
   "execution_count": 0,
   "metadata": {
    "application/vnd.databricks.v1+cell": {
     "cellMetadata": {
      "byteLimit": 2048000,
      "rowLimit": 10000
     },
     "inputWidgets": {},
     "nuid": "873b0b35-f912-4feb-85c9-48b4b601a162",
     "showTitle": false,
     "tableResultSettingsMap": {},
     "title": ""
    },
    "tags": [],
    "trusted": true
   },
   "outputs": [
    {
     "output_type": "stream",
     "name": "stdout",
     "output_type": "stream",
     "text": [
      "Collecting openmeteo-requests\n  Obtaining dependency information for openmeteo-requests from https://files.pythonhosted.org/packages/13/31/96209383687cf35055eb628e3a9207a07ac2d5faf6e70076f459435a989e/openmeteo_requests-1.3.0-py3-none-any.whl.metadata\n  Downloading openmeteo_requests-1.3.0-py3-none-any.whl.metadata (9.7 kB)\nCollecting openmeteo-sdk>=1.4.0 (from openmeteo-requests)\n  Obtaining dependency information for openmeteo-sdk>=1.4.0 from https://files.pythonhosted.org/packages/18/9a/f33c4eb783d505d0099c039bbac30da09266027d9e3e0b5de76ef796749d/openmeteo_sdk-1.18.0-py3-none-any.whl.metadata\n  Downloading openmeteo_sdk-1.18.0-py3-none-any.whl.metadata (934 bytes)\nRequirement already satisfied: requests in /databricks/python3/lib/python3.11/site-packages (from openmeteo-requests) (2.31.0)\nCollecting flatbuffers>=24.0.0 (from openmeteo-sdk>=1.4.0->openmeteo-requests)\n  Obtaining dependency information for flatbuffers>=24.0.0 from https://files.pythonhosted.org/packages/41/f0/7e988a019bc54b2dbd0ad4182ef2d53488bb02e58694cd79d61369e85900/flatbuffers-24.3.25-py2.py3-none-any.whl.metadata\n  Downloading flatbuffers-24.3.25-py2.py3-none-any.whl.metadata (850 bytes)\nRequirement already satisfied: charset-normalizer<4,>=2 in /databricks/python3/lib/python3.11/site-packages (from requests->openmeteo-requests) (2.0.4)\nRequirement already satisfied: idna<4,>=2.5 in /databricks/python3/lib/python3.11/site-packages (from requests->openmeteo-requests) (3.4)\nRequirement already satisfied: urllib3<3,>=1.21.1 in /databricks/python3/lib/python3.11/site-packages (from requests->openmeteo-requests) (1.26.16)\nRequirement already satisfied: certifi>=2017.4.17 in /databricks/python3/lib/python3.11/site-packages (from requests->openmeteo-requests) (2023.7.22)\nDownloading openmeteo_requests-1.3.0-py3-none-any.whl (6.0 kB)\nDownloading openmeteo_sdk-1.18.0-py3-none-any.whl (7.6 kB)\nDownloading flatbuffers-24.3.25-py2.py3-none-any.whl (26 kB)\nInstalling collected packages: flatbuffers, openmeteo-sdk, openmeteo-requests\nSuccessfully installed flatbuffers-24.3.25 openmeteo-requests-1.3.0 openmeteo-sdk-1.18.0\n\u001B[43mNote: you may need to restart the kernel using %restart_python or dbutils.library.restartPython() to use updated packages.\u001B[0m\nCollecting requests-cache\n  Obtaining dependency information for requests-cache from https://files.pythonhosted.org/packages/4e/2e/8f4051119f460cfc786aa91f212165bb6e643283b533db572d7b33952bd2/requests_cache-1.2.1-py3-none-any.whl.metadata\n  Downloading requests_cache-1.2.1-py3-none-any.whl.metadata (9.9 kB)\nCollecting retry-requests\n  Obtaining dependency information for retry-requests from https://files.pythonhosted.org/packages/b1/f3/8ce908497bebbc2790ef06240a2c0fb28c096abb59062d88f85090464a5f/retry_requests-2.0.0-py3-none-any.whl.metadata\n  Downloading retry_requests-2.0.0-py3-none-any.whl.metadata (2.6 kB)\nRequirement already satisfied: numpy in /databricks/python3/lib/python3.11/site-packages (1.23.5)\nRequirement already satisfied: pandas in /databricks/python3/lib/python3.11/site-packages (1.5.3)\nCollecting attrs>=21.2 (from requests-cache)\n  Obtaining dependency information for attrs>=21.2 from https://files.pythonhosted.org/packages/6a/21/5b6702a7f963e95456c0de2d495f67bf5fd62840ac655dc451586d23d39a/attrs-24.2.0-py3-none-any.whl.metadata\n  Downloading attrs-24.2.0-py3-none-any.whl.metadata (11 kB)\nCollecting cattrs>=22.2 (from requests-cache)\n  Obtaining dependency information for cattrs>=22.2 from https://files.pythonhosted.org/packages/c8/d5/867e75361fc45f6de75fe277dd085627a9db5ebb511a87f27dc1396b5351/cattrs-24.1.2-py3-none-any.whl.metadata\n  Downloading cattrs-24.1.2-py3-none-any.whl.metadata (8.4 kB)\nRequirement already satisfied: platformdirs>=2.5 in /databricks/python3/lib/python3.11/site-packages (from requests-cache) (3.10.0)\nRequirement already satisfied: requests>=2.22 in /databricks/python3/lib/python3.11/site-packages (from requests-cache) (2.31.0)\nCollecting url-normalize>=1.4 (from requests-cache)\n  Obtaining dependency information for url-normalize>=1.4 from https://files.pythonhosted.org/packages/65/1c/6c6f408be78692fc850006a2b6dea37c2b8592892534e09996e401efc74b/url_normalize-1.4.3-py2.py3-none-any.whl.metadata\n  Downloading url_normalize-1.4.3-py2.py3-none-any.whl.metadata (3.1 kB)\nRequirement already satisfied: urllib3>=1.25.5 in /databricks/python3/lib/python3.11/site-packages (from requests-cache) (1.26.16)\nRequirement already satisfied: python-dateutil>=2.8.1 in /databricks/python3/lib/python3.11/site-packages (from pandas) (2.8.2)\nRequirement already satisfied: pytz>=2020.1 in /databricks/python3/lib/python3.11/site-packages (from pandas) (2022.7)\nRequirement already satisfied: six>=1.5 in /usr/lib/python3/dist-packages (from python-dateutil>=2.8.1->pandas) (1.16.0)\nRequirement already satisfied: charset-normalizer<4,>=2 in /databricks/python3/lib/python3.11/site-packages (from requests>=2.22->requests-cache) (2.0.4)\nRequirement already satisfied: idna<4,>=2.5 in /databricks/python3/lib/python3.11/site-packages (from requests>=2.22->requests-cache) (3.4)\nRequirement already satisfied: certifi>=2017.4.17 in /databricks/python3/lib/python3.11/site-packages (from requests>=2.22->requests-cache) (2023.7.22)\nDownloading requests_cache-1.2.1-py3-none-any.whl (61 kB)\n\u001B[?25l   \u001B[90m━━━━━━━━━━━━━━━━━━━━━━━━━━━━━━━━━━━━━━━━\u001B[0m \u001B[32m0.0/61.4 kB\u001B[0m \u001B[31m?\u001B[0m eta \u001B[36m-:--:--\u001B[0m\n\u001B[2K   \u001B[90m━━━━━━━━━━━━━━━━━━━━━━━━━━━━━━━━━━━━━━━━\u001B[0m \u001B[32m61.4/61.4 kB\u001B[0m \u001B[31m3.8 MB/s\u001B[0m eta \u001B[36m0:00:00\u001B[0m\n\u001B[?25hDownloading retry_requests-2.0.0-py3-none-any.whl (15 kB)\nDownloading attrs-24.2.0-py3-none-any.whl (63 kB)\n\u001B[?25l   \u001B[90m━━━━━━━━━━━━━━━━━━━━━━━━━━━━━━━━━━━━━━━━\u001B[0m \u001B[32m0.0/63.0 kB\u001B[0m \u001B[31m?\u001B[0m eta \u001B[36m-:--:--\u001B[0m\n\u001B[2K   \u001B[90m━━━━━━━━━━━━━━━━━━━━━━━━━━━━━━━━━━━━━━━━\u001B[0m \u001B[32m63.0/63.0 kB\u001B[0m \u001B[31m8.3 MB/s\u001B[0m eta \u001B[36m0:00:00\u001B[0m\n\u001B[?25hDownloading cattrs-24.1.2-py3-none-any.whl (66 kB)\n\u001B[?25l   \u001B[90m━━━━━━━━━━━━━━━━━━━━━━━━━━━━━━━━━━━━━━━━\u001B[0m \u001B[32m0.0/66.4 kB\u001B[0m \u001B[31m?\u001B[0m eta \u001B[36m-:--:--\u001B[0m\n\u001B[2K   \u001B[90m━━━━━━━━━━━━━━━━━━━━━━━━━━━━━━━━━━━━━━━━\u001B[0m \u001B[32m66.4/66.4 kB\u001B[0m \u001B[31m9.1 MB/s\u001B[0m eta \u001B[36m0:00:00\u001B[0m\n\u001B[?25hDownloading url_normalize-1.4.3-py2.py3-none-any.whl (6.8 kB)\nInstalling collected packages: url-normalize, attrs, retry-requests, cattrs, requests-cache\nSuccessfully installed attrs-24.2.0 cattrs-24.1.2 requests-cache-1.2.1 retry-requests-2.0.0 url-normalize-1.4.3\n\u001B[43mNote: you may need to restart the kernel using %restart_python or dbutils.library.restartPython() to use updated packages.\u001B[0m\n"
     ]
    }
   ],
   "source": [
    "%pip install openmeteo-requests\n",
    "%pip install requests-cache retry-requests numpy pandas\n"
   ]
  },
  {
   "cell_type": "code",
   "execution_count": 0,
   "metadata": {
    "application/vnd.databricks.v1+cell": {
     "cellMetadata": {
      "byteLimit": 2048000,
      "rowLimit": 10000
     },
     "inputWidgets": {},
     "nuid": "006cd614-0f32-4042-98b8-8fee5c0da5a2",
     "showTitle": false,
     "tableResultSettingsMap": {},
     "title": ""
    },
    "tags": [],
    "trusted": true
   },
   "outputs": [],
   "source": [
    "import openmeteo_requests\n",
    "\n",
    "import requests_cache\n",
    "import pandas as pd\n",
    "from retry_requests import retry\n",
    "from datetime import datetime, timedelta\n",
    "from pyspark.sql.functions import col, max as spark_max\n"
   ]
  },
  {
   "cell_type": "code",
   "execution_count": 0,
   "metadata": {
    "application/vnd.databricks.v1+cell": {
     "cellMetadata": {
      "byteLimit": 2048000,
      "rowLimit": 10000
     },
     "inputWidgets": {},
     "nuid": "f3ac3a36-cbb5-404f-9bd6-7d0b10533af2",
     "showTitle": false,
     "tableResultSettingsMap": {},
     "title": ""
    },
    "tags": [],
    "trusted": true
   },
   "outputs": [
    {
     "output_type": "stream",
     "name": "stdout",
     "output_type": "stream",
     "text": [
      "Ingestion will start from: 2024-09-02\nEnd date is set to: 2024-12-05\n"
     ]
    }
   ],
   "source": [
    "# Define adls container details and file path\n",
    "container_name = \"de-upskilling-weather\"\n",
    "folder = \"LandingZone\"\n",
    "file_name = \"daily_historical.parquet\"\n",
    "adls_path = f\"/mnt/{container_name}/{folder}/{file_name}\"\n",
    "\n",
    "# Default start date\n",
    "default_start_date = \"01-01-2010\"\n",
    "\n",
    "try:\n",
    "    # Try to load the existing data from S3\n",
    "    df_existing = spark.read.parquet(adls_path)\n",
    "    \n",
    "    # Get the maximum date in the DataFrame\n",
    "    last_date_row = df_existing.select(spark_max(col(\"date\")).alias(\"last_date\")).collect()[0]\n",
    "    last_date = last_date_row[\"last_date\"]\n",
    "\n",
    "    # Set start_date to one day after the last date\n",
    "    start_date = (last_date + timedelta(days=1)).strftime(\"%d-%m-%Y\")\n",
    "\n",
    "except Exception as e:\n",
    "    # If the file does not exist or there's an error, set start_date to the default\n",
    "    print(\"Data file not found, starting from default date.\")\n",
    "    start_date = default_start_date\n",
    "\n",
    "end_date = (datetime.today() - timedelta(days=1)).strftime(\"%d-%m-%Y\")\n",
    "\n",
    "# Convert to datetime object\n",
    "start_date = datetime.strptime(start_date, \"%d-%m-%Y\")\n",
    "# Format back to desired format\n",
    "start_date = start_date.strftime(\"%Y-%m-%d\") \n",
    "\n",
    "\n",
    "# Convert to datetime object\n",
    "end_date = datetime.strptime(end_date, \"%d-%m-%Y\")\n",
    "# Format back to desired format\n",
    "end_date = end_date.strftime(\"%Y-%m-%d\")\n",
    "    \n",
    "print(\"Ingestion will start from:\", start_date)\n",
    "\n",
    "\n",
    "print(\"End date is set to:\", end_date)"
   ]
  },
  {
   "cell_type": "code",
   "execution_count": 0,
   "metadata": {
    "application/vnd.databricks.v1+cell": {
     "cellMetadata": {
      "byteLimit": 2048000,
      "rowLimit": 10000
     },
     "inputWidgets": {},
     "nuid": "50ef7e8e-97cc-4d62-9233-be58d55610c4",
     "showTitle": false,
     "tableResultSettingsMap": {},
     "title": ""
    },
    "tags": [],
    "trusted": true
   },
   "outputs": [
    {
     "output_type": "display_data",
     "data": {
      "text/plain": [
       "\u001B[0;31m---------------------------------------------------------------------------\u001B[0m\n",
       "\u001B[0;31mOpenMeteoRequestsError\u001B[0m                    Traceback (most recent call last)\n",
       "File \u001B[0;32m<command-2672634603601895>, line 19\u001B[0m\n",
       "\u001B[1;32m     11\u001B[0m longitudes \u001B[38;5;241m=\u001B[39m [\u001B[38;5;241m-\u001B[39m\u001B[38;5;241m77.036975\u001B[39m, \u001B[38;5;241m-\u001B[39m\u001B[38;5;241m73.994982\u001B[39m, \u001B[38;5;241m-\u001B[39m\u001B[38;5;241m80.168933\u001B[39m, \u001B[38;5;241m-\u001B[39m\u001B[38;5;241m118.175596\u001B[39m, \u001B[38;5;241m-\u001B[39m\u001B[38;5;241m96.76923\u001B[39m, \u001B[38;5;241m-\u001B[39m\u001B[38;5;241m122.348286\u001B[39m, \u001B[38;5;241m-\u001B[39m\u001B[38;5;241m104.977053\u001B[39m, \u001B[38;5;241m-\u001B[39m\u001B[38;5;241m75.165222\u001B[39m, \u001B[38;5;241m-\u001B[39m\u001B[38;5;241m86.148003\u001B[39m, \u001B[38;5;241m-\u001B[39m\u001B[38;5;241m97.508469\u001B[39m, \u001B[38;5;241m-\u001B[39m\u001B[38;5;241m86.76796\u001B[39m, \u001B[38;5;241m-\u001B[39m\u001B[38;5;241m87.623177\u001B[39m, \u001B[38;5;241m-\u001B[39m\u001B[38;5;241m0.118092\u001B[39m, \u001B[38;5;241m13.404954\u001B[39m, \u001B[38;5;241m11.576124\u001B[39m, \u001B[38;5;241m2.349014\u001B[39m, \u001B[38;5;241m8.545094\u001B[39m, \u001B[38;5;241m4.402771\u001B[39m, \u001B[38;5;241m4.89707\u001B[39m, \u001B[38;5;241m-\u001B[39m\u001B[38;5;241m6.266155\u001B[39m, \u001B[38;5;241m-\u001B[39m\u001B[38;5;241m3.70379\u001B[39m, \u001B[38;5;241m16.363449\u001B[39m, \u001B[38;5;241m14.505751\u001B[39m, \u001B[38;5;241m14.41854\u001B[39m, \u001B[38;5;241m12.568337\u001B[39m]\n",
       "\u001B[1;32m     12\u001B[0m params \u001B[38;5;241m=\u001B[39m {\n",
       "\u001B[1;32m     13\u001B[0m \t\u001B[38;5;124m\"\u001B[39m\u001B[38;5;124mlatitude\u001B[39m\u001B[38;5;124m\"\u001B[39m: latitudes,\n",
       "\u001B[1;32m     14\u001B[0m \t\u001B[38;5;124m\"\u001B[39m\u001B[38;5;124mlongitude\u001B[39m\u001B[38;5;124m\"\u001B[39m: longitudes,\n",
       "\u001B[0;32m   (...)\u001B[0m\n",
       "\u001B[1;32m     17\u001B[0m \t\u001B[38;5;124m\"\u001B[39m\u001B[38;5;124mdaily\u001B[39m\u001B[38;5;124m\"\u001B[39m: [\u001B[38;5;124m\"\u001B[39m\u001B[38;5;124mtemperature_2m_max\u001B[39m\u001B[38;5;124m\"\u001B[39m, \u001B[38;5;124m\"\u001B[39m\u001B[38;5;124mtemperature_2m_min\u001B[39m\u001B[38;5;124m\"\u001B[39m, \u001B[38;5;124m\"\u001B[39m\u001B[38;5;124mtemperature_2m_mean\u001B[39m\u001B[38;5;124m\"\u001B[39m, \u001B[38;5;124m\"\u001B[39m\u001B[38;5;124mapparent_temperature_max\u001B[39m\u001B[38;5;124m\"\u001B[39m, \u001B[38;5;124m\"\u001B[39m\u001B[38;5;124mapparent_temperature_min\u001B[39m\u001B[38;5;124m\"\u001B[39m, \u001B[38;5;124m\"\u001B[39m\u001B[38;5;124mapparent_temperature_mean\u001B[39m\u001B[38;5;124m\"\u001B[39m, \u001B[38;5;124m\"\u001B[39m\u001B[38;5;124mprecipitation_sum\u001B[39m\u001B[38;5;124m\"\u001B[39m, \u001B[38;5;124m\"\u001B[39m\u001B[38;5;124mrain_sum\u001B[39m\u001B[38;5;124m\"\u001B[39m, \u001B[38;5;124m\"\u001B[39m\u001B[38;5;124msnowfall_sum\u001B[39m\u001B[38;5;124m\"\u001B[39m, \u001B[38;5;124m\"\u001B[39m\u001B[38;5;124mwind_speed_10m_max\u001B[39m\u001B[38;5;124m\"\u001B[39m, \u001B[38;5;124m\"\u001B[39m\u001B[38;5;124mwind_gusts_10m_max\u001B[39m\u001B[38;5;124m\"\u001B[39m, \u001B[38;5;124m\"\u001B[39m\u001B[38;5;124mwind_direction_10m_dominant\u001B[39m\u001B[38;5;124m\"\u001B[39m]\n",
       "\u001B[1;32m     18\u001B[0m }\n",
       "\u001B[0;32m---> 19\u001B[0m responses \u001B[38;5;241m=\u001B[39m openmeteo\u001B[38;5;241m.\u001B[39mweather_api(url, params\u001B[38;5;241m=\u001B[39mparams)\n",
       "\n",
       "File \u001B[0;32m/local_disk0/.ephemeral_nfs/envs/pythonEnv-90b63ce5-442d-471a-8626-f78ec8efe80d/lib/python3.11/site-packages/openmeteo_requests/Client.py:54\u001B[0m, in \u001B[0;36mClient.weather_api\u001B[0;34m(self, url, params, method, verify)\u001B[0m\n",
       "\u001B[1;32m     50\u001B[0m \u001B[38;5;28;01mdef\u001B[39;00m \u001B[38;5;21mweather_api\u001B[39m(\n",
       "\u001B[1;32m     51\u001B[0m     \u001B[38;5;28mself\u001B[39m, url: \u001B[38;5;28mstr\u001B[39m, params: \u001B[38;5;28many\u001B[39m, method: \u001B[38;5;28mstr\u001B[39m \u001B[38;5;241m=\u001B[39m \u001B[38;5;124m\"\u001B[39m\u001B[38;5;124mGET\u001B[39m\u001B[38;5;124m\"\u001B[39m, verify: \u001B[38;5;28mbool\u001B[39m \u001B[38;5;241m|\u001B[39m \u001B[38;5;28mstr\u001B[39m \u001B[38;5;241m|\u001B[39m \u001B[38;5;28;01mNone\u001B[39;00m \u001B[38;5;241m=\u001B[39m \u001B[38;5;28;01mNone\u001B[39;00m\n",
       "\u001B[1;32m     52\u001B[0m ) \u001B[38;5;241m-\u001B[39m\u001B[38;5;241m>\u001B[39m \u001B[38;5;28mlist\u001B[39m[WeatherApiResponse]:\n",
       "\u001B[1;32m     53\u001B[0m \u001B[38;5;250m    \u001B[39m\u001B[38;5;124;03m\"\"\"Get and decode as weather api\"\"\"\u001B[39;00m\n",
       "\u001B[0;32m---> 54\u001B[0m     \u001B[38;5;28;01mreturn\u001B[39;00m \u001B[38;5;28mself\u001B[39m\u001B[38;5;241m.\u001B[39m_get(WeatherApiResponse, url, params, method, verify)\n",
       "\n",
       "File \u001B[0;32m/local_disk0/.ephemeral_nfs/envs/pythonEnv-90b63ce5-442d-471a-8626-f78ec8efe80d/lib/python3.11/site-packages/openmeteo_requests/Client.py:35\u001B[0m, in \u001B[0;36mClient._get\u001B[0;34m(self, cls, url, params, method, verify)\u001B[0m\n",
       "\u001B[1;32m     33\u001B[0m \u001B[38;5;28;01mif\u001B[39;00m response\u001B[38;5;241m.\u001B[39mstatus_code \u001B[38;5;129;01min\u001B[39;00m [\u001B[38;5;241m400\u001B[39m, \u001B[38;5;241m429\u001B[39m]:\n",
       "\u001B[1;32m     34\u001B[0m     response_body \u001B[38;5;241m=\u001B[39m response\u001B[38;5;241m.\u001B[39mjson()\n",
       "\u001B[0;32m---> 35\u001B[0m     \u001B[38;5;28;01mraise\u001B[39;00m OpenMeteoRequestsError(response_body)\n",
       "\u001B[1;32m     37\u001B[0m response\u001B[38;5;241m.\u001B[39mraise_for_status()\n",
       "\u001B[1;32m     39\u001B[0m data \u001B[38;5;241m=\u001B[39m response\u001B[38;5;241m.\u001B[39mcontent\n",
       "\n",
       "\u001B[0;31mOpenMeteoRequestsError\u001B[0m: {'error': True, 'reason': 'Daily API request limit exceeded. Please try again tomorrow.'}"
      ]
     },
     "metadata": {
      "application/vnd.databricks.v1+output": {
       "addedWidgets": {},
       "arguments": {},
       "datasetInfos": [],
       "jupyterProps": {
        "ename": "OpenMeteoRequestsError",
        "evalue": "{'error': True, 'reason': 'Daily API request limit exceeded. Please try again tomorrow.'}"
       },
       "metadata": {
        "errorSummary": "<span class='ansi-red-fg'>OpenMeteoRequestsError</span>: {'error': True, 'reason': 'Daily API request limit exceeded. Please try again tomorrow.'}"
       },
       "removedWidgets": [],
       "sqlProps": null,
       "stackFrames": [
        "\u001B[0;31m---------------------------------------------------------------------------\u001B[0m",
        "\u001B[0;31mOpenMeteoRequestsError\u001B[0m                    Traceback (most recent call last)",
        "File \u001B[0;32m<command-2672634603601895>, line 19\u001B[0m\n\u001B[1;32m     11\u001B[0m longitudes \u001B[38;5;241m=\u001B[39m [\u001B[38;5;241m-\u001B[39m\u001B[38;5;241m77.036975\u001B[39m, \u001B[38;5;241m-\u001B[39m\u001B[38;5;241m73.994982\u001B[39m, \u001B[38;5;241m-\u001B[39m\u001B[38;5;241m80.168933\u001B[39m, \u001B[38;5;241m-\u001B[39m\u001B[38;5;241m118.175596\u001B[39m, \u001B[38;5;241m-\u001B[39m\u001B[38;5;241m96.76923\u001B[39m, \u001B[38;5;241m-\u001B[39m\u001B[38;5;241m122.348286\u001B[39m, \u001B[38;5;241m-\u001B[39m\u001B[38;5;241m104.977053\u001B[39m, \u001B[38;5;241m-\u001B[39m\u001B[38;5;241m75.165222\u001B[39m, \u001B[38;5;241m-\u001B[39m\u001B[38;5;241m86.148003\u001B[39m, \u001B[38;5;241m-\u001B[39m\u001B[38;5;241m97.508469\u001B[39m, \u001B[38;5;241m-\u001B[39m\u001B[38;5;241m86.76796\u001B[39m, \u001B[38;5;241m-\u001B[39m\u001B[38;5;241m87.623177\u001B[39m, \u001B[38;5;241m-\u001B[39m\u001B[38;5;241m0.118092\u001B[39m, \u001B[38;5;241m13.404954\u001B[39m, \u001B[38;5;241m11.576124\u001B[39m, \u001B[38;5;241m2.349014\u001B[39m, \u001B[38;5;241m8.545094\u001B[39m, \u001B[38;5;241m4.402771\u001B[39m, \u001B[38;5;241m4.89707\u001B[39m, \u001B[38;5;241m-\u001B[39m\u001B[38;5;241m6.266155\u001B[39m, \u001B[38;5;241m-\u001B[39m\u001B[38;5;241m3.70379\u001B[39m, \u001B[38;5;241m16.363449\u001B[39m, \u001B[38;5;241m14.505751\u001B[39m, \u001B[38;5;241m14.41854\u001B[39m, \u001B[38;5;241m12.568337\u001B[39m]\n\u001B[1;32m     12\u001B[0m params \u001B[38;5;241m=\u001B[39m {\n\u001B[1;32m     13\u001B[0m \t\u001B[38;5;124m\"\u001B[39m\u001B[38;5;124mlatitude\u001B[39m\u001B[38;5;124m\"\u001B[39m: latitudes,\n\u001B[1;32m     14\u001B[0m \t\u001B[38;5;124m\"\u001B[39m\u001B[38;5;124mlongitude\u001B[39m\u001B[38;5;124m\"\u001B[39m: longitudes,\n\u001B[0;32m   (...)\u001B[0m\n\u001B[1;32m     17\u001B[0m \t\u001B[38;5;124m\"\u001B[39m\u001B[38;5;124mdaily\u001B[39m\u001B[38;5;124m\"\u001B[39m: [\u001B[38;5;124m\"\u001B[39m\u001B[38;5;124mtemperature_2m_max\u001B[39m\u001B[38;5;124m\"\u001B[39m, \u001B[38;5;124m\"\u001B[39m\u001B[38;5;124mtemperature_2m_min\u001B[39m\u001B[38;5;124m\"\u001B[39m, \u001B[38;5;124m\"\u001B[39m\u001B[38;5;124mtemperature_2m_mean\u001B[39m\u001B[38;5;124m\"\u001B[39m, \u001B[38;5;124m\"\u001B[39m\u001B[38;5;124mapparent_temperature_max\u001B[39m\u001B[38;5;124m\"\u001B[39m, \u001B[38;5;124m\"\u001B[39m\u001B[38;5;124mapparent_temperature_min\u001B[39m\u001B[38;5;124m\"\u001B[39m, \u001B[38;5;124m\"\u001B[39m\u001B[38;5;124mapparent_temperature_mean\u001B[39m\u001B[38;5;124m\"\u001B[39m, \u001B[38;5;124m\"\u001B[39m\u001B[38;5;124mprecipitation_sum\u001B[39m\u001B[38;5;124m\"\u001B[39m, \u001B[38;5;124m\"\u001B[39m\u001B[38;5;124mrain_sum\u001B[39m\u001B[38;5;124m\"\u001B[39m, \u001B[38;5;124m\"\u001B[39m\u001B[38;5;124msnowfall_sum\u001B[39m\u001B[38;5;124m\"\u001B[39m, \u001B[38;5;124m\"\u001B[39m\u001B[38;5;124mwind_speed_10m_max\u001B[39m\u001B[38;5;124m\"\u001B[39m, \u001B[38;5;124m\"\u001B[39m\u001B[38;5;124mwind_gusts_10m_max\u001B[39m\u001B[38;5;124m\"\u001B[39m, \u001B[38;5;124m\"\u001B[39m\u001B[38;5;124mwind_direction_10m_dominant\u001B[39m\u001B[38;5;124m\"\u001B[39m]\n\u001B[1;32m     18\u001B[0m }\n\u001B[0;32m---> 19\u001B[0m responses \u001B[38;5;241m=\u001B[39m openmeteo\u001B[38;5;241m.\u001B[39mweather_api(url, params\u001B[38;5;241m=\u001B[39mparams)\n",
        "File \u001B[0;32m/local_disk0/.ephemeral_nfs/envs/pythonEnv-90b63ce5-442d-471a-8626-f78ec8efe80d/lib/python3.11/site-packages/openmeteo_requests/Client.py:54\u001B[0m, in \u001B[0;36mClient.weather_api\u001B[0;34m(self, url, params, method, verify)\u001B[0m\n\u001B[1;32m     50\u001B[0m \u001B[38;5;28;01mdef\u001B[39;00m \u001B[38;5;21mweather_api\u001B[39m(\n\u001B[1;32m     51\u001B[0m     \u001B[38;5;28mself\u001B[39m, url: \u001B[38;5;28mstr\u001B[39m, params: \u001B[38;5;28many\u001B[39m, method: \u001B[38;5;28mstr\u001B[39m \u001B[38;5;241m=\u001B[39m \u001B[38;5;124m\"\u001B[39m\u001B[38;5;124mGET\u001B[39m\u001B[38;5;124m\"\u001B[39m, verify: \u001B[38;5;28mbool\u001B[39m \u001B[38;5;241m|\u001B[39m \u001B[38;5;28mstr\u001B[39m \u001B[38;5;241m|\u001B[39m \u001B[38;5;28;01mNone\u001B[39;00m \u001B[38;5;241m=\u001B[39m \u001B[38;5;28;01mNone\u001B[39;00m\n\u001B[1;32m     52\u001B[0m ) \u001B[38;5;241m-\u001B[39m\u001B[38;5;241m>\u001B[39m \u001B[38;5;28mlist\u001B[39m[WeatherApiResponse]:\n\u001B[1;32m     53\u001B[0m \u001B[38;5;250m    \u001B[39m\u001B[38;5;124;03m\"\"\"Get and decode as weather api\"\"\"\u001B[39;00m\n\u001B[0;32m---> 54\u001B[0m     \u001B[38;5;28;01mreturn\u001B[39;00m \u001B[38;5;28mself\u001B[39m\u001B[38;5;241m.\u001B[39m_get(WeatherApiResponse, url, params, method, verify)\n",
        "File \u001B[0;32m/local_disk0/.ephemeral_nfs/envs/pythonEnv-90b63ce5-442d-471a-8626-f78ec8efe80d/lib/python3.11/site-packages/openmeteo_requests/Client.py:35\u001B[0m, in \u001B[0;36mClient._get\u001B[0;34m(self, cls, url, params, method, verify)\u001B[0m\n\u001B[1;32m     33\u001B[0m \u001B[38;5;28;01mif\u001B[39;00m response\u001B[38;5;241m.\u001B[39mstatus_code \u001B[38;5;129;01min\u001B[39;00m [\u001B[38;5;241m400\u001B[39m, \u001B[38;5;241m429\u001B[39m]:\n\u001B[1;32m     34\u001B[0m     response_body \u001B[38;5;241m=\u001B[39m response\u001B[38;5;241m.\u001B[39mjson()\n\u001B[0;32m---> 35\u001B[0m     \u001B[38;5;28;01mraise\u001B[39;00m OpenMeteoRequestsError(response_body)\n\u001B[1;32m     37\u001B[0m response\u001B[38;5;241m.\u001B[39mraise_for_status()\n\u001B[1;32m     39\u001B[0m data \u001B[38;5;241m=\u001B[39m response\u001B[38;5;241m.\u001B[39mcontent\n",
        "\u001B[0;31mOpenMeteoRequestsError\u001B[0m: {'error': True, 'reason': 'Daily API request limit exceeded. Please try again tomorrow.'}"
       ],
       "type": "baseError"
      }
     },
     "output_type": "display_data"
    }
   ],
   "source": [
    "# Setup the Open-Meteo API client with cache and retry on error\n",
    "cache_session = requests_cache.CachedSession('.cache', expire_after = -1)\n",
    "retry_session = retry(cache_session, retries = 5, backoff_factor = 0.2)\n",
    "openmeteo = openmeteo_requests.Client(session = retry_session)\n",
    "\n",
    "# Make sure all required weather variables are listed here\n",
    "# The order of variables in hourly or daily is important to assign them correctly below\n",
    "url = \"https://archive-api.open-meteo.com/v1/archive\"\n",
    "\n",
    "latitudes = [38.855584, 40.724039, 25.695215, 34.005712, 32.724548, 47.594472, 39.676938, 39.952583, 39.791, 35.481918, 36.174465, 41.881832, 51.509865, 52.520008, 48.137154, 48.864716, 47.373878, 51.260197, 52.377956, 53.35014, 40.416775, 48.210033, 46.056946, 50.073658, 55.676098]\n",
    "longitudes = [-77.036975, -73.994982, -80.168933, -118.175596, -96.76923, -122.348286, -104.977053, -75.165222, -86.148003, -97.508469, -86.76796, -87.623177, -0.118092, 13.404954, 11.576124, 2.349014, 8.545094, 4.402771, 4.89707, -6.266155, -3.70379, 16.363449, 14.505751, 14.41854, 12.568337]\n",
    "params = {\n",
    "\t\"latitude\": latitudes,\n",
    "\t\"longitude\": longitudes,\n",
    "\t\"start_date\": start_date,#\"2010-01-01\",\n",
    "\t\"end_date\": end_date,#\"2024-10-22\",\n",
    "\t\"daily\": [\"temperature_2m_max\", \"temperature_2m_min\", \"temperature_2m_mean\", \"apparent_temperature_max\", \"apparent_temperature_min\", \"apparent_temperature_mean\", \"precipitation_sum\", \"rain_sum\", \"snowfall_sum\", \"wind_speed_10m_max\", \"wind_gusts_10m_max\", \"wind_direction_10m_dominant\"]\n",
    "}\n",
    "responses = openmeteo.weather_api(url, params=params)\n"
   ]
  },
  {
   "cell_type": "code",
   "execution_count": 0,
   "metadata": {
    "application/vnd.databricks.v1+cell": {
     "cellMetadata": {},
     "inputWidgets": {},
     "nuid": "01918cd1-8802-4cf2-b0a0-db001d42fc7a",
     "showTitle": false,
     "tableResultSettingsMap": {},
     "title": ""
    },
    "tags": [],
    "trusted": true
   },
   "outputs": [
    {
     "output_type": "stream",
     "name": "stdout",
     "output_type": "stream",
     "text": [
      "Coordinates 38.84006881713867°N -77.09014892578125°E\nElevation 3.0 m asl\nTimezone None None\nTimezone difference to GMT+0 0 s\nCoordinates 40.738136291503906°N -74.04254150390625°E\nElevation 28.0 m asl\nTimezone None None\nTimezone difference to GMT+0 0 s\nCoordinates 25.694198608398438°N -80.3046875°E\nElevation 4.0 m asl\nTimezone None None\nTimezone difference to GMT+0 0 s\nCoordinates 33.98945236206055°N -118.20223999023438°E\nElevation 50.0 m asl\nTimezone None None\nTimezone difference to GMT+0 0 s\nCoordinates 32.72407531738281°N -96.81317138671875°E\nElevation 125.0 m asl\nTimezone None None\nTimezone difference to GMT+0 0 s\nCoordinates 47.62741470336914°N -122.32290649414062°E\nElevation 0.0 m asl\nTimezone None None\nTimezone difference to GMT+0 0 s\nCoordinates 39.68365478515625°N -105.0°E\nElevation 1628.0 m asl\nTimezone None None\nTimezone difference to GMT+0 0 s\nCoordinates 39.964847564697266°N -75.1676025390625°E\nElevation 32.0 m asl\nTimezone None None\nTimezone difference to GMT+0 0 s\nCoordinates 39.82425308227539°N -86.11419677734375°E\nElevation 220.0 m asl\nTimezone None None\nTimezone difference to GMT+0 0 s\nCoordinates 35.465728759765625°N -97.5°E\nElevation 378.0 m asl\nTimezone None None\nTimezone difference to GMT+0 0 s\nCoordinates 36.16871643066406°N -86.72726440429688°E\nElevation 131.0 m asl\nTimezone None None\nTimezone difference to GMT+0 0 s\nCoordinates 41.8629150390625°N -87.64877319335938°E\nElevation 185.0 m asl\nTimezone None None\nTimezone difference to GMT+0 0 s\nCoordinates 51.49384689331055°N -0.16302490234375°E\nElevation 14.0 m asl\nTimezone None None\nTimezone difference to GMT+0 0 s\nCoordinates 52.5483283996582°N 13.407821655273438°E\nElevation 38.0 m asl\nTimezone None None\nTimezone difference to GMT+0 0 s\nCoordinates 48.1195068359375°N 11.550000190734863°E\nElevation 526.0 m asl\nTimezone None None\nTimezone difference to GMT+0 0 s\nCoordinates 48.892791748046875°N 2.292020559310913°E\nElevation 47.0 m asl\nTimezone None None\nTimezone difference to GMT+0 0 s\nCoordinates 47.34621810913086°N 8.54337215423584°E\nElevation 422.0 m asl\nTimezone None None\nTimezone difference to GMT+0 0 s\nCoordinates 51.28295135498047°N 4.378378391265869°E\nElevation 4.0 m asl\nTimezone None None\nTimezone difference to GMT+0 0 s\nCoordinates 52.40773010253906°N 4.842300891876221°E\nElevation 12.0 m asl\nTimezone None None\nTimezone difference to GMT+0 0 s\nCoordinates 53.32161331176758°N -6.330810546875°E\nElevation 17.0 m asl\nTimezone None None\nTimezone difference to GMT+0 0 s\nCoordinates 40.38664245605469°N -3.67608642578125°E\nElevation 666.0 m asl\nTimezone None None\nTimezone difference to GMT+0 0 s\nCoordinates 48.18980407714844°N 16.377296447753906°E\nElevation 193.0 m asl\nTimezone None None\nTimezone difference to GMT+0 0 s\nCoordinates 46.080841064453125°N 14.451510429382324°E\nElevation 299.0 m asl\nTimezone None None\nTimezone difference to GMT+0 0 s\nCoordinates 50.08787155151367°N 14.47552490234375°E\nElevation 221.0 m asl\nTimezone None None\nTimezone difference to GMT+0 0 s\nCoordinates 55.641475677490234°N 12.596348762512207°E\nElevation 10.0 m asl\nTimezone None None\nTimezone difference to GMT+0 0 s\n/opt/amazon/spark/python/lib/pyspark.zip/pyspark/sql/pandas/conversion.py:474: FutureWarning: iteritems is deprecated and will be removed in a future version. Use .items instead.\n/opt/amazon/spark/python/lib/pyspark.zip/pyspark/sql/pandas/conversion.py:486: FutureWarning: iteritems is deprecated and will be removed in a future version. Use .items instead.\n"
     ]
    }
   ],
   "source": [
    "# Process first location. Add a for-loop for multiple locations or weather models\n",
    "\n",
    "\n",
    "\n",
    "\n",
    "for i, response in enumerate(responses):\n",
    "\n",
    "    #response = responses[0]\n",
    "    #print(f\"Coordinates {response.Latitude()}°N {response.Longitude()}°E\")\n",
    "    #print(f\"Elevation {response.Elevation()} m asl\")\n",
    "    #print(f\"Timezone {response.Timezone()} {response.TimezoneAbbreviation()}\")\n",
    "    #print(f\"Timezone difference to GMT+0 {response.UtcOffsetSeconds()} s\")\n",
    "\n",
    "    # Process daily data. The order of variables needs to be the same as requested.\n",
    "    daily = response.Daily()\n",
    "    daily_temperature_2m_max = daily.Variables(0).ValuesAsNumpy()\n",
    "    daily_temperature_2m_min = daily.Variables(1).ValuesAsNumpy()\n",
    "    daily_temperature_2m_mean = daily.Variables(2).ValuesAsNumpy()\n",
    "    daily_apparent_temperature_max = daily.Variables(3).ValuesAsNumpy()\n",
    "    daily_apparent_temperature_min = daily.Variables(4).ValuesAsNumpy()\n",
    "    daily_apparent_temperature_mean = daily.Variables(5).ValuesAsNumpy()\n",
    "    daily_precipitation_sum = daily.Variables(6).ValuesAsNumpy()\n",
    "    daily_rain_sum = daily.Variables(7).ValuesAsNumpy()\n",
    "    daily_snowfall_sum = daily.Variables(8).ValuesAsNumpy()\n",
    "    daily_wind_speed_10m_max = daily.Variables(9).ValuesAsNumpy()\n",
    "    daily_wind_gusts_10m_max = daily.Variables(10).ValuesAsNumpy()\n",
    "    daily_wind_direction_10m_dominant = daily.Variables(11).ValuesAsNumpy()\n",
    "\n",
    "    daily_data = {\"date\": pd.date_range(\n",
    "        start = pd.to_datetime(daily.Time(), unit = \"s\", utc = True),\n",
    "        end = pd.to_datetime(daily.TimeEnd(), unit = \"s\", utc = True),\n",
    "        freq = pd.Timedelta(seconds = daily.Interval()),\n",
    "        inclusive = \"left\"\n",
    "    )}\n",
    "    \n",
    "    daily_data[\"latitute\"] = latitudes[i]\n",
    "    daily_data[\"longitude\"] = longitudes[i]\n",
    "    \n",
    "    daily_data[\"temperature_2m_max\"] = daily_temperature_2m_max\n",
    "    daily_data[\"temperature_2m_min\"] = daily_temperature_2m_min\n",
    "    daily_data[\"temperature_2m_mean\"] = daily_temperature_2m_mean\n",
    "    daily_data[\"apparent_temperature_max\"] = daily_apparent_temperature_max\n",
    "    daily_data[\"apparent_temperature_min\"] = daily_apparent_temperature_min\n",
    "    daily_data[\"apparent_temperature_mean\"] = daily_apparent_temperature_mean\n",
    "    daily_data[\"precipitation_sum\"] = daily_precipitation_sum\n",
    "    daily_data[\"rain_sum\"] = daily_rain_sum\n",
    "    daily_data[\"snowfall_sum\"] = daily_snowfall_sum\n",
    "    daily_data[\"wind_speed_10m_max\"] = daily_wind_speed_10m_max\n",
    "    daily_data[\"wind_gusts_10m_max\"] = daily_wind_gusts_10m_max\n",
    "    daily_data[\"wind_direction_10m_dominant\"] = daily_wind_direction_10m_dominant\n",
    "\n",
    "    daily_dataframe = pd.DataFrame(data = daily_data)\n",
    "    \n",
    "    if i == 0:\n",
    "        spark_df = spark.createDataFrame(daily_dataframe)\n",
    "    else:\n",
    "        # Convert `daily_dataframe` to a Spark DataFrame\n",
    "        daily_spark_df = spark.createDataFrame(daily_dataframe)\n",
    "\n",
    "        # Step 2: Concatenate the two Spark DataFrames\n",
    "        spark_df = spark_df.unionByName(daily_spark_df)\n",
    "    \n",
    "    #print(daily_dataframe)"
   ]
  },
  {
   "cell_type": "code",
   "execution_count": 0,
   "metadata": {
    "application/vnd.databricks.v1+cell": {
     "cellMetadata": {},
     "inputWidgets": {},
     "nuid": "f6fba7ee-ce91-4d16-b9d8-0698f8024420",
     "showTitle": false,
     "tableResultSettingsMap": {},
     "title": ""
    },
    "tags": [],
    "trusted": true
   },
   "outputs": [
    {
     "output_type": "stream",
     "name": "stdout",
     "output_type": "stream",
     "text": [
      "+-------------------+---------+----------+------------------+------------------+-------------------+------------------------+------------------------+-------------------------+------------------+------------------+------------+------------------+------------------+---------------------------+\n|               date| latitute| longitude|temperature_2m_max|temperature_2m_min|temperature_2m_mean|apparent_temperature_max|apparent_temperature_min|apparent_temperature_mean| precipitation_sum|          rain_sum|snowfall_sum|wind_speed_10m_max|wind_gusts_10m_max|wind_direction_10m_dominant|\n+-------------------+---------+----------+------------------+------------------+-------------------+------------------------+------------------------+-------------------------+------------------+------------------+------------+------------------+------------------+---------------------------+\n|2024-10-23 00:00:00|38.855584|-77.036975|24.342498779296875| 9.242500305175781| 15.765416145324707|      23.843990325927734|       7.506195068359375|       14.615103721618652|               0.0|               0.0|         0.0|10.478721618652344|21.239999771118164|            198.43505859375|\n|2024-10-24 00:00:00|38.855584|-77.036975|19.092498779296875|13.992500305175781|  16.64874839782715|       16.89270782470703|       10.96819019317627|       14.235061645507812|               0.0|               0.0|         0.0|19.201873779296875| 37.07999801635742|          321.3954772949219|\n|2024-10-25 00:00:00|38.855584|-77.036975|18.542499542236328| 5.992499828338623| 12.138331413269043|      16.286569595336914|      3.6165027618408203|        9.760323524475098|               0.0|               0.0|         0.0|12.730466842651367| 22.68000030517578|         301.88067626953125|\n|2024-10-26 00:00:00|38.855584|-77.036975|  19.1924991607666|13.342500686645508| 15.559165000915527|      15.921354293823242|       10.99589729309082|       13.171928405761719|               0.0|               0.0|         0.0|20.326454162597656| 41.76000213623047|         310.21112060546875|\n|2024-10-27 00:00:00|38.855584|-77.036975|14.092500686645508| 5.642499923706055| 10.392499923706055|      11.653395652770996|      2.8357138633728027|        7.317594051361084|               0.0|               0.0|         0.0| 14.13888168334961|26.280000686645508|          358.9474182128906|\n|2024-10-28 00:00:00|38.855584|-77.036975| 17.24250030517578| 4.042500019073486|  9.450833320617676|      15.021968841552734|      0.7674918174743652|        6.978565216064453|               0.0|               0.0|         0.0| 9.313152313232422| 18.35999870300293|         172.77188110351562|\n|2024-10-29 00:00:00|38.855584|-77.036975|18.842498779296875| 4.942500114440918| 11.065417289733887|      17.077560424804688|      2.1042861938476562|        8.778895378112793|               0.0|               0.0|         0.0|11.901798248291016| 27.35999870300293|         178.11183166503906|\n|2024-10-30 00:00:00|38.855584|-77.036975| 24.74250030517578|11.292499542236328|  15.78833293914795|      25.238906860351562|       10.38239860534668|       15.292275428771973|               0.0|               0.0|         0.0| 10.41669750213623|19.079999923706055|         197.86773681640625|\n|2024-10-31 00:00:00|38.855584|-77.036975| 26.49250030517578|14.342500686645508|   19.5987491607666|      26.410120010375977|      14.048667907714844|        19.43032455444336|               0.0|               0.0|         0.0| 18.05750846862793|33.119998931884766|         209.43357849121094|\n|2024-11-01 00:00:00|38.855584|-77.036975|25.892499923706055|  18.1924991607666| 21.490415573120117|      24.899219512939453|       16.71504783630371|       20.300235748291016|               0.0|               0.0|         0.0|21.319934844970703|39.959999084472656|          232.5794219970703|\n|2024-11-02 00:00:00|38.855584|-77.036975|  18.1924991607666| 8.642499923706055| 13.617500305175781|      15.097219467163086|       5.827483177185059|       10.547764778137207|               0.0|               0.0|         0.0| 18.05750846862793| 33.47999954223633|          330.5751037597656|\n|2024-11-03 00:00:00|38.855584|-77.036975|15.042499542236328| 5.642499923706055|   9.79041576385498|      12.386787414550781|       2.174398422241211|       6.8972930908203125|               0.0|               0.0|         0.0| 9.580668449401855|21.959999084472656|         36.109886169433594|\n|2024-11-04 00:00:00|38.855584|-77.036975| 17.24250030517578| 5.042500019073486|  9.646666526794434|       15.45478630065918|      2.4690613746643066|        7.415930271148682|               0.0|               0.0|         0.0|10.484902381896973|21.959999084472656|          112.9268798828125|\n|2024-11-05 00:00:00|38.855584|-77.036975|12.442499160766602|12.442499160766602|                NaN|       10.91882610321045|       10.91882610321045|                      NaN|               NaN|               NaN|         NaN|      8.4619140625|14.399999618530273|                        NaN|\n|2024-10-23 00:00:00|40.724039|-73.994982|25.272001266479492|10.871999740600586| 17.465749740600586|      23.885467529296875|       9.281549453735352|        16.20461082458496|               0.0|               0.0|         0.0|17.842710494995117|33.119998931884766|          190.3047637939453|\n|2024-10-24 00:00:00|40.724039|-73.994982|20.672000885009766| 14.42199993133545| 17.022001266479492|      16.729427337646484|      11.078201293945312|       14.249726295471191|0.6000000238418579|0.6000000238418579|         0.0|25.790300369262695| 45.36000061035156|          335.2273254394531|\n|2024-10-25 00:00:00|40.724039|-73.994982| 18.07200050354004| 6.371999740600586| 11.855334281921387|      14.297473907470703|       3.420304298400879|        8.504918098449707|               0.0|               0.0|         0.0|  16.7661075592041|28.079999923706055|          327.5287780761719|\n|2024-10-26 00:00:00|40.724039|-73.994982|18.222000122070312| 9.522000312805176| 13.590750694274902|      12.800605773925781|      6.9045209884643555|        9.649134635925293|               0.0|               0.0|         0.0| 24.79822540283203| 43.91999816894531|          298.4160461425781|\n|2024-10-27 00:00:00|40.724039|-73.994982|14.772000312805176|4.7220001220703125| 10.338666915893555|      10.143162727355957|      1.8546333312988281|        6.366842746734619|               0.0|               0.0|         0.0|18.584508895874023| 30.23999786376953|         308.02313232421875|\n|2024-10-28 00:00:00|40.724039|-73.994982|16.172000885009766| 2.822000026702881|  8.869916915893555|       12.94334602355957|    -0.10737037658691406|        5.663698196411133|               0.0|               0.0|         0.0| 15.13713264465332|              27.0|          235.5391082763672|\n+-------------------+---------+----------+------------------+------------------+-------------------+------------------------+------------------------+-------------------------+------------------+------------------+------------+------------------+------------------+---------------------------+\nonly showing top 20 rows\n"
     ]
    }
   ],
   "source": [
    "#spark_df = spark.createDataFrame(daily_dataframe)\n",
    "spark_df.show()  # Displays the Spark DataFrame\n"
   ]
  },
  {
   "cell_type": "code",
   "execution_count": 0,
   "metadata": {
    "application/vnd.databricks.v1+cell": {
     "cellMetadata": {},
     "inputWidgets": {},
     "nuid": "7c274ea0-1902-4914-9d5e-348204655ce0",
     "showTitle": false,
     "tableResultSettingsMap": {},
     "title": ""
    },
    "tags": [],
    "trusted": true
   },
   "outputs": [
    {
     "output_type": "stream",
     "name": "stdout",
     "output_type": "stream",
     "text": [
      "root\n |-- date: timestamp (nullable = true)\n |-- latitute: double (nullable = true)\n |-- longitude: double (nullable = true)\n |-- temperature_2m_max: double (nullable = true)\n |-- temperature_2m_min: double (nullable = true)\n |-- temperature_2m_mean: double (nullable = true)\n |-- apparent_temperature_max: double (nullable = true)\n |-- apparent_temperature_min: double (nullable = true)\n |-- apparent_temperature_mean: double (nullable = true)\n |-- precipitation_sum: double (nullable = true)\n |-- rain_sum: double (nullable = true)\n |-- snowfall_sum: double (nullable = true)\n |-- wind_speed_10m_max: double (nullable = true)\n |-- wind_gusts_10m_max: double (nullable = true)\n |-- wind_direction_10m_dominant: double (nullable = true)\n"
     ]
    }
   ],
   "source": [
    "spark_df.printSchema()"
   ]
  },
  {
   "cell_type": "code",
   "execution_count": 0,
   "metadata": {
    "application/vnd.databricks.v1+cell": {
     "cellMetadata": {},
     "inputWidgets": {},
     "nuid": "6e2693a5-b8b7-49df-bc75-272b3ba261d0",
     "showTitle": false,
     "tableResultSettingsMap": {},
     "title": ""
    },
    "tags": [],
    "trusted": true
   },
   "outputs": [
    {
     "output_type": "stream",
     "name": "stdout",
     "output_type": "stream",
     "text": [
      "350\n"
     ]
    }
   ],
   "source": [
    "spark_df.count()"
   ]
  },
  {
   "cell_type": "code",
   "execution_count": 0,
   "metadata": {
    "application/vnd.databricks.v1+cell": {
     "cellMetadata": {},
     "inputWidgets": {},
     "nuid": "405db3c1-cf1d-4172-8669-e2a776374ec5",
     "showTitle": false,
     "tableResultSettingsMap": {},
     "title": ""
    },
    "tags": [],
    "trusted": true
   },
   "outputs": [
    {
     "output_type": "stream",
     "name": "stdout",
     "output_type": "stream",
     "text": [
      "\n"
     ]
    }
   ],
   "source": [
    "# Write the DataFrame to an S3 bucket in Parquet format\n",
    "spark_df.write.mode(\"append\").parquet(adls_path)\n"
   ]
  },
  {
   "cell_type": "code",
   "execution_count": 0,
   "metadata": {
    "application/vnd.databricks.v1+cell": {
     "cellMetadata": {},
     "inputWidgets": {},
     "nuid": "5033cf58-ac09-4386-97b4-ff68732c2112",
     "showTitle": false,
     "tableResultSettingsMap": {},
     "title": ""
    }
   },
   "outputs": [],
   "source": [
    "#5409 per location"
   ]
  }
 ],
 "metadata": {
  "application/vnd.databricks.v1+notebook": {
   "computePreferences": null,
   "dashboards": [],
   "environmentMetadata": null,
   "language": "python",
   "notebookMetadata": {
    "pythonIndentUnit": 4
   },
   "notebookName": "daily_historical_update.ipynb",
   "widgets": {}
  },
  "kernelspec": {
   "display_name": "Glue PySpark",
   "language": "python",
   "name": "glue_pyspark"
  },
  "language_info": {
   "name": "python"
  }
 },
 "nbformat": 4,
 "nbformat_minor": 0
}