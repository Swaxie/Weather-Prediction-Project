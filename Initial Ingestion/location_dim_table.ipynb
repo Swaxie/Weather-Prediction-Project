{
 "cells": [
  {
   "cell_type": "code",
   "execution_count": 0,
   "metadata": {
    "application/vnd.databricks.v1+cell": {
     "cellMetadata": {},
     "inputWidgets": {},
     "nuid": "d53078f3-8c95-443d-9444-1c2d9f909946",
     "showTitle": false,
     "tableResultSettingsMap": {},
     "title": ""
    }
   },
   "outputs": [],
   "source": []
  },
  {
   "cell_type": "code",
   "execution_count": 0,
   "metadata": {
    "application/vnd.databricks.v1+cell": {
     "cellMetadata": {},
     "inputWidgets": {},
     "nuid": "59850291-5970-48ff-a468-4d1af5448307",
     "showTitle": false,
     "tableResultSettingsMap": {},
     "title": ""
    }
   },
   "outputs": [],
   "source": []
  },
  {
   "cell_type": "markdown",
   "metadata": {
    "application/vnd.databricks.v1+cell": {
     "cellMetadata": {},
     "inputWidgets": {},
     "nuid": "7c4b8eb2-7d11-4d40-b83f-f653353ba770",
     "showTitle": false,
     "tableResultSettingsMap": {},
     "title": ""
    },
    "editable": true,
    "trusted": true
   },
   "source": [
    "# AWS Glue Studio Notebook\n",
    "##### You are now running a AWS Glue Studio notebook; To start using your notebook you need to start an AWS Glue Interactive Session.\n"
   ]
  },
  {
   "cell_type": "markdown",
   "metadata": {
    "application/vnd.databricks.v1+cell": {
     "cellMetadata": {},
     "inputWidgets": {},
     "nuid": "0b54e14e-9204-4e79-a7a5-21b1678a9860",
     "showTitle": false,
     "tableResultSettingsMap": {},
     "title": ""
    },
    "editable": true,
    "trusted": true
   },
   "source": [
    "####  Run this cell to set up and start your interactive session.\n"
   ]
  },
  {
   "cell_type": "code",
   "execution_count": 0,
   "metadata": {
    "application/vnd.databricks.v1+cell": {
     "cellMetadata": {},
     "inputWidgets": {},
     "nuid": "6b0d09ec-fec6-4a24-9d4c-5d001d5b2ae0",
     "showTitle": false,
     "tableResultSettingsMap": {},
     "title": ""
    },
    "editable": true,
    "trusted": true
   },
   "outputs": [
    {
     "output_type": "stream",
     "name": "stdout",
     "output_type": "stream",
     "text": [
      "Welcome to the Glue Interactive Sessions Kernel\nFor more information on available magic commands, please type %help in any new cell.\n\nPlease view our Getting Started page to access the most up-to-date information on the Interactive Sessions kernel: https://docs.aws.amazon.com/glue/latest/dg/interactive-sessions.html\nInstalled kernel version: 1.0.5 \nCurrent idle_timeout is None minutes.\nidle_timeout has been set to 2880 minutes.\nSetting Glue version to: 4.0\nPrevious worker type: None\nSetting new worker type to: G.1X\nPrevious number of workers: None\nSetting new number of workers to: 5\nTrying to create a Glue session for the kernel.\nSession Type: glueetl\nWorker Type: G.1X\nNumber of Workers: 5\nIdle Timeout: 2880\nSession ID: b89516ca-d940-4a3f-9792-78617d9d0b69\nApplying the following default arguments:\n--glue_kernel_version 1.0.5\n--enable-glue-datacatalog true\nWaiting for session b89516ca-d940-4a3f-9792-78617d9d0b69 to get into ready status...\nSession b89516ca-d940-4a3f-9792-78617d9d0b69 has been created.\n\n"
     ]
    }
   ],
   "source": [
    "%idle_timeout 2880\n",
    "%glue_version 4.0\n",
    "%worker_type G.1X\n",
    "%number_of_workers 5\n",
    "\n",
    "import sys\n",
    "from awsglue.transforms import *\n",
    "from awsglue.utils import getResolvedOptions\n",
    "from pyspark.context import SparkContext\n",
    "from awsglue.context import GlueContext\n",
    "from awsglue.job import Job\n",
    "  \n",
    "sc = SparkContext.getOrCreate()\n",
    "glueContext = GlueContext(sc)\n",
    "spark = glueContext.spark_session\n",
    "job = Job(glueContext)"
   ]
  },
  {
   "cell_type": "code",
   "execution_count": 0,
   "metadata": {
    "application/vnd.databricks.v1+cell": {
     "cellMetadata": {},
     "inputWidgets": {},
     "nuid": "de52113e-9a19-4183-9981-24e1c31a739a",
     "showTitle": false,
     "tableResultSettingsMap": {},
     "title": ""
    },
    "tags": [],
    "trusted": true
   },
   "outputs": [
    {
     "output_type": "stream",
     "name": "stdout",
     "output_type": "stream",
     "text": [
      "Hello\n"
     ]
    }
   ],
   "source": [
    "print('Hello')"
   ]
  },
  {
   "cell_type": "code",
   "execution_count": 0,
   "metadata": {
    "application/vnd.databricks.v1+cell": {
     "cellMetadata": {},
     "inputWidgets": {},
     "nuid": "199d409e-9cb0-4245-9027-9a6394e699bb",
     "showTitle": false,
     "tableResultSettingsMap": {},
     "title": ""
    },
    "tags": [],
    "trusted": true
   },
   "outputs": [
    {
     "output_type": "stream",
     "name": "stdout",
     "output_type": "stream",
     "text": [
      "\n"
     ]
    }
   ],
   "source": [
    "cities = [\n",
    "    {'city': 'Washington, D.C.', 'country': 'United States', 'latitude': 38.855584, 'longitude': -77.036975, 'time_zone': '-4:00'},\n",
    "    {'city': 'New York', 'country': 'United States', 'latitude': 40.724039, 'longitude': -73.994982, 'time_zone': '-4:00'},\n",
    "    {'city': 'Miami', 'country': 'United States', 'latitude': 25.695215, 'longitude': -80.168933, 'time_zone': '-4:00'},\n",
    "    {'city': 'Los Angeles', 'country': 'United States', 'latitude': 34.005712, 'longitude': -118.175596, 'time_zone': '-7:00'},\n",
    "    {'city': 'Dallas', 'country': 'United States', 'latitude': 32.724548, 'longitude': -96.769230, 'time_zone': '-5:00'},\n",
    "    {'city': 'Seattle', 'country': 'United States', 'latitude': 47.594472, 'longitude': -122.348286, 'time_zone': '-7:00'},\n",
    "    {'city': 'Denver', 'country': 'United States', 'latitude': 39.676938, 'longitude': -104.977053, 'time_zone': '-6:00'},\n",
    "    {'city': 'Philadelphia', 'country': 'United States', 'latitude': 39.952583, 'longitude':  -75.165222, 'time_zone': '-4:00'},\n",
    "    {'city': 'Indianapolis', 'country': 'United States', 'latitude': 39.791000, 'longitude': -86.148003, 'time_zone': '-4:00'},\n",
    "    {'city': 'Oklahoma City', 'country': 'United States', 'latitude': 35.481918, 'longitude': -97.508469, 'time_zone': '-5:00'},\n",
    "    {'city': 'Nashville', 'country': 'United States', 'latitude': 36.174465, 'longitude': -86.767960, 'time_zone': '-5:00'},\n",
    "    {'city': 'Chicago', 'country': 'United States', 'latitude': 41.881832, 'longitude': -87.623177, 'time_zone': '-5:00'},\n",
    "    {'city': 'London', 'country': 'United Kingdom', 'latitude': 51.509865, 'longitude': -0.118092, 'time_zone': '+0:00'},\n",
    "    {'city': 'Berlin', 'country': 'Germany', 'latitude': 52.520008, 'longitude': 13.404954, 'time_zone': '+1:00'},\n",
    "    {'city': 'Munich', 'country': 'Germany', 'latitude': 48.137154, 'longitude': 11.576124, 'time_zone': '+1:00'},\n",
    "    {'city': 'Paris', 'country': 'France', 'latitude': 48.864716, 'longitude': 2.349014, 'time_zone': '+1:00'},\n",
    "    {'city': 'Zurich', 'country': 'Switzerland', 'latitude': 47.373878, 'longitude': 8.545094, 'time_zone': '+1:00'},\n",
    "    {'city': 'Antwerp', 'country': 'Belgium', 'latitude': 51.260197, 'longitude': 4.402771, 'time_zone': '+1:00'},\n",
    "    {'city': 'Amsterdam', 'country': 'Netherlands', 'latitude': 52.377956, 'longitude': 4.897070, 'time_zone': '+1:00'},\n",
    "    {'city': 'Dublin', 'country': 'Ireland', 'latitude': 53.35014, 'longitude': -6.266155, 'time_zone': '+0:00'},\n",
    "    {'city': 'Madrid', 'country': 'Spain', 'latitude': 40.416775, 'longitude': -3.703790, 'time_zone': '+1:00'},\n",
    "    {'city': 'Vienna', 'country': 'Austria', 'latitude': 48.210033, 'longitude': 16.363449, 'time_zone': '+1:00'},\n",
    "    {'city': 'Ljubljana', 'country': 'Slovenia', 'latitude': 46.056946, 'longitude': 14.505751, 'time_zone': '+1:00'},\n",
    "    {'city': 'Prague', 'country': 'Czech Republic', 'latitude': 50.073658, 'longitude': 14.418540, 'time_zone': '+1:00'},\n",
    "    {'city': 'Copenhagen', 'country': 'Denmark', 'latitude': 55.676098, 'longitude': 12.568337, 'time_zone': '+1:00'},\n",
    "]"
   ]
  },
  {
   "cell_type": "code",
   "execution_count": 0,
   "metadata": {
    "application/vnd.databricks.v1+cell": {
     "cellMetadata": {},
     "inputWidgets": {},
     "nuid": "e44f7e98-1db5-47d6-8fdb-80241315ee91",
     "showTitle": false,
     "tableResultSettingsMap": {},
     "title": ""
    },
    "tags": [],
    "trusted": true
   },
   "outputs": [
    {
     "output_type": "stream",
     "name": "stdout",
     "output_type": "stream",
     "text": [
      "\n"
     ]
    }
   ],
   "source": [
    "cities_df = spark.createDataFrame(cities)\n"
   ]
  },
  {
   "cell_type": "code",
   "execution_count": 0,
   "metadata": {
    "application/vnd.databricks.v1+cell": {
     "cellMetadata": {},
     "inputWidgets": {},
     "nuid": "3b754ab0-ef78-4b63-960c-a58a372346d2",
     "showTitle": false,
     "tableResultSettingsMap": {},
     "title": ""
    },
    "tags": [],
    "trusted": true
   },
   "outputs": [
    {
     "output_type": "stream",
     "name": "stdout",
     "output_type": "stream",
     "text": [
      "+----------------+--------------+---------+-----------+---------+\n|            city|       country| latitude|  longitude|time_zone|\n+----------------+--------------+---------+-----------+---------+\n|Washington, D.C.| United States|38.855584| -77.036975|    -4:00|\n|        New York| United States|40.724039| -73.994982|    -4:00|\n|           Miami| United States|25.695215| -80.168933|    -4:00|\n|     Los Angeles| United States|34.005712|-118.175596|    -7:00|\n|          Dallas| United States|32.724548|  -96.76923|    -5:00|\n|         Seattle| United States|47.594472|-122.348286|    -7:00|\n|          Denver| United States|39.676938|-104.977053|    -6:00|\n|    Philadelphia| United States|39.952583| -75.165222|    -4:00|\n|    Indianapolis| United States|   39.791| -86.148003|    -4:00|\n|   Oklahoma City| United States|35.481918| -97.508469|    -5:00|\n|       Nashville| United States|36.174465|  -86.76796|    -5:00|\n|         Chicago| United States|41.881832| -87.623177|    -5:00|\n|          London|United Kingdom|51.509865|  -0.118092|    +0:00|\n|          Berlin|       Germany|52.520008|  13.404954|    +1:00|\n|          Munich|       Germany|48.137154|  11.576124|    +1:00|\n|           Paris|        France|48.864716|   2.349014|    +1:00|\n|          Zurich|   Switzerland|47.373878|   8.545094|    +1:00|\n|         Antwerp|       Belgium|51.260197|   4.402771|    +1:00|\n|       Amsterdam|   Netherlands|52.377956|    4.89707|    +1:00|\n|          Dublin|       Ireland| 53.35014|  -6.266155|    +0:00|\n+----------------+--------------+---------+-----------+---------+\nonly showing top 20 rows\n"
     ]
    }
   ],
   "source": [
    "cities_df.show()"
   ]
  },
  {
   "cell_type": "code",
   "execution_count": 0,
   "metadata": {
    "application/vnd.databricks.v1+cell": {
     "cellMetadata": {},
     "inputWidgets": {},
     "nuid": "dfcb12a4-a26f-4b52-a919-b8981a970ca8",
     "showTitle": false,
     "tableResultSettingsMap": {},
     "title": ""
    },
    "tags": [],
    "trusted": true
   },
   "outputs": [
    {
     "output_type": "stream",
     "name": "stdout",
     "output_type": "stream",
     "text": [
      "root\n |-- city: string (nullable = true)\n |-- country: string (nullable = true)\n |-- latitude: double (nullable = true)\n |-- longitude: double (nullable = true)\n |-- time_zone: string (nullable = true)\n"
     ]
    }
   ],
   "source": [
    "cities_df.printSchema()"
   ]
  },
  {
   "cell_type": "code",
   "execution_count": 0,
   "metadata": {
    "application/vnd.databricks.v1+cell": {
     "cellMetadata": {},
     "inputWidgets": {},
     "nuid": "439890ce-0c61-4b09-aa16-58e32f6d903a",
     "showTitle": false,
     "tableResultSettingsMap": {},
     "title": ""
    },
    "editable": true,
    "trusted": true
   },
   "outputs": [
    {
     "output_type": "stream",
     "name": "stdout",
     "output_type": "stream",
     "text": [
      "\n"
     ]
    }
   ],
   "source": [
    "cities_df.write.mode('overwrite').parquet(\"s3://deupskilling-weatherforecast/LandingZone/cities_dim.parquet\")"
   ]
  }
 ],
 "metadata": {
  "application/vnd.databricks.v1+notebook": {
   "computePreferences": null,
   "dashboards": [],
   "environmentMetadata": null,
   "language": "python",
   "notebookMetadata": {
    "pythonIndentUnit": 4
   },
   "notebookName": "location_dim_table.ipynb",
   "widgets": {}
  },
  "kernelspec": {
   "display_name": "Glue PySpark",
   "language": "python",
   "name": "glue_pyspark"
  },
  "language_info": {
   "name": "python"
  }
 },
 "nbformat": 4,
 "nbformat_minor": 0
}