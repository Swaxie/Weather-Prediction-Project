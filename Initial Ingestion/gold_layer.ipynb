{
 "cells": [
  {
   "cell_type": "markdown",
   "metadata": {
    "application/vnd.databricks.v1+cell": {
     "cellMetadata": {
      "byteLimit": 2048000,
      "rowLimit": 10000
     },
     "inputWidgets": {},
     "nuid": "87d36387-7d52-4d6e-bac6-a4ae4011d8ae",
     "showTitle": false,
     "tableResultSettingsMap": {},
     "title": ""
    }
   },
   "source": [
    "# Silver -> Gold Transformations"
   ]
  },
  {
   "cell_type": "markdown",
   "metadata": {
    "application/vnd.databricks.v1+cell": {
     "cellMetadata": {
      "byteLimit": 2048000,
      "rowLimit": 10000
     },
     "inputWidgets": {},
     "nuid": "e43f484e-e51b-4cca-a57f-7d32d1f44407",
     "showTitle": false,
     "tableResultSettingsMap": {},
     "title": ""
    }
   },
   "source": [
    "## Retrieving the names of the files in the Silver layer"
   ]
  },
  {
   "cell_type": "markdown",
   "metadata": {
    "application/vnd.databricks.v1+cell": {
     "cellMetadata": {
      "byteLimit": 2048000,
      "rowLimit": 10000
     },
     "inputWidgets": {},
     "nuid": "8ecb86f4-2bb5-4884-8050-406a7cf5341d",
     "showTitle": false,
     "tableResultSettingsMap": {},
     "title": ""
    },
    "tags": [],
    "trusted": true
   },
   "source": [
    "import boto3\n",
    "\n",
    "# Initialize an S3 client\n",
    "s3 = boto3.client('s3')\n",
    "\n",
    "# Define the bucket name\n",
    "bucket_name = 'de-upskill-weatherforecasting'\n",
    "folder_name = 'Silver/'\n",
    "\n",
    "# Use a paginator to handle large lists\n",
    "paginator = s3.get_paginator('list_objects_v2')\n",
    "parquet_files = set()  # Use a set to avoid duplicates\n",
    "\n",
    "for page in paginator.paginate(Bucket=bucket_name):\n",
    "    for obj in page.get('Contents', []):\n",
    "        key = obj['Key']\n",
    "        # Check if the key is in the Silver folder and ends with .parquet\n",
    "        if key.startswith(folder_name) and key.endswith('.parquet'):\n",
    "            # Remove the 'Silver/' prefix to get only the file name\n",
    "            file_name = key.replace(folder_name, '').split('/')[0]\n",
    "            parquet_files.add(file_name)\n",
    "\n",
    "# Print the list of unique Parquet file names in the Silver folder\n",
    "print(\"Parquet file names in the Silver folder:\")\n",
    "for file_name in parquet_files:\n",
    "    print(file_name)\n"
   ]
  },
  {
   "cell_type": "code",
   "execution_count": 0,
   "metadata": {
    "application/vnd.databricks.v1+cell": {
     "cellMetadata": {
      "byteLimit": 2048000,
      "rowLimit": 10000
     },
     "inputWidgets": {},
     "nuid": "6dc517e5-f4fe-434c-a65e-601ed7f50a6f",
     "showTitle": false,
     "tableResultSettingsMap": {},
     "title": ""
    }
   },
   "outputs": [
    {
     "output_type": "stream",
     "name": "stdout",
     "output_type": "stream",
     "text": [
      "7day_daily_forecast.parquet\n7day_hourly_forecast.parquet\nForecast_Data/\nForecasts/\nUpdates/\ncities_dim.parquet\ndaily_historical.parquet\ndaily_historical_forecast.parquet\nhourly_historical.parquet\nhourly_historical_forecast.parquet\ntemp_forecasts.parquet\n"
     ]
    }
   ],
   "source": [
    "container_name = \"de-upskilling-weather\"\n",
    "folder_name = \"Silver/\"\n",
    "\n",
    "file_names = dbutils.fs.ls(f\"/mnt/{container_name}/{folder_name}\")\n",
    "\n",
    "parquet_files = [file_info.name.replace(\".parquet/\", \".parquet\") for file_info in file_names]\n",
    "\n",
    "\n",
    "for file_name in parquet_files:\n",
    "    print(file_name)"
   ]
  },
  {
   "cell_type": "code",
   "execution_count": 0,
   "metadata": {
    "application/vnd.databricks.v1+cell": {
     "cellMetadata": {
      "byteLimit": 2048000,
      "rowLimit": 10000
     },
     "inputWidgets": {},
     "nuid": "b3688b85-94e0-4dc3-a9cf-1683051c748e",
     "showTitle": false,
     "tableResultSettingsMap": {},
     "title": ""
    },
    "tags": [],
    "trusted": true
   },
   "outputs": [
    {
     "output_type": "stream",
     "name": "stdout",
     "output_type": "stream",
     "text": [
      "Parquet file names containing 'daily':\n7day_daily_forecast.parquet\ndaily_historical.parquet\ndaily_historical_forecast.parquet\n"
     ]
    }
   ],
   "source": [
    "# Filter for file names that contain \"daily\"\n",
    "daily_files = [file_name for file_name in parquet_files if \"daily\" in file_name]\n",
    "\n",
    "# Print the filtered list\n",
    "print(\"Parquet file names containing 'daily':\")\n",
    "for file_name in daily_files:\n",
    "    print(file_name)"
   ]
  },
  {
   "cell_type": "markdown",
   "metadata": {
    "application/vnd.databricks.v1+cell": {
     "cellMetadata": {
      "byteLimit": 2048000,
      "rowLimit": 10000
     },
     "inputWidgets": {},
     "nuid": "288e1755-8a4a-4f8b-9717-dfe4db70e2d9",
     "showTitle": false,
     "tableResultSettingsMap": {},
     "title": ""
    }
   },
   "source": [
    "## Reading the cities dim table"
   ]
  },
  {
   "cell_type": "code",
   "execution_count": 0,
   "metadata": {
    "application/vnd.databricks.v1+cell": {
     "cellMetadata": {
      "byteLimit": 2048000,
      "rowLimit": 10000
     },
     "inputWidgets": {},
     "nuid": "7093fdac-2cbe-4946-9cfc-dfa63495970e",
     "showTitle": false,
     "tableResultSettingsMap": {},
     "title": ""
    },
    "tags": [],
    "trusted": true
   },
   "outputs": [
    {
     "output_type": "stream",
     "name": "stdout",
     "output_type": "stream",
     "text": [
      "+------------+--------------+---------+-----------+---------+\n|        city|       country| latitude|  longitude|time_zone|\n+------------+--------------+---------+-----------+---------+\n|      Vienna|       Austria|48.210033|  16.363449|    +1:00|\n|   Ljubljana|      Slovenia|46.056946|  14.505751|    +1:00|\n|      Denver| United States|39.676938|-104.977053|    -6:00|\n|       Paris|        France|48.864716|   2.349014|    +1:00|\n|      Zurich|   Switzerland|47.373878|   8.545094|    +1:00|\n|      London|United Kingdom|51.509865|  -0.118092|    +0:00|\n|      Berlin|       Germany|52.520008|  13.404954|    +1:00|\n|Philadelphia| United States|39.952583| -75.165222|    -4:00|\n|Indianapolis| United States|   39.791| -86.148003|    -4:00|\n|   Nashville| United States|36.174465|  -86.76796|    -5:00|\n+------------+--------------+---------+-----------+---------+\nonly showing top 10 rows\n\n"
     ]
    }
   ],
   "source": [
    "df_cities = spark.read.parquet(f\"/mnt/{container_name}/Silver/cities_dim.parquet\")\n",
    "\n",
    "df_cities_daily = df_cities.select(\"city\", \"country\", \"latitude\", \"longitude\")\n",
    "\n",
    "df_cities.show(10)"
   ]
  },
  {
   "cell_type": "markdown",
   "metadata": {
    "application/vnd.databricks.v1+cell": {
     "cellMetadata": {
      "byteLimit": 2048000,
      "rowLimit": 10000
     },
     "inputWidgets": {},
     "nuid": "0b998572-11df-4e5a-a883-68baf547853d",
     "showTitle": false,
     "tableResultSettingsMap": {},
     "title": ""
    }
   },
   "source": [
    "## Performing the transformations needed on the daily and hourly files"
   ]
  },
  {
   "cell_type": "code",
   "execution_count": 0,
   "metadata": {
    "application/vnd.databricks.v1+cell": {
     "cellMetadata": {
      "byteLimit": 2048000,
      "rowLimit": 10000
     },
     "inputWidgets": {},
     "nuid": "4d0dbd59-06e8-471c-8f25-9f26c8564601",
     "showTitle": false,
     "tableResultSettingsMap": {},
     "title": ""
    },
    "tags": [],
    "trusted": true
   },
   "outputs": [
    {
     "output_type": "stream",
     "name": "stdout",
     "output_type": "stream",
     "text": [
      "Parquet file names containing 'daily':\nroot\n |-- latitude: double (nullable = true)\n |-- longitude: double (nullable = true)\n |-- weather_code: double (nullable = true)\n |-- temperature_2m_max: double (nullable = true)\n |-- temperature_2m_min: double (nullable = true)\n |-- apparent_temperature_max: double (nullable = true)\n |-- apparent_temperature_min: double (nullable = true)\n |-- precipitation_sum: double (nullable = true)\n |-- rain_sum: double (nullable = true)\n |-- showers_sum: double (nullable = true)\n |-- snowfall_sum: double (nullable = true)\n |-- wind_speed_10m_max: double (nullable = true)\n |-- wind_gusts_10m_max: double (nullable = true)\n |-- wind_direction_10m_dominant: double (nullable = true)\n |-- month: integer (nullable = true)\n |-- day: integer (nullable = true)\n |-- year: integer (nullable = true)\n |-- city: string (nullable = true)\n |-- country: string (nullable = true)\n\nNone\nroot\n |-- latitude: double (nullable = true)\n |-- longitude: double (nullable = true)\n |-- temperature_2m_max: double (nullable = true)\n |-- temperature_2m_min: double (nullable = true)\n |-- temperature_2m_mean: double (nullable = true)\n |-- apparent_temperature_max: double (nullable = true)\n |-- apparent_temperature_min: double (nullable = true)\n |-- apparent_temperature_mean: double (nullable = true)\n |-- precipitation_sum: double (nullable = true)\n |-- rain_sum: double (nullable = true)\n |-- snowfall_sum: double (nullable = true)\n |-- wind_speed_10m_max: double (nullable = true)\n |-- wind_gusts_10m_max: double (nullable = true)\n |-- wind_direction_10m_dominant: double (nullable = true)\n |-- month: integer (nullable = true)\n |-- day: integer (nullable = true)\n |-- year: integer (nullable = true)\n |-- city: string (nullable = true)\n |-- country: string (nullable = true)\n\nNone\nroot\n |-- latitude: double (nullable = true)\n |-- longitude: double (nullable = true)\n |-- temperature_2m_max: double (nullable = true)\n |-- temperature_2m_min: double (nullable = true)\n |-- apparent_temperature_max: double (nullable = true)\n |-- apparent_temperature_min: double (nullable = true)\n |-- precipitation_sum: double (nullable = true)\n |-- rain_sum: double (nullable = true)\n |-- showers_sum: double (nullable = true)\n |-- snowfall_sum: double (nullable = true)\n |-- wind_speed_10m_max: double (nullable = true)\n |-- wind_gusts_10m_max: double (nullable = true)\n |-- wind_direction_10m_dominant: double (nullable = true)\n |-- month: integer (nullable = true)\n |-- day: integer (nullable = true)\n |-- year: integer (nullable = true)\n |-- city: string (nullable = true)\n |-- country: string (nullable = true)\n\nNone\n"
     ]
    }
   ],
   "source": [
    "print(\"Parquet file names containing 'daily':\")\n",
    "\n",
    "for file_name in daily_files:\n",
    "    \n",
    "    df_daily = spark.read.parquet(f\"/mnt/{container_name}/{folder_name}{file_name}\")\n",
    "    \n",
    "    df_daily = df_daily.join(df_cities_daily, on=['latitude', 'longitude'])\n",
    "    \n",
    "    print(df_daily.printSchema())\n",
    "    \n",
    "    df_daily.write.mode(\"overwrite\").parquet(f\"/mnt/{container_name}/Gold/{file_name}\")"
   ]
  },
  {
   "cell_type": "code",
   "execution_count": 0,
   "metadata": {
    "application/vnd.databricks.v1+cell": {
     "cellMetadata": {
      "byteLimit": 2048000,
      "rowLimit": 10000
     },
     "inputWidgets": {},
     "nuid": "0e3bf8ed-c3a9-4c85-855f-3094faea5192",
     "showTitle": false,
     "tableResultSettingsMap": {},
     "title": ""
    }
   },
   "outputs": [],
   "source": [
    "#deupskilling-weatherforecast"
   ]
  },
  {
   "cell_type": "code",
   "execution_count": 0,
   "metadata": {
    "application/vnd.databricks.v1+cell": {
     "cellMetadata": {
      "byteLimit": 2048000,
      "rowLimit": 10000
     },
     "inputWidgets": {},
     "nuid": "ac45240f-ba82-47d7-a8da-ab9c4770b3af",
     "showTitle": false,
     "tableResultSettingsMap": {},
     "title": ""
    },
    "tags": [],
    "trusted": true
   },
   "outputs": [
    {
     "output_type": "execute_result",
     "data": {
      "text/plain": [
       "['7day_hourly_forecast.parquet',\n",
       " 'hourly_historical.parquet',\n",
       " 'hourly_historical_forecast.parquet']"
      ]
     },
     "execution_count": 27,
     "metadata": {},
     "output_type": "execute_result"
    }
   ],
   "source": [
    "hourly_files = [file_name for file_name in parquet_files if \"hourly\" in file_name]\n",
    "hourly_files"
   ]
  },
  {
   "cell_type": "markdown",
   "metadata": {
    "application/vnd.databricks.v1+cell": {
     "cellMetadata": {
      "byteLimit": 2048000,
      "rowLimit": 10000
     },
     "inputWidgets": {},
     "nuid": "b9bda84d-f375-4753-9ccb-75e903a5bc3b",
     "showTitle": false,
     "tableResultSettingsMap": {},
     "title": ""
    }
   },
   "source": [
    "### Create a new col with local time\n",
    "### Write hourly dfs to gold"
   ]
  },
  {
   "cell_type": "code",
   "execution_count": 0,
   "metadata": {
    "application/vnd.databricks.v1+cell": {
     "cellMetadata": {
      "byteLimit": 2048000,
      "rowLimit": 10000
     },
     "inputWidgets": {},
     "nuid": "7d2385ff-bca1-4924-982e-b0950968427b",
     "showTitle": false,
     "tableResultSettingsMap": {},
     "title": ""
    },
    "tags": [],
    "trusted": true
   },
   "outputs": [
    {
     "output_type": "stream",
     "name": "stdout",
     "output_type": "stream",
     "text": [
      "+---------+-----------+------------------+--------------------+-------------------------+-------------+----+-------+--------+----------+------------+-----------------+------------------+------------------+------------------+------------------+------------------+-------------------+-------------------+------------------+--------+-----+---+----+-------+-------------+---------+-------------------+----------+--------------+-------------------+\n| latitude|  longitude|    temperature_2m|relative_humidity_2m|precipitation_probability|precipitation|rain|showers|snowfall|snow_depth|weather_code|   wind_speed_10m|    wind_speed_80m|   wind_speed_120m|   wind_speed_180m|wind_direction_10m|wind_direction_80m|wind_direction_120m|wind_direction_180m|    wind_gusts_10m|    time|month|day|year|   city|      country|time_zone|           datetime| Unix_Time|offset_seconds|         Local_Time|\n+---------+-----------+------------------+--------------------+-------------------------+-------------+----+-------+--------+----------+------------+-----------------+------------------+------------------+------------------+------------------+------------------+-------------------+-------------------+------------------+--------+-----+---+----+-------+-------------+---------+-------------------+----------+--------------+-------------------+\n|47.594472|-122.348286|3.9835000038146973|                85.0|                     12.0|          0.0| 0.0|    0.0|     0.0|       0.0|         2.0|3.545588731765747|3.0758414268493652| 3.139463186264038|13.493998527526855| 336.0375061035156| 110.5561294555664|  110.5561294555664| 170.78904724121094|2.1600000858306885|13:00:00|   11|  6|2024|Seattle|United States|    -7:00|2024-11-06 13:00:00|1730898000|      -25200.0|2024-11-06 06:00:00|\n|47.594472|-122.348286| 4.483500003814697|                81.0|                     12.0|          0.0| 0.0|    0.0|     0.0|       0.0|         3.0|3.617955207824707|3.0758414268493652| 3.139463186264038|10.245779991149902| 5.710507392883301| 110.5561294555664|  110.5561294555664| 161.56495666503906|2.5199999809265137|14:00:00|   11|  6|2024|Seattle|United States|    -7:00|2024-11-06 14:00:00|1730901600|      -25200.0|2024-11-06 07:00:00|\n|47.594472|-122.348286| 4.933500289916992|                78.0|                     12.0|          0.0| 0.0|    0.0|     0.0|       0.0|         3.0|4.213691711425781|2.9686360359191895| 3.139463186264038| 7.895416259765625|19.983198165893555|104.03627014160156|  110.5561294555664|  155.7722625732422| 2.879999876022339|15:00:00|   11|  6|2024|Seattle|United States|    -7:00|2024-11-06 15:00:00|1730905200|      -25200.0|2024-11-06 08:00:00|\n|47.594472|-122.348286| 5.333499908447266|                74.0|                     12.0|          0.0| 0.0|    0.0|     0.0|       0.0|         3.0|4.829906940460205| 2.545584201812744|2.6750497817993164|6.6380720138549805|26.564985275268555| 98.13002014160156| 105.94546508789062| 167.47120666503906|2.5199999809265137|16:00:00|   11|  6|2024|Seattle|United States|    -7:00|2024-11-06 16:00:00|1730908800|      -25200.0|2024-11-06 09:00:00|\n|47.594472|-122.348286|5.7835001945495605|                71.0|                     12.0|          0.0| 0.0|    0.0|     0.0|       0.0|         3.0|5.315336227416992|1.7999999523162842|1.8372317552566528| 6.989935398101807|  28.3006591796875|              90.0|               90.0| 191.88864135742188|1.7999999523162842|17:00:00|   11|  6|2024|Seattle|United States|    -7:00|2024-11-06 17:00:00|1730912400|      -25200.0|2024-11-06 10:00:00|\n+---------+-----------+------------------+--------------------+-------------------------+-------------+----+-------+--------+----------+------------+-----------------+------------------+------------------+------------------+------------------+------------------+-------------------+-------------------+------------------+--------+-----+---+----+-------+-------------+---------+-------------------+----------+--------------+-------------------+\nonly showing top 5 rows\n\n+---------+---------+-------------------+--------------------+-------------+----+--------+------------------+------------------+------------------+-------------------+------------------+------------------+-----------+-------------------+------------------+------------------+--------+---+----+-----+------+-------+---------+-------------------+----------+--------------+-------------------+\n| latitude|longitude|     temperature_2m|relative_humidity_2m|precipitation|rain|snowfall|    wind_speed_10m|   wind_speed_100m|wind_direction_10m|wind_direction_100m|    wind_gusts_10m|      dew_point_2m|cloud_cover|shortwave_radiation|      pressure_msl|  surface_pressure|    time|day|year|month|  city|country|time_zone|           datetime| Unix_Time|offset_seconds|         Local_Time|\n+---------+---------+-------------------+--------------------+-------------+----+--------+------------------+------------------+------------------+-------------------+------------------+------------------+-----------+-------------------+------------------+------------------+--------+---+----+-----+------+-------+---------+-------------------+----------+--------------+-------------------+\n|52.520008|13.404954| -7.011000156402588|   95.48011016845703|          0.0| 0.0|     0.0|11.592894554138184|26.829059600830078|154.23072814941406|  168.3885498046875| 18.35999870300293|-7.611000061035156|       92.0|                0.0|            1009.5|1004.5902099609375|23:00:00| 31|2014|    1|Berlin|Germany|    +1:00|2014-01-31 23:00:00|1391209200|        3600.0|2014-02-01 00:00:00|\n|52.520008|13.404954| -6.761000156402588|   94.75556945800781|          0.0| 0.0|     0.0|11.165804862976074|26.277530670166016| 159.2276611328125| 170.53775024414062|16.919998168945312|-7.460999965667725|       78.0|                0.0|1010.0999755859375|1005.1917114257812|22:00:00| 31|2014|    1|Berlin|Germany|    +1:00|2014-01-31 22:00:00|1391205600|        3600.0|2014-01-31 23:00:00|\n|52.520008|13.404954| -6.210999965667725|   94.41584014892578|          0.0| 0.0|     0.0| 9.422101020812988|23.469127655029297|173.41815185546875| 184.39862060546875| 15.84000015258789|-6.960999965667725|        1.0|                0.0|1010.2000122070312|  1005.30126953125|21:00:00| 31|2014|    1|Berlin|Germany|    +1:00|2014-01-31 21:00:00|1391202000|        3600.0|2014-01-31 22:00:00|\n|52.520008|13.404954| -5.160999774932861|   93.74652862548828|          0.0| 0.0|     0.0|  8.70723819732666|21.791152954101562| 172.8750762939453|  187.5945587158203| 14.75999927520752|-6.011000156402588|        1.0|                0.0|1010.2999877929688|1005.4201049804688|20:00:00| 31|2014|    1|Berlin|Germany|    +1:00|2014-01-31 20:00:00|1391198400|        3600.0|2014-01-31 21:00:00|\n|52.520008|13.404954|-3.7109999656677246|   93.11553192138672|          0.0| 0.0|     0.0| 9.007196426391602| 20.87068748474121|182.29055786132812| 194.99513244628906|14.399999618530273|-4.660999774932861|       13.0|                0.0|1010.5999755859375|1005.7447509765625|19:00:00| 31|2014|    1|Berlin|Germany|    +1:00|2014-01-31 19:00:00|1391194800|        3600.0|2014-01-31 20:00:00|\n+---------+---------+-------------------+--------------------+-------------+----+--------+------------------+------------------+------------------+-------------------+------------------+------------------+-----------+-------------------+------------------+------------------+--------+---+----+-----+------+-------+---------+-------------------+----------+--------------+-------------------+\nonly showing top 5 rows\n\n+---------+-----------+------------------+--------------------+-------------+----+-------+--------+-----------------+------------------+------------------+------------------+------------------+-------------------+------------------+--------+---+----+-----+------+-------------+---------+-------------------+----------+--------------+-------------------+\n| latitude|  longitude|    temperature_2m|relative_humidity_2m|precipitation|rain|showers|snowfall|   wind_speed_10m|    wind_speed_80m|   wind_speed_120m|wind_direction_10m|wind_direction_80m|wind_direction_120m|    wind_gusts_10m|    time|day|year|month|  city|      country|time_zone|           datetime| Unix_Time|offset_seconds|         Local_Time|\n+---------+-----------+------------------+--------------------+-------------+----+-------+--------+-----------------+------------------+------------------+------------------+------------------+-------------------+------------------+--------+---+----+-----+------+-------------+---------+-------------------+----------+--------------+-------------------+\n|39.676938|-104.977053| 4.319499969482422|                43.0|          0.0| 0.0|    0.0|     0.0|5.154415607452393| 6.214563369750977| 2.235089063644409|12.094738960266113|10.007925033569336|  9.462247848510742| 6.119999885559082|23:00:00| 31|2023|   12|Denver|United States|    -6:00|2023-12-31 23:00:00|1704063600|      -21600.0|2023-12-31 17:00:00|\n|39.676938|-104.977053| 4.819499969482422|                45.0|          0.0| 0.0|    0.0|     0.0|6.989935398101807| 7.771330833435059|5.1179351806640625| 11.88864517211914|13.392516136169434| 21.037588119506836| 7.920000076293945|22:00:00| 31|2023|   12|Denver|United States|    -6:00|2023-12-31 22:00:00|1704060000|      -21600.0|2023-12-31 16:00:00|\n|39.676938|-104.977053| 5.369499683380127|                45.0|          0.0| 0.0|    0.0|     0.0|6.608721733093262|  8.21715259552002| 7.237853527069092| 29.35765838623047|28.810697555541992| 23.962491989135742| 8.279999732971191|21:00:00| 31|2023|   12|Denver|United States|    -6:00|2023-12-31 21:00:00|1704056400|      -21600.0|2023-12-31 15:00:00|\n|39.676938|-104.977053| 5.069499969482422|                47.0|          0.0| 0.0|    0.0|     0.0|5.483356475830078|7.2894439697265625| 6.745419025421143|23.198617935180664|20.224945068359375|  29.35765838623047|10.079999923706055|20:00:00| 31|2023|   12|Denver|United States|    -6:00|2023-12-31 20:00:00|1704052800|      -21600.0|2023-12-31 14:00:00|\n|39.676938|-104.977053|3.9195001125335693|                52.0|          0.0| 0.0|    0.0|     0.0|5.014219284057617| 6.952754497528076| 5.608825206756592|21.037588119506836|21.250579833984375| 31.607454299926758| 7.920000076293945|19:00:00| 31|2023|   12|Denver|United States|    -6:00|2023-12-31 19:00:00|1704049200|      -21600.0|2023-12-31 13:00:00|\n+---------+-----------+------------------+--------------------+-------------+----+-------+--------+-----------------+------------------+------------------+------------------+------------------+-------------------+------------------+--------+---+----+-----+------+-------------+---------+-------------------+----------+--------------+-------------------+\nonly showing top 5 rows\n\n"
     ]
    }
   ],
   "source": [
    "from pyspark.sql.functions import col, from_unixtime, expr, split\n",
    "from pyspark.sql import functions as F\n",
    "\n",
    "for file_name in hourly_files:\n",
    "    \n",
    "    df_hourly = spark.read.parquet(f\"/mnt/{container_name}/{folder_name}{file_name}\")\n",
    "    \n",
    "    df_hourly = df_hourly.join(df_cities, on=['latitude', 'longitude'])\n",
    "    \n",
    "    \n",
    "    \n",
    "    # Combine year, month, day, and time into a single datetime string\n",
    "    df_with_datetime = df_hourly.withColumn(\n",
    "        \"datetime\",\n",
    "        F.concat_ws(\n",
    "            \" \",\n",
    "            F.concat_ws(\"-\", F.col(\"year\"), F.lpad(F.col(\"month\"), 2, \"0\"), F.lpad(F.col(\"day\"), 2, \"0\")),\n",
    "            F.col(\"time\")\n",
    "        )\n",
    "    )\n",
    "\n",
    "    # Convert the datetime string to UNIX timestamp\n",
    "    df_with_unix_time = df_with_datetime.withColumn(\n",
    "        \"Unix_Time\",\n",
    "        F.unix_timestamp(F.col(\"datetime\"), \"yyyy-MM-dd HH:mm:ss\")\n",
    "    )\n",
    "\n",
    "    \n",
    "    \n",
    "    # Split the offset into hours and minutes\n",
    "    local_df = df_with_unix_time.withColumn(\"offset_seconds\",\n",
    "        (split(col(\"time_zone\"), \":\")[0].cast(\"int\") * 3600) +  # Hours to seconds\n",
    "        (split(col(\"time_zone\"), \":\")[1].cast(\"int\") * 60 * expr(\"sign(split(time_zone, ':')[0])\"))  # Minutes to seconds, adjust sign\n",
    "    )\n",
    "\n",
    "    # Convert UTC time to local time\n",
    "    local_df = local_df.withColumn(\n",
    "        \"Local_Time\",\n",
    "        from_unixtime(col(\"Unix_Time\") + col(\"offset_seconds\"))\n",
    "    )\n",
    "\n",
    "    \n",
    "    local_df.show(5)\n",
    "    \n",
    "    #local_df.write.mode(\"overwrite\").partitionBy(\"city\", \"year\").parquet(f\"/mnt/{container_name}/Gold/{file_name}\")\n",
    "    local_df.write.mode(\"overwrite\").parquet(f\"/mnt/{container_name}/Gold/{file_name}\")"
   ]
  },
  {
   "cell_type": "markdown",
   "metadata": {
    "application/vnd.databricks.v1+cell": {
     "cellMetadata": {
      "byteLimit": 2048000,
      "rowLimit": 10000
     },
     "inputWidgets": {},
     "nuid": "bba9272c-bd8b-4de7-ab1d-3021d92d3f4c",
     "showTitle": false,
     "tableResultSettingsMap": {},
     "title": ""
    },
    "tags": []
   },
   "source": [
    "from pyspark.sql.functions import col, from_unixtime, expr, split\n",
    "from pyspark.sql import functions as F\n",
    "\n",
    "for file_name in hourly_files:\n",
    "    \n",
    "    df_hourly = spark.read.parquet(f\"s3://{bucket_name}/{folder_name}{file_name}\")\n",
    "    \n",
    "    df_hourly = df_hourly.join(df_cities, on=['latitude', 'longitude'])\n",
    "    \n",
    "    \n",
    "    print(df_hourly.printSchema())\n",
    "    \n",
    "    df_hourly.show(5)\n",
    "    \n",
    "    #df_hourly.write.mode(\"overwrite\").partitionBy(\"city\", \"year\").parquet(f\"s3://{bucket_name}/Gold/{file_name}\")"
   ]
  },
  {
   "cell_type": "code",
   "execution_count": 0,
   "metadata": {
    "application/vnd.databricks.v1+cell": {
     "cellMetadata": {
      "byteLimit": 2048000,
      "rowLimit": 10000
     },
     "inputWidgets": {},
     "nuid": "91fead6a-4247-4557-90c0-c889a118a3f3",
     "showTitle": false,
     "tableResultSettingsMap": {},
     "title": ""
    }
   },
   "outputs": [],
   "source": []
  }
 ],
 "metadata": {
  "application/vnd.databricks.v1+notebook": {
   "computePreferences": null,
   "dashboards": [],
   "environmentMetadata": null,
   "language": "python",
   "notebookMetadata": {
    "pythonIndentUnit": 4
   },
   "notebookName": "gold_layer.ipynb",
   "widgets": {}
  },
  "kernelspec": {
   "display_name": "Glue PySpark",
   "language": "python",
   "name": "glue_pyspark"
  },
  "language_info": {
   "name": "python"
  }
 },
 "nbformat": 4,
 "nbformat_minor": 0
}