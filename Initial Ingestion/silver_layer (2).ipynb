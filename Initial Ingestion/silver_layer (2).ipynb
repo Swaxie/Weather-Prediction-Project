{
 "cells": [
  {
   "cell_type": "markdown",
   "metadata": {
    "application/vnd.databricks.v1+cell": {
     "cellMetadata": {
      "byteLimit": 2048000,
      "rowLimit": 10000
     },
     "inputWidgets": {},
     "nuid": "00546e45-7e6d-499a-a238-1ecbc8b8c929",
     "showTitle": false,
     "tableResultSettingsMap": {},
     "title": ""
    }
   },
   "source": [
    "## Reading in Files"
   ]
  },
  {
   "cell_type": "code",
   "execution_count": 0,
   "metadata": {
    "application/vnd.databricks.v1+cell": {
     "cellMetadata": {
      "byteLimit": 2048000,
      "rowLimit": 10000
     },
     "inputWidgets": {},
     "nuid": "08b39f62-0e23-402a-ab76-4b49498963a5",
     "showTitle": false,
     "tableResultSettingsMap": {},
     "title": ""
    },
    "tags": [],
    "trusted": true
   },
   "outputs": [],
   "source": [
    "from pyspark.sql.functions import split, col\n",
    "from functools import reduce\n",
    "\n",
    "import pyspark.pandas as ps\n",
    "\n",
    "print('done')"
   ]
  },
  {
   "cell_type": "code",
   "execution_count": 0,
   "metadata": {
    "application/vnd.databricks.v1+cell": {
     "cellMetadata": {
      "byteLimit": 2048000,
      "rowLimit": 10000
     },
     "inputWidgets": {},
     "nuid": "29b00972-a69f-4165-b2e6-792430124407",
     "showTitle": false,
     "tableResultSettingsMap": {},
     "title": ""
    }
   },
   "outputs": [],
   "source": [
    "display(dbutils.fs.ls('/mnt/de-upskilling-weather/Gold'))"
   ]
  },
  {
   "cell_type": "markdown",
   "metadata": {
    "application/vnd.databricks.v1+cell": {
     "cellMetadata": {
      "byteLimit": 2048000,
      "rowLimit": 10000
     },
     "inputWidgets": {},
     "nuid": "6ebc2280-01ec-49dc-b29b-91ff76e7584b",
     "showTitle": false,
     "tableResultSettingsMap": {},
     "title": ""
    }
   },
   "source": [
    "#### 7 day daily forecast"
   ]
  },
  {
   "cell_type": "code",
   "execution_count": 0,
   "metadata": {
    "application/vnd.databricks.v1+cell": {
     "cellMetadata": {
      "byteLimit": 2048000,
      "rowLimit": 10000
     },
     "inputWidgets": {},
     "nuid": "9758a111-07ee-4edd-a71f-8196f4887dab",
     "showTitle": false,
     "tableResultSettingsMap": {},
     "title": ""
    },
    "tags": [],
    "trusted": true
   },
   "outputs": [],
   "source": [
    "seven_day_daily = spark.read.parquet('/mnt/de-upskilling-weather/LandingZone/7day_daily_forecast.parquet/')"
   ]
  },
  {
   "cell_type": "code",
   "execution_count": 0,
   "metadata": {
    "application/vnd.databricks.v1+cell": {
     "cellMetadata": {
      "byteLimit": 2048000,
      "rowLimit": 10000
     },
     "inputWidgets": {},
     "nuid": "041f8be8-1881-46db-b6df-3dcb16592f5f",
     "showTitle": false,
     "tableResultSettingsMap": {},
     "title": ""
    },
    "tags": [],
    "trusted": true
   },
   "outputs": [],
   "source": [
    "# removing time from date\n",
    "seven_day_daily = seven_day_daily.withColumn('date', split(col('date'), ' ')).withColumn('date', col('date')[0])"
   ]
  },
  {
   "cell_type": "code",
   "execution_count": 0,
   "metadata": {
    "application/vnd.databricks.v1+cell": {
     "cellMetadata": {
      "byteLimit": 2048000,
      "rowLimit": 10000
     },
     "inputWidgets": {},
     "nuid": "2ab17fbe-d483-4f3d-b3fc-9e93262f9db4",
     "showTitle": false,
     "tableResultSettingsMap": {},
     "title": ""
    },
    "tags": [],
    "trusted": true
   },
   "outputs": [],
   "source": [
    "# splitting date column\n",
    "seven_day_daily = seven_day_daily.withColumn('date', split(col('date'), '-'))\n",
    "seven_day_daily = seven_day_daily.withColumn('year', col('date')[0]).withColumn('month', col('date')[1]).withColumn('day', col('date')[2])\n",
    "seven_day_daily = seven_day_daily.withColumn('year', col('year').cast('int')).withColumn('month', col('month').cast('int')).withColumn('day', col('day').cast('int'))"
   ]
  },
  {
   "cell_type": "code",
   "execution_count": 0,
   "metadata": {
    "application/vnd.databricks.v1+cell": {
     "cellMetadata": {
      "byteLimit": 2048000,
      "rowLimit": 10000
     },
     "inputWidgets": {},
     "nuid": "d0a81289-1937-44a3-b72f-66090a63893d",
     "showTitle": false,
     "tableResultSettingsMap": {},
     "title": ""
    },
    "tags": [],
    "trusted": true
   },
   "outputs": [],
   "source": [
    "# dropping unnecessary columns\n",
    "seven_day_daily = seven_day_daily.drop('date', 'timezone')"
   ]
  },
  {
   "cell_type": "code",
   "execution_count": 0,
   "metadata": {
    "application/vnd.databricks.v1+cell": {
     "cellMetadata": {
      "byteLimit": 2048000,
      "rowLimit": 10000
     },
     "inputWidgets": {},
     "nuid": "7330c95e-b9ff-4b68-b74a-6278ffda4089",
     "showTitle": false,
     "tableResultSettingsMap": {},
     "title": ""
    },
    "tags": [],
    "trusted": true
   },
   "outputs": [],
   "source": [
    "seven_day_daily.write.mode('overwrite').partitionBy('year').parquet('/mnt/de-upskilling-weather/Silver/7day_daily_forecast.parquet/')\n",
    "print('done')"
   ]
  },
  {
   "cell_type": "markdown",
   "metadata": {
    "application/vnd.databricks.v1+cell": {
     "cellMetadata": {
      "byteLimit": 2048000,
      "rowLimit": 10000
     },
     "inputWidgets": {},
     "nuid": "961ce87f-19fc-4cc2-86b6-8aa4f39611d6",
     "showTitle": false,
     "tableResultSettingsMap": {},
     "title": ""
    }
   },
   "source": [
    "#### 7 day hourly forecast"
   ]
  },
  {
   "cell_type": "code",
   "execution_count": 0,
   "metadata": {
    "application/vnd.databricks.v1+cell": {
     "cellMetadata": {
      "byteLimit": 2048000,
      "rowLimit": 10000
     },
     "inputWidgets": {},
     "nuid": "99105626-5c1b-4589-9704-059f98d1ba5b",
     "showTitle": false,
     "tableResultSettingsMap": {},
     "title": ""
    },
    "tags": [],
    "trusted": true
   },
   "outputs": [],
   "source": [
    "seven_day_hourly = spark.read.parquet('/mnt/de-upskilling-weather/LandingZone/7day_hourly_forecast.parquet/')"
   ]
  },
  {
   "cell_type": "code",
   "execution_count": 0,
   "metadata": {
    "application/vnd.databricks.v1+cell": {
     "cellMetadata": {
      "byteLimit": 2048000,
      "rowLimit": 10000
     },
     "inputWidgets": {},
     "nuid": "60d60128-b8b7-48c1-86f4-a05296defec7",
     "showTitle": false,
     "tableResultSettingsMap": {},
     "title": ""
    },
    "tags": [],
    "trusted": true
   },
   "outputs": [],
   "source": [
    "#splitting timestamp and date\n",
    "seven_day_hourly = seven_day_hourly.withColumn('date', split(col('date'), ' ')).withColumn('time', col('date')[1]).withColumn('date', col('date')[0])"
   ]
  },
  {
   "cell_type": "code",
   "execution_count": 0,
   "metadata": {
    "application/vnd.databricks.v1+cell": {
     "cellMetadata": {
      "byteLimit": 2048000,
      "rowLimit": 10000
     },
     "inputWidgets": {},
     "nuid": "5816fa7f-fc40-4bcb-89c8-eac6f4c9d87a",
     "showTitle": false,
     "tableResultSettingsMap": {},
     "title": ""
    },
    "tags": [],
    "trusted": true
   },
   "outputs": [],
   "source": [
    "# splitting date column\n",
    "seven_day_hourly = seven_day_hourly.withColumn('date', split(col('date'), '-'))\n",
    "seven_day_hourly = seven_day_hourly.withColumn('year', col('date')[0]).withColumn('month', col('date')[1]).withColumn('day', col('date')[2])\n",
    "seven_day_hourly = seven_day_hourly.withColumn('year', col('year').cast('int')).withColumn('month', col('month').cast('int')).withColumn('day', col('day').cast('int'))\n",
    "display(seven_day_hourly)"
   ]
  },
  {
   "cell_type": "code",
   "execution_count": 0,
   "metadata": {
    "application/vnd.databricks.v1+cell": {
     "cellMetadata": {
      "byteLimit": 2048000,
      "rowLimit": 10000
     },
     "inputWidgets": {},
     "nuid": "a840e094-94f7-4b65-8138-a657c6aafae8",
     "showTitle": false,
     "tableResultSettingsMap": {},
     "title": ""
    },
    "tags": [],
    "trusted": true
   },
   "outputs": [],
   "source": [
    "# dropping unnecessary columns\n",
    "seven_day_hourly = seven_day_hourly.drop('date', 'timezone')\n",
    "display(seven_day_hourly)"
   ]
  },
  {
   "cell_type": "code",
   "execution_count": 0,
   "metadata": {
    "application/vnd.databricks.v1+cell": {
     "cellMetadata": {
      "byteLimit": 2048000,
      "rowLimit": 10000
     },
     "inputWidgets": {},
     "nuid": "b13a35d1-97f1-4126-bd51-c17ae8bef25d",
     "showTitle": false,
     "tableResultSettingsMap": {},
     "title": ""
    },
    "tags": [],
    "trusted": true
   },
   "outputs": [],
   "source": [
    "seven_day_hourly.write.mode('overwrite').partitionBy('year').parquet('/mnt/de-upskilling-weather/Silver/7day_hourly_forecast.parquet/')"
   ]
  },
  {
   "cell_type": "markdown",
   "metadata": {
    "application/vnd.databricks.v1+cell": {
     "cellMetadata": {
      "byteLimit": 2048000,
      "rowLimit": 10000
     },
     "inputWidgets": {},
     "nuid": "317afe0c-58f7-4bc8-9803-735b2fba0a83",
     "showTitle": false,
     "tableResultSettingsMap": {},
     "title": ""
    }
   },
   "source": [
    "#### Daily Historical Forecast"
   ]
  },
  {
   "cell_type": "code",
   "execution_count": 0,
   "metadata": {
    "application/vnd.databricks.v1+cell": {
     "cellMetadata": {
      "byteLimit": 2048000,
      "rowLimit": 10000
     },
     "inputWidgets": {},
     "nuid": "0355ffcc-31ba-4067-be35-58ec39cbe0c6",
     "showTitle": false,
     "tableResultSettingsMap": {},
     "title": ""
    },
    "tags": [],
    "trusted": true
   },
   "outputs": [],
   "source": [
    "daily_hist_forecast = spark.read.parquet('/mnt/de-upskilling-weather/LandingZone/daily_historical_forecast.parquet/')"
   ]
  },
  {
   "cell_type": "code",
   "execution_count": 0,
   "metadata": {
    "application/vnd.databricks.v1+cell": {
     "cellMetadata": {
      "byteLimit": 2048000,
      "rowLimit": 10000
     },
     "inputWidgets": {},
     "nuid": "1ee782c3-72e3-4519-b968-07f87331209c",
     "showTitle": false,
     "tableResultSettingsMap": {},
     "title": ""
    },
    "tags": [],
    "trusted": true
   },
   "outputs": [],
   "source": [
    "# removing timestamp\n",
    "daily_hist_forecast = daily_hist_forecast.withColumn('date', split(col('date'), ' ')).withColumn('date', col('date')[0])\n",
    "\n",
    "# splitting date column\n",
    "daily_hist_forecast = daily_hist_forecast.withColumn('date', split(col('date'), '-'))\n",
    "daily_hist_forecast = daily_hist_forecast.withColumn('year', col('date')[0]).withColumn('month', col('date')[1]).withColumn('day', col('date')[2])\n",
    "daily_hist_forecast = daily_hist_forecast.withColumn('year', col('year').cast('int')).withColumn('month', col('month').cast('int')).withColumn('day', col('day').cast('int'))\n",
    "\n",
    "daily_hist_forecast = daily_hist_forecast.drop('timezone', 'date', 'weather_code')\n",
    "\n",
    "display(daily_hist_forecast)"
   ]
  },
  {
   "cell_type": "code",
   "execution_count": 0,
   "metadata": {
    "application/vnd.databricks.v1+cell": {
     "cellMetadata": {
      "byteLimit": 2048000,
      "rowLimit": 10000
     },
     "inputWidgets": {},
     "nuid": "64cb38a7-3307-46c2-a37f-c067a08caf32",
     "showTitle": false,
     "tableResultSettingsMap": {},
     "title": ""
    },
    "tags": [],
    "trusted": true
   },
   "outputs": [],
   "source": [
    "daily_hist_forecast.write.mode('overwrite').partitionBy('year').parquet('/mnt/de-upskilling-weather/Silver/daily_historical_forecast.parquet/')\n",
    "print('done')"
   ]
  },
  {
   "cell_type": "markdown",
   "metadata": {
    "application/vnd.databricks.v1+cell": {
     "cellMetadata": {
      "byteLimit": 2048000,
      "rowLimit": 10000
     },
     "inputWidgets": {},
     "nuid": "223947bd-e157-4bdf-98b2-b07ee78fdbb7",
     "showTitle": false,
     "tableResultSettingsMap": {},
     "title": ""
    }
   },
   "source": [
    "#### Daily Historical"
   ]
  },
  {
   "cell_type": "code",
   "execution_count": 0,
   "metadata": {
    "application/vnd.databricks.v1+cell": {
     "cellMetadata": {
      "byteLimit": 2048000,
      "rowLimit": 10000
     },
     "inputWidgets": {},
     "nuid": "8ef4b593-228a-40a1-901d-3ace6eb62c00",
     "showTitle": false,
     "tableResultSettingsMap": {},
     "title": ""
    }
   },
   "outputs": [],
   "source": [
    "daily_hist = spark.read.parquet('/mnt/de-upskilling-weather/LandingZone/daily_historical.parquet/')"
   ]
  },
  {
   "cell_type": "code",
   "execution_count": 0,
   "metadata": {
    "application/vnd.databricks.v1+cell": {
     "cellMetadata": {
      "byteLimit": 2048000,
      "rowLimit": 10000
     },
     "inputWidgets": {},
     "nuid": "12cd7eca-13d6-474e-a674-e7f33342aa8e",
     "showTitle": false,
     "tableResultSettingsMap": {},
     "title": ""
    },
    "tags": [],
    "trusted": true
   },
   "outputs": [],
   "source": [
    "# dropping null values \n",
    "daily_hist = daily_hist.dropna()\n",
    "\n",
    "# removing timestamp\n",
    "daily_hist = daily_hist.withColumn('date', split(col('date'), ' ')).withColumn('date', col('date')[0])\n",
    "\n",
    "# splitting date column\n",
    "daily_hist = daily_hist.withColumn('date', split(col('date'), '-'))\n",
    "daily_hist = daily_hist.withColumn('year', col('date')[0]).withColumn('month', col('date')[1]).withColumn('day', col('date')[2])\n",
    "daily_hist = daily_hist.withColumn('year', col('year').cast('int')).withColumn('month', col('month').cast('int')).withColumn('day', col('day').cast('int'))\n",
    "\n",
    "\n",
    "# dropping columns\n",
    "daily_hist = daily_hist.drop('timezone', 'date')\n",
    "display(daily_hist)"
   ]
  },
  {
   "cell_type": "code",
   "execution_count": 0,
   "metadata": {
    "application/vnd.databricks.v1+cell": {
     "cellMetadata": {
      "byteLimit": 2048000,
      "rowLimit": 10000
     },
     "inputWidgets": {},
     "nuid": "0fd52fd3-abad-4b8c-bb74-95ddade817a4",
     "showTitle": false,
     "tableResultSettingsMap": {},
     "title": ""
    }
   },
   "outputs": [],
   "source": [
    "daily_hist.write.mode('overwrite').partitionBy('year').parquet('/mnt/de-upskilling-weather/Silver/daily_historical.parquet/')\n",
    "print('done')\n"
   ]
  },
  {
   "cell_type": "markdown",
   "metadata": {
    "application/vnd.databricks.v1+cell": {
     "cellMetadata": {
      "byteLimit": 2048000,
      "rowLimit": 10000
     },
     "inputWidgets": {},
     "nuid": "57f7ef96-941c-4bcd-b044-0214252a21c2",
     "showTitle": false,
     "tableResultSettingsMap": {},
     "title": ""
    }
   },
   "source": [
    "#### Hourly Historical Forecast"
   ]
  },
  {
   "cell_type": "code",
   "execution_count": 0,
   "metadata": {
    "application/vnd.databricks.v1+cell": {
     "cellMetadata": {
      "byteLimit": 2048000,
      "rowLimit": 10000
     },
     "inputWidgets": {},
     "nuid": "3d7c23f1-72db-42f5-b9fa-401d8a6ccb32",
     "showTitle": false,
     "tableResultSettingsMap": {},
     "title": ""
    },
    "tags": [],
    "trusted": true
   },
   "outputs": [],
   "source": [
    "hourly_hist_forecast = spark.read.parquet('/mnt/de-upskilling-weather/LandingZone/hourly_historical_forecast.parquet/')"
   ]
  },
  {
   "cell_type": "code",
   "execution_count": 0,
   "metadata": {
    "application/vnd.databricks.v1+cell": {
     "cellMetadata": {
      "byteLimit": 2048000,
      "rowLimit": 10000
     },
     "inputWidgets": {},
     "nuid": "4bbc60e2-fe4b-4f25-986c-11575c1ed783",
     "showTitle": false,
     "tableResultSettingsMap": {},
     "title": ""
    },
    "tags": [],
    "trusted": true
   },
   "outputs": [],
   "source": [
    "# splitting timestamp and date\n",
    "hourly_hist_forecast = hourly_hist_forecast.withColumn('date', split(col('date'), ' ')).withColumn('time', col('date')[1]).withColumn('date', col('date')[0])\n",
    "\n",
    "# splitting date column\n",
    "hourly_hist_forecast = hourly_hist_forecast.withColumn('date', split(col('date'), '-'))\n",
    "hourly_hist_forecast = hourly_hist_forecast.withColumn('year', col('date')[0]).withColumn('month', col('date')[1]).withColumn('day', col('date')[2])\n",
    "hourly_hist_forecast = hourly_hist_forecast.withColumn('year', col('year').cast('int')).withColumn('month', col('month').cast('int')).withColumn('day', col('day').cast('int'))\n",
    "\n",
    "# dropping unnecessary columns\n",
    "hourly_hist_forecast = hourly_hist_forecast.drop('date', 'timezone', 'wind_direction_180m', 'wind_speed_180m', 'weather_code', 'snow_depth')\n",
    "\n",
    "display(hourly_hist_forecast)"
   ]
  },
  {
   "cell_type": "code",
   "execution_count": 0,
   "metadata": {
    "application/vnd.databricks.v1+cell": {
     "cellMetadata": {
      "byteLimit": 2048000,
      "rowLimit": 10000
     },
     "inputWidgets": {},
     "nuid": "c232adfa-b05c-48ac-9af8-4e12ba16cc9f",
     "showTitle": false,
     "tableResultSettingsMap": {},
     "title": ""
    },
    "tags": [],
    "trusted": true
   },
   "outputs": [],
   "source": [
    "hourly_hist_forecast.write.mode('overwrite').partitionBy('year', 'month').parquet('/mnt/de-upskilling-weather/Silver/hourly_historical_forecast.parquet/')"
   ]
  },
  {
   "cell_type": "markdown",
   "metadata": {
    "application/vnd.databricks.v1+cell": {
     "cellMetadata": {
      "byteLimit": 2048000,
      "rowLimit": 10000
     },
     "inputWidgets": {},
     "nuid": "3044ec47-ec11-4184-93cd-42aba6817cfb",
     "showTitle": false,
     "tableResultSettingsMap": {},
     "title": ""
    }
   },
   "source": [
    "#### Hourly Historical"
   ]
  },
  {
   "cell_type": "code",
   "execution_count": 0,
   "metadata": {
    "application/vnd.databricks.v1+cell": {
     "cellMetadata": {
      "byteLimit": 2048000,
      "rowLimit": 10000
     },
     "inputWidgets": {},
     "nuid": "d79a1190-e6b7-4509-ab09-71175f306bae",
     "showTitle": false,
     "tableResultSettingsMap": {},
     "title": ""
    },
    "tags": [],
    "trusted": true
   },
   "outputs": [],
   "source": [
    "hourly_hist = spark.read.parquet('/mnt/de-upskilling-weather/LandingZone/hourly_historical.parquet/')"
   ]
  },
  {
   "cell_type": "code",
   "execution_count": 0,
   "metadata": {
    "application/vnd.databricks.v1+cell": {
     "cellMetadata": {
      "byteLimit": 2048000,
      "rowLimit": 10000
     },
     "inputWidgets": {},
     "nuid": "cd6b8514-40e3-412f-9e9e-4591af3e695f",
     "showTitle": false,
     "tableResultSettingsMap": {},
     "title": ""
    },
    "tags": [],
    "trusted": true
   },
   "outputs": [],
   "source": [
    "hourly_hist = hourly_hist.drop('snow_depth', 'weather_code')\n",
    "hourly_hist = hourly_hist.dropna()\n",
    "\n",
    "# splitting timestamp and date\n",
    "hourly_hist = hourly_hist.withColumn('date', split(col('date'), ' ')).withColumn('time', col('date')[1]).withColumn('date', col('date')[0])\n",
    "\n",
    "# splitting date column\n",
    "hourly_hist = hourly_hist.withColumn('date', split(col('date'), '-'))\n",
    "hourly_hist = hourly_hist.withColumn('year', col('date')[0]).withColumn('month', col('date')[1]).withColumn('day', col('date')[2])\n",
    "hourly_hist = hourly_hist.withColumn('year', col('year').cast('int')).withColumn('month', col('month').cast('int')).withColumn('day', col('day').cast('int'))\n",
    "\n",
    "# dropping unnecessary columns\n",
    "hourly_hist = hourly_hist.drop('date', 'timezone')\n",
    "hourly_hist = hourly_hist.dropna()\n",
    "\n",
    "display(hourly_hist)"
   ]
  },
  {
   "cell_type": "code",
   "execution_count": 0,
   "metadata": {
    "application/vnd.databricks.v1+cell": {
     "cellMetadata": {
      "byteLimit": 2048000,
      "rowLimit": 10000
     },
     "inputWidgets": {},
     "nuid": "32328492-67b3-441b-acac-ada5a1d84564",
     "showTitle": false,
     "tableResultSettingsMap": {},
     "title": ""
    },
    "tags": [],
    "trusted": true
   },
   "outputs": [],
   "source": [
    "hourly_hist.write.mode('overwrite').partitionBy('year', 'month').parquet('/mnt/de-upskilling-weather/Silver/hourly_historical.parquet/')\n",
    "print('done')"
   ]
  }
 ],
 "metadata": {
  "application/vnd.databricks.v1+notebook": {
   "computePreferences": null,
   "dashboards": [],
   "environmentMetadata": null,
   "language": "python",
   "notebookMetadata": {
    "pythonIndentUnit": 4
   },
   "notebookName": "silver_layer",
   "widgets": {}
  },
  "kernelspec": {
   "display_name": "Glue PySpark",
   "language": "python",
   "name": "glue_pyspark"
  },
  "language_info": {
   "name": "python"
  }
 },
 "nbformat": 4,
 "nbformat_minor": 0
}